{
  "nbformat": 4,
  "nbformat_minor": 0,
  "metadata": {
    "colab": {
      "provenance": [],
      "toc_visible": true,
      "authorship_tag": "ABX9TyPoKKoZSYf7MgievDMDWQWS"
    },
    "kernelspec": {
      "name": "python3",
      "display_name": "Python 3"
    },
    "language_info": {
      "name": "python"
    }
  },
  "cells": [
    {
      "cell_type": "markdown",
      "source": [
        "#1 - Modelo descritivo: Análise exploratória e agrupamento de dados"
      ],
      "metadata": {
        "id": "ryvjVntjweRb"
      }
    },
    {
      "cell_type": "code",
      "execution_count": null,
      "metadata": {
        "id": "kfXZl2lpKYMS"
      },
      "outputs": [],
      "source": [
        "import pandas as pd\n",
        "import statistics\n",
        "import numpy as np\n",
        "import matplotlib.pyplot as plt\n",
        "import seaborn as sns\n"
      ]
    },
    {
      "cell_type": "code",
      "source": [
        "import chardet\n",
        "with open('dataset.csv', 'rb') as rawdata:\n",
        "    result = chardet.detect(rawdata.read(100000))\n",
        "result"
      ],
      "metadata": {
        "colab": {
          "base_uri": "https://localhost:8080/"
        },
        "id": "AEkkbc4VJkk8",
        "outputId": "7932a14e-75d3-449b-de0a-1ff777c33b23"
      },
      "execution_count": null,
      "outputs": [
        {
          "output_type": "execute_result",
          "data": {
            "text/plain": [
              "{'encoding': 'ISO-8859-1', 'confidence': 0.73, 'language': ''}"
            ]
          },
          "metadata": {},
          "execution_count": 716
        }
      ]
    },
    {
      "cell_type": "code",
      "source": [
        "dados = pd.read_csv('dataset.csv',encoding='ISO-8859-1')\n",
        "dados.head()"
      ],
      "metadata": {
        "colab": {
          "base_uri": "https://localhost:8080/",
          "height": 206
        },
        "id": "I71H3j7VJsSN",
        "outputId": "1ebe50ba-4a12-4b72-81dd-72d0aae50d59"
      },
      "execution_count": null,
      "outputs": [
        {
          "output_type": "execute_result",
          "data": {
            "text/plain": [
              "   Rank in 2022                 Country  2000  2007  2014  2022  \\\n",
              "0             1                 Belarus   5.0   5.0   5.0   5.0   \n",
              "1             1  Bosnia and Herzegovina   9.3   6.6   5.0   5.0   \n",
              "2             1                   Chile   5.0   5.0   5.0   5.0   \n",
              "3             1                   China  13.3   7.8   5.0   5.0   \n",
              "4             1                 Croatia   5.0   5.0   5.0   5.0   \n",
              "\n",
              "   Absolute change  Percent change  \n",
              "0              0.0             0.0  \n",
              "1              0.0             0.0  \n",
              "2              0.0             0.0  \n",
              "3              0.0             0.0  \n",
              "4              0.0             0.0  "
            ],
            "text/html": [
              "\n",
              "  <div id=\"df-4ccf68a6-754c-4c20-a867-8f2cfda5fec7\">\n",
              "    <div class=\"colab-df-container\">\n",
              "      <div>\n",
              "<style scoped>\n",
              "    .dataframe tbody tr th:only-of-type {\n",
              "        vertical-align: middle;\n",
              "    }\n",
              "\n",
              "    .dataframe tbody tr th {\n",
              "        vertical-align: top;\n",
              "    }\n",
              "\n",
              "    .dataframe thead th {\n",
              "        text-align: right;\n",
              "    }\n",
              "</style>\n",
              "<table border=\"1\" class=\"dataframe\">\n",
              "  <thead>\n",
              "    <tr style=\"text-align: right;\">\n",
              "      <th></th>\n",
              "      <th>Rank in 2022</th>\n",
              "      <th>Country</th>\n",
              "      <th>2000</th>\n",
              "      <th>2007</th>\n",
              "      <th>2014</th>\n",
              "      <th>2022</th>\n",
              "      <th>Absolute change</th>\n",
              "      <th>Percent change</th>\n",
              "    </tr>\n",
              "  </thead>\n",
              "  <tbody>\n",
              "    <tr>\n",
              "      <th>0</th>\n",
              "      <td>1</td>\n",
              "      <td>Belarus</td>\n",
              "      <td>5.0</td>\n",
              "      <td>5.0</td>\n",
              "      <td>5.0</td>\n",
              "      <td>5.0</td>\n",
              "      <td>0.0</td>\n",
              "      <td>0.0</td>\n",
              "    </tr>\n",
              "    <tr>\n",
              "      <th>1</th>\n",
              "      <td>1</td>\n",
              "      <td>Bosnia and Herzegovina</td>\n",
              "      <td>9.3</td>\n",
              "      <td>6.6</td>\n",
              "      <td>5.0</td>\n",
              "      <td>5.0</td>\n",
              "      <td>0.0</td>\n",
              "      <td>0.0</td>\n",
              "    </tr>\n",
              "    <tr>\n",
              "      <th>2</th>\n",
              "      <td>1</td>\n",
              "      <td>Chile</td>\n",
              "      <td>5.0</td>\n",
              "      <td>5.0</td>\n",
              "      <td>5.0</td>\n",
              "      <td>5.0</td>\n",
              "      <td>0.0</td>\n",
              "      <td>0.0</td>\n",
              "    </tr>\n",
              "    <tr>\n",
              "      <th>3</th>\n",
              "      <td>1</td>\n",
              "      <td>China</td>\n",
              "      <td>13.3</td>\n",
              "      <td>7.8</td>\n",
              "      <td>5.0</td>\n",
              "      <td>5.0</td>\n",
              "      <td>0.0</td>\n",
              "      <td>0.0</td>\n",
              "    </tr>\n",
              "    <tr>\n",
              "      <th>4</th>\n",
              "      <td>1</td>\n",
              "      <td>Croatia</td>\n",
              "      <td>5.0</td>\n",
              "      <td>5.0</td>\n",
              "      <td>5.0</td>\n",
              "      <td>5.0</td>\n",
              "      <td>0.0</td>\n",
              "      <td>0.0</td>\n",
              "    </tr>\n",
              "  </tbody>\n",
              "</table>\n",
              "</div>\n",
              "      <button class=\"colab-df-convert\" onclick=\"convertToInteractive('df-4ccf68a6-754c-4c20-a867-8f2cfda5fec7')\"\n",
              "              title=\"Convert this dataframe to an interactive table.\"\n",
              "              style=\"display:none;\">\n",
              "        \n",
              "  <svg xmlns=\"http://www.w3.org/2000/svg\" height=\"24px\"viewBox=\"0 0 24 24\"\n",
              "       width=\"24px\">\n",
              "    <path d=\"M0 0h24v24H0V0z\" fill=\"none\"/>\n",
              "    <path d=\"M18.56 5.44l.94 2.06.94-2.06 2.06-.94-2.06-.94-.94-2.06-.94 2.06-2.06.94zm-11 1L8.5 8.5l.94-2.06 2.06-.94-2.06-.94L8.5 2.5l-.94 2.06-2.06.94zm10 10l.94 2.06.94-2.06 2.06-.94-2.06-.94-.94-2.06-.94 2.06-2.06.94z\"/><path d=\"M17.41 7.96l-1.37-1.37c-.4-.4-.92-.59-1.43-.59-.52 0-1.04.2-1.43.59L10.3 9.45l-7.72 7.72c-.78.78-.78 2.05 0 2.83L4 21.41c.39.39.9.59 1.41.59.51 0 1.02-.2 1.41-.59l7.78-7.78 2.81-2.81c.8-.78.8-2.07 0-2.86zM5.41 20L4 18.59l7.72-7.72 1.47 1.35L5.41 20z\"/>\n",
              "  </svg>\n",
              "      </button>\n",
              "      \n",
              "  <style>\n",
              "    .colab-df-container {\n",
              "      display:flex;\n",
              "      flex-wrap:wrap;\n",
              "      gap: 12px;\n",
              "    }\n",
              "\n",
              "    .colab-df-convert {\n",
              "      background-color: #E8F0FE;\n",
              "      border: none;\n",
              "      border-radius: 50%;\n",
              "      cursor: pointer;\n",
              "      display: none;\n",
              "      fill: #1967D2;\n",
              "      height: 32px;\n",
              "      padding: 0 0 0 0;\n",
              "      width: 32px;\n",
              "    }\n",
              "\n",
              "    .colab-df-convert:hover {\n",
              "      background-color: #E2EBFA;\n",
              "      box-shadow: 0px 1px 2px rgba(60, 64, 67, 0.3), 0px 1px 3px 1px rgba(60, 64, 67, 0.15);\n",
              "      fill: #174EA6;\n",
              "    }\n",
              "\n",
              "    [theme=dark] .colab-df-convert {\n",
              "      background-color: #3B4455;\n",
              "      fill: #D2E3FC;\n",
              "    }\n",
              "\n",
              "    [theme=dark] .colab-df-convert:hover {\n",
              "      background-color: #434B5C;\n",
              "      box-shadow: 0px 1px 3px 1px rgba(0, 0, 0, 0.15);\n",
              "      filter: drop-shadow(0px 1px 2px rgba(0, 0, 0, 0.3));\n",
              "      fill: #FFFFFF;\n",
              "    }\n",
              "  </style>\n",
              "\n",
              "      <script>\n",
              "        const buttonEl =\n",
              "          document.querySelector('#df-4ccf68a6-754c-4c20-a867-8f2cfda5fec7 button.colab-df-convert');\n",
              "        buttonEl.style.display =\n",
              "          google.colab.kernel.accessAllowed ? 'block' : 'none';\n",
              "\n",
              "        async function convertToInteractive(key) {\n",
              "          const element = document.querySelector('#df-4ccf68a6-754c-4c20-a867-8f2cfda5fec7');\n",
              "          const dataTable =\n",
              "            await google.colab.kernel.invokeFunction('convertToInteractive',\n",
              "                                                     [key], {});\n",
              "          if (!dataTable) return;\n",
              "\n",
              "          const docLinkHtml = 'Like what you see? Visit the ' +\n",
              "            '<a target=\"_blank\" href=https://colab.research.google.com/notebooks/data_table.ipynb>data table notebook</a>'\n",
              "            + ' to learn more about interactive tables.';\n",
              "          element.innerHTML = '';\n",
              "          dataTable['output_type'] = 'display_data';\n",
              "          await google.colab.output.renderOutput(dataTable, element);\n",
              "          const docLink = document.createElement('div');\n",
              "          docLink.innerHTML = docLinkHtml;\n",
              "          element.appendChild(docLink);\n",
              "        }\n",
              "      </script>\n",
              "    </div>\n",
              "  </div>\n",
              "  "
            ]
          },
          "metadata": {},
          "execution_count": 717
        }
      ]
    },
    {
      "cell_type": "code",
      "source": [
        "type(dados)"
      ],
      "metadata": {
        "colab": {
          "base_uri": "https://localhost:8080/"
        },
        "id": "SlYyDeqAWH5s",
        "outputId": "7af28673-4611-4e8c-d7ef-ec28a621b67f"
      },
      "execution_count": null,
      "outputs": [
        {
          "output_type": "execute_result",
          "data": {
            "text/plain": [
              "pandas.core.frame.DataFrame"
            ]
          },
          "metadata": {},
          "execution_count": 718
        }
      ]
    },
    {
      "cell_type": "code",
      "source": [
        "dados.keys()"
      ],
      "metadata": {
        "colab": {
          "base_uri": "https://localhost:8080/"
        },
        "id": "loECQFhHWwG0",
        "outputId": "c8637c66-024d-49b1-c7ee-cb1809b36505"
      },
      "execution_count": null,
      "outputs": [
        {
          "output_type": "execute_result",
          "data": {
            "text/plain": [
              "Index(['Rank in 2022', 'Country', '2000', '2007', '2014', '2022',\n",
              "       'Absolute change', 'Percent change'],\n",
              "      dtype='object')"
            ]
          },
          "metadata": {},
          "execution_count": 719
        }
      ]
    },
    {
      "cell_type": "code",
      "source": [
        "dados = pd.DataFrame(dados)\n",
        "datatypes_per_column = {\n",
        "       \"Rank in 2022\": \"int\",\n",
        "       \"Country\": \"string\",\n",
        "       \"2000\": \"float\",\n",
        "       \"2007\": \"float\",\n",
        "       \"2014\": \"float\",\n",
        "       \"2022\": \"float\",\n",
        "       \"Absolute change\": \"float\",\n",
        "       \"Percent change\": \"float\",\n",
        "\n",
        "       }\n",
        "\n",
        "dados = dados.astype(datatypes_per_column)\n"
      ],
      "metadata": {
        "id": "7sMAq0gXnDVT"
      },
      "execution_count": null,
      "outputs": []
    },
    {
      "cell_type": "code",
      "source": [
        "(dados.replace('<5','5'))\n",
        "#Os valores de '<5' foram assumidos como '5' para melhor aplicabilidade dos parâmetros."
      ],
      "metadata": {
        "colab": {
          "base_uri": "https://localhost:8080/",
          "height": 424
        },
        "id": "jUX-MpgmqeRE",
        "outputId": "261f3beb-a76d-4445-c3a4-5d8817a8365b"
      },
      "execution_count": null,
      "outputs": [
        {
          "output_type": "execute_result",
          "data": {
            "text/plain": [
              "     Rank in 2022                 Country  2000  2007  2014    2022  \\\n",
              "0               1                 Belarus   5.0   5.0   5.0   5.000   \n",
              "1               1  Bosnia and Herzegovina   9.3   6.6   5.0   5.000   \n",
              "2               1                   Chile   5.0   5.0   5.0   5.000   \n",
              "3               1                   China  13.3   7.8   5.0   5.000   \n",
              "4               1                 Croatia   5.0   5.0   5.0   5.000   \n",
              "..            ...                     ...   ...   ...   ...     ...   \n",
              "124           121                   Yemen  41.3  38.4  41.7  45.100   \n",
              "125           121                 Burundi  99.0  99.0  99.0  49.935   \n",
              "126           121                 Somalia  99.0  99.0  99.0  49.935   \n",
              "127           121             South Sudan  99.0  99.0  99.0  49.935   \n",
              "128           121                   Syria  99.0  99.0  99.0  49.935   \n",
              "\n",
              "     Absolute change  Percent change  \n",
              "0                0.0             0.0  \n",
              "1                0.0             0.0  \n",
              "2                0.0             0.0  \n",
              "3                0.0             0.0  \n",
              "4                0.0             0.0  \n",
              "..               ...             ...  \n",
              "124              3.4             8.2  \n",
              "125              0.0             0.0  \n",
              "126              0.0             0.0  \n",
              "127              0.0             0.0  \n",
              "128              0.0             0.0  \n",
              "\n",
              "[129 rows x 8 columns]"
            ],
            "text/html": [
              "\n",
              "  <div id=\"df-74ac19a0-3c48-46c6-ba93-707b518753aa\">\n",
              "    <div class=\"colab-df-container\">\n",
              "      <div>\n",
              "<style scoped>\n",
              "    .dataframe tbody tr th:only-of-type {\n",
              "        vertical-align: middle;\n",
              "    }\n",
              "\n",
              "    .dataframe tbody tr th {\n",
              "        vertical-align: top;\n",
              "    }\n",
              "\n",
              "    .dataframe thead th {\n",
              "        text-align: right;\n",
              "    }\n",
              "</style>\n",
              "<table border=\"1\" class=\"dataframe\">\n",
              "  <thead>\n",
              "    <tr style=\"text-align: right;\">\n",
              "      <th></th>\n",
              "      <th>Rank in 2022</th>\n",
              "      <th>Country</th>\n",
              "      <th>2000</th>\n",
              "      <th>2007</th>\n",
              "      <th>2014</th>\n",
              "      <th>2022</th>\n",
              "      <th>Absolute change</th>\n",
              "      <th>Percent change</th>\n",
              "    </tr>\n",
              "  </thead>\n",
              "  <tbody>\n",
              "    <tr>\n",
              "      <th>0</th>\n",
              "      <td>1</td>\n",
              "      <td>Belarus</td>\n",
              "      <td>5.0</td>\n",
              "      <td>5.0</td>\n",
              "      <td>5.0</td>\n",
              "      <td>5.000</td>\n",
              "      <td>0.0</td>\n",
              "      <td>0.0</td>\n",
              "    </tr>\n",
              "    <tr>\n",
              "      <th>1</th>\n",
              "      <td>1</td>\n",
              "      <td>Bosnia and Herzegovina</td>\n",
              "      <td>9.3</td>\n",
              "      <td>6.6</td>\n",
              "      <td>5.0</td>\n",
              "      <td>5.000</td>\n",
              "      <td>0.0</td>\n",
              "      <td>0.0</td>\n",
              "    </tr>\n",
              "    <tr>\n",
              "      <th>2</th>\n",
              "      <td>1</td>\n",
              "      <td>Chile</td>\n",
              "      <td>5.0</td>\n",
              "      <td>5.0</td>\n",
              "      <td>5.0</td>\n",
              "      <td>5.000</td>\n",
              "      <td>0.0</td>\n",
              "      <td>0.0</td>\n",
              "    </tr>\n",
              "    <tr>\n",
              "      <th>3</th>\n",
              "      <td>1</td>\n",
              "      <td>China</td>\n",
              "      <td>13.3</td>\n",
              "      <td>7.8</td>\n",
              "      <td>5.0</td>\n",
              "      <td>5.000</td>\n",
              "      <td>0.0</td>\n",
              "      <td>0.0</td>\n",
              "    </tr>\n",
              "    <tr>\n",
              "      <th>4</th>\n",
              "      <td>1</td>\n",
              "      <td>Croatia</td>\n",
              "      <td>5.0</td>\n",
              "      <td>5.0</td>\n",
              "      <td>5.0</td>\n",
              "      <td>5.000</td>\n",
              "      <td>0.0</td>\n",
              "      <td>0.0</td>\n",
              "    </tr>\n",
              "    <tr>\n",
              "      <th>...</th>\n",
              "      <td>...</td>\n",
              "      <td>...</td>\n",
              "      <td>...</td>\n",
              "      <td>...</td>\n",
              "      <td>...</td>\n",
              "      <td>...</td>\n",
              "      <td>...</td>\n",
              "      <td>...</td>\n",
              "    </tr>\n",
              "    <tr>\n",
              "      <th>124</th>\n",
              "      <td>121</td>\n",
              "      <td>Yemen</td>\n",
              "      <td>41.3</td>\n",
              "      <td>38.4</td>\n",
              "      <td>41.7</td>\n",
              "      <td>45.100</td>\n",
              "      <td>3.4</td>\n",
              "      <td>8.2</td>\n",
              "    </tr>\n",
              "    <tr>\n",
              "      <th>125</th>\n",
              "      <td>121</td>\n",
              "      <td>Burundi</td>\n",
              "      <td>99.0</td>\n",
              "      <td>99.0</td>\n",
              "      <td>99.0</td>\n",
              "      <td>49.935</td>\n",
              "      <td>0.0</td>\n",
              "      <td>0.0</td>\n",
              "    </tr>\n",
              "    <tr>\n",
              "      <th>126</th>\n",
              "      <td>121</td>\n",
              "      <td>Somalia</td>\n",
              "      <td>99.0</td>\n",
              "      <td>99.0</td>\n",
              "      <td>99.0</td>\n",
              "      <td>49.935</td>\n",
              "      <td>0.0</td>\n",
              "      <td>0.0</td>\n",
              "    </tr>\n",
              "    <tr>\n",
              "      <th>127</th>\n",
              "      <td>121</td>\n",
              "      <td>South Sudan</td>\n",
              "      <td>99.0</td>\n",
              "      <td>99.0</td>\n",
              "      <td>99.0</td>\n",
              "      <td>49.935</td>\n",
              "      <td>0.0</td>\n",
              "      <td>0.0</td>\n",
              "    </tr>\n",
              "    <tr>\n",
              "      <th>128</th>\n",
              "      <td>121</td>\n",
              "      <td>Syria</td>\n",
              "      <td>99.0</td>\n",
              "      <td>99.0</td>\n",
              "      <td>99.0</td>\n",
              "      <td>49.935</td>\n",
              "      <td>0.0</td>\n",
              "      <td>0.0</td>\n",
              "    </tr>\n",
              "  </tbody>\n",
              "</table>\n",
              "<p>129 rows × 8 columns</p>\n",
              "</div>\n",
              "      <button class=\"colab-df-convert\" onclick=\"convertToInteractive('df-74ac19a0-3c48-46c6-ba93-707b518753aa')\"\n",
              "              title=\"Convert this dataframe to an interactive table.\"\n",
              "              style=\"display:none;\">\n",
              "        \n",
              "  <svg xmlns=\"http://www.w3.org/2000/svg\" height=\"24px\"viewBox=\"0 0 24 24\"\n",
              "       width=\"24px\">\n",
              "    <path d=\"M0 0h24v24H0V0z\" fill=\"none\"/>\n",
              "    <path d=\"M18.56 5.44l.94 2.06.94-2.06 2.06-.94-2.06-.94-.94-2.06-.94 2.06-2.06.94zm-11 1L8.5 8.5l.94-2.06 2.06-.94-2.06-.94L8.5 2.5l-.94 2.06-2.06.94zm10 10l.94 2.06.94-2.06 2.06-.94-2.06-.94-.94-2.06-.94 2.06-2.06.94z\"/><path d=\"M17.41 7.96l-1.37-1.37c-.4-.4-.92-.59-1.43-.59-.52 0-1.04.2-1.43.59L10.3 9.45l-7.72 7.72c-.78.78-.78 2.05 0 2.83L4 21.41c.39.39.9.59 1.41.59.51 0 1.02-.2 1.41-.59l7.78-7.78 2.81-2.81c.8-.78.8-2.07 0-2.86zM5.41 20L4 18.59l7.72-7.72 1.47 1.35L5.41 20z\"/>\n",
              "  </svg>\n",
              "      </button>\n",
              "      \n",
              "  <style>\n",
              "    .colab-df-container {\n",
              "      display:flex;\n",
              "      flex-wrap:wrap;\n",
              "      gap: 12px;\n",
              "    }\n",
              "\n",
              "    .colab-df-convert {\n",
              "      background-color: #E8F0FE;\n",
              "      border: none;\n",
              "      border-radius: 50%;\n",
              "      cursor: pointer;\n",
              "      display: none;\n",
              "      fill: #1967D2;\n",
              "      height: 32px;\n",
              "      padding: 0 0 0 0;\n",
              "      width: 32px;\n",
              "    }\n",
              "\n",
              "    .colab-df-convert:hover {\n",
              "      background-color: #E2EBFA;\n",
              "      box-shadow: 0px 1px 2px rgba(60, 64, 67, 0.3), 0px 1px 3px 1px rgba(60, 64, 67, 0.15);\n",
              "      fill: #174EA6;\n",
              "    }\n",
              "\n",
              "    [theme=dark] .colab-df-convert {\n",
              "      background-color: #3B4455;\n",
              "      fill: #D2E3FC;\n",
              "    }\n",
              "\n",
              "    [theme=dark] .colab-df-convert:hover {\n",
              "      background-color: #434B5C;\n",
              "      box-shadow: 0px 1px 3px 1px rgba(0, 0, 0, 0.15);\n",
              "      filter: drop-shadow(0px 1px 2px rgba(0, 0, 0, 0.3));\n",
              "      fill: #FFFFFF;\n",
              "    }\n",
              "  </style>\n",
              "\n",
              "      <script>\n",
              "        const buttonEl =\n",
              "          document.querySelector('#df-74ac19a0-3c48-46c6-ba93-707b518753aa button.colab-df-convert');\n",
              "        buttonEl.style.display =\n",
              "          google.colab.kernel.accessAllowed ? 'block' : 'none';\n",
              "\n",
              "        async function convertToInteractive(key) {\n",
              "          const element = document.querySelector('#df-74ac19a0-3c48-46c6-ba93-707b518753aa');\n",
              "          const dataTable =\n",
              "            await google.colab.kernel.invokeFunction('convertToInteractive',\n",
              "                                                     [key], {});\n",
              "          if (!dataTable) return;\n",
              "\n",
              "          const docLinkHtml = 'Like what you see? Visit the ' +\n",
              "            '<a target=\"_blank\" href=https://colab.research.google.com/notebooks/data_table.ipynb>data table notebook</a>'\n",
              "            + ' to learn more about interactive tables.';\n",
              "          element.innerHTML = '';\n",
              "          dataTable['output_type'] = 'display_data';\n",
              "          await google.colab.output.renderOutput(dataTable, element);\n",
              "          const docLink = document.createElement('div');\n",
              "          docLink.innerHTML = docLinkHtml;\n",
              "          element.appendChild(docLink);\n",
              "        }\n",
              "      </script>\n",
              "    </div>\n",
              "  </div>\n",
              "  "
            ]
          },
          "metadata": {},
          "execution_count": 721
        }
      ]
    },
    {
      "cell_type": "code",
      "source": [
        "dados['Percent change']"
      ],
      "metadata": {
        "colab": {
          "base_uri": "https://localhost:8080/"
        },
        "id": "4qaFojFxZd5d",
        "outputId": "5a182eb8-d8b2-4cae-834b-7bd69ba5b795"
      },
      "execution_count": null,
      "outputs": [
        {
          "output_type": "execute_result",
          "data": {
            "text/plain": [
              "0      0.0\n",
              "1      0.0\n",
              "2      0.0\n",
              "3      0.0\n",
              "4      0.0\n",
              "      ... \n",
              "124    8.2\n",
              "125    0.0\n",
              "126    0.0\n",
              "127    0.0\n",
              "128    0.0\n",
              "Name: Percent change, Length: 129, dtype: float64"
            ]
          },
          "metadata": {},
          "execution_count": 722
        }
      ]
    },
    {
      "cell_type": "code",
      "source": [
        "dados['Absolute change']"
      ],
      "metadata": {
        "colab": {
          "base_uri": "https://localhost:8080/"
        },
        "id": "MoFNUfaocBp_",
        "outputId": "afa0613d-6c90-417f-e076-ce170b40bb6d"
      },
      "execution_count": null,
      "outputs": [
        {
          "output_type": "execute_result",
          "data": {
            "text/plain": [
              "0      0.0\n",
              "1      0.0\n",
              "2      0.0\n",
              "3      0.0\n",
              "4      0.0\n",
              "      ... \n",
              "124    3.4\n",
              "125    0.0\n",
              "126    0.0\n",
              "127    0.0\n",
              "128    0.0\n",
              "Name: Absolute change, Length: 129, dtype: float64"
            ]
          },
          "metadata": {},
          "execution_count": 723
        }
      ]
    },
    {
      "cell_type": "code",
      "source": [
        "dados['2014']"
      ],
      "metadata": {
        "colab": {
          "base_uri": "https://localhost:8080/"
        },
        "id": "nsauU4yqcFkE",
        "outputId": "a27d9a88-0b36-4446-cced-812c4331aee3"
      },
      "execution_count": null,
      "outputs": [
        {
          "output_type": "execute_result",
          "data": {
            "text/plain": [
              "0       5.0\n",
              "1       5.0\n",
              "2       5.0\n",
              "3       5.0\n",
              "4       5.0\n",
              "       ... \n",
              "124    41.7\n",
              "125    99.0\n",
              "126    99.0\n",
              "127    99.0\n",
              "128    99.0\n",
              "Name: 2014, Length: 129, dtype: float64"
            ]
          },
          "metadata": {},
          "execution_count": 724
        }
      ]
    },
    {
      "cell_type": "code",
      "source": [
        "dados['2022']"
      ],
      "metadata": {
        "colab": {
          "base_uri": "https://localhost:8080/"
        },
        "id": "kwe-ssAecURc",
        "outputId": "635fdf1a-d8c3-4222-e834-a406a1a113e3"
      },
      "execution_count": null,
      "outputs": [
        {
          "output_type": "execute_result",
          "data": {
            "text/plain": [
              "0       5.000\n",
              "1       5.000\n",
              "2       5.000\n",
              "3       5.000\n",
              "4       5.000\n",
              "        ...  \n",
              "124    45.100\n",
              "125    49.935\n",
              "126    49.935\n",
              "127    49.935\n",
              "128    49.935\n",
              "Name: 2022, Length: 129, dtype: float64"
            ]
          },
          "metadata": {},
          "execution_count": 725
        }
      ]
    },
    {
      "cell_type": "code",
      "source": [
        "dados.loc[dados['Rank in 2022'].idxmax()]"
      ],
      "metadata": {
        "colab": {
          "base_uri": "https://localhost:8080/"
        },
        "id": "WbhGlJHQ0urp",
        "outputId": "bf0f13d0-c49f-4aca-ec05-f5007e4f0d7f"
      },
      "execution_count": null,
      "outputs": [
        {
          "output_type": "execute_result",
          "data": {
            "text/plain": [
              "Rank in 2022         121\n",
              "Country            Yemen\n",
              "2000                41.3\n",
              "2007                38.4\n",
              "2014                41.7\n",
              "2022                45.1\n",
              "Absolute change      3.4\n",
              "Percent change       8.2\n",
              "Name: 124, dtype: object"
            ]
          },
          "metadata": {},
          "execution_count": 726
        }
      ]
    },
    {
      "cell_type": "markdown",
      "source": [
        "#1 - Estatisticas"
      ],
      "metadata": {
        "id": "jrL2cpzox2j6"
      }
    },
    {
      "cell_type": "code",
      "source": [
        "max14 = dados.loc[dados['2014'].idxmax()]\n",
        "print(max14)"
      ],
      "metadata": {
        "colab": {
          "base_uri": "https://localhost:8080/"
        },
        "id": "gpqOAgLVxW2y",
        "outputId": "d0b60645-83a8-4c5a-e732-7486268c2952"
      },
      "execution_count": null,
      "outputs": [
        {
          "output_type": "stream",
          "name": "stdout",
          "text": [
            "Rank in 2022          116\n",
            "Country            Guinea\n",
            "2000                 99.0\n",
            "2007                 99.0\n",
            "2014                 99.0\n",
            "2022                 34.9\n",
            "Absolute change       0.0\n",
            "Percent change        0.0\n",
            "Name: 116, dtype: object\n"
          ]
        }
      ]
    },
    {
      "cell_type": "code",
      "source": [
        "min14 = dados.loc[dados['2014'].idxmin()]\n",
        "print(min14)"
      ],
      "metadata": {
        "colab": {
          "base_uri": "https://localhost:8080/"
        },
        "id": "xXo6jCtFsiwS",
        "outputId": "749a32db-5565-4754-c696-d3de71e51445"
      },
      "execution_count": null,
      "outputs": [
        {
          "output_type": "stream",
          "name": "stdout",
          "text": [
            "Rank in 2022             1\n",
            "Country            Belarus\n",
            "2000                   5.0\n",
            "2007                   5.0\n",
            "2014                   5.0\n",
            "2022                   5.0\n",
            "Absolute change        0.0\n",
            "Percent change         0.0\n",
            "Name: 0, dtype: object\n"
          ]
        }
      ]
    },
    {
      "cell_type": "code",
      "source": [
        "max22 = dados.loc[dados['2022'].idxmax()]\n",
        "print(max22)"
      ],
      "metadata": {
        "colab": {
          "base_uri": "https://localhost:8080/"
        },
        "id": "uo8K3hFcyP58",
        "outputId": "d1f06305-fc33-4562-d013-670119dcc8fa"
      },
      "execution_count": null,
      "outputs": [
        {
          "output_type": "stream",
          "name": "stdout",
          "text": [
            "Rank in 2022           121\n",
            "Country            Burundi\n",
            "2000                  99.0\n",
            "2007                  99.0\n",
            "2014                  99.0\n",
            "2022                49.935\n",
            "Absolute change        0.0\n",
            "Percent change         0.0\n",
            "Name: 125, dtype: object\n"
          ]
        }
      ]
    },
    {
      "cell_type": "code",
      "source": [
        "min22 = dados.loc[dados['2022'].idxmin()]\n",
        "print(min22)"
      ],
      "metadata": {
        "colab": {
          "base_uri": "https://localhost:8080/"
        },
        "id": "5awT_8nXyKF0",
        "outputId": "94ba89f9-3376-4aa0-e616-916bdf2bb103"
      },
      "execution_count": null,
      "outputs": [
        {
          "output_type": "stream",
          "name": "stdout",
          "text": [
            "Rank in 2022             1\n",
            "Country            Belarus\n",
            "2000                   5.0\n",
            "2007                   5.0\n",
            "2014                   5.0\n",
            "2022                   5.0\n",
            "Absolute change        0.0\n",
            "Percent change         0.0\n",
            "Name: 0, dtype: object\n"
          ]
        }
      ]
    },
    {
      "cell_type": "code",
      "source": [
        "maxabs_change = dados.loc[dados['Absolute change'].idxmax()]\n",
        "print(maxabs_change)"
      ],
      "metadata": {
        "colab": {
          "base_uri": "https://localhost:8080/"
        },
        "id": "lOelWuyW2iE5",
        "outputId": "5abd8055-e990-4bfa-fd39-118e806948d3"
      },
      "execution_count": null,
      "outputs": [
        {
          "output_type": "stream",
          "name": "stdout",
          "text": [
            "Rank in 2022              85\n",
            "Country            Venezuela\n",
            "2000                    14.6\n",
            "2007                    10.1\n",
            "2014                     8.1\n",
            "2022                    19.9\n",
            "Absolute change         11.8\n",
            "Percent change         145.7\n",
            "Name: 84, dtype: object\n"
          ]
        }
      ]
    },
    {
      "cell_type": "code",
      "source": [
        "minabs_change = dados.loc[dados['Absolute change'].idxmin()]\n",
        "print(minabs_change)"
      ],
      "metadata": {
        "colab": {
          "base_uri": "https://localhost:8080/"
        },
        "id": "HoBmqqH22zXo",
        "outputId": "d03d0630-dc0e-485e-d38c-7a618951ca08"
      },
      "execution_count": null,
      "outputs": [
        {
          "output_type": "stream",
          "name": "stdout",
          "text": [
            "Rank in 2022               67\n",
            "Country            Tajikistan\n",
            "2000                     40.3\n",
            "2007                     32.9\n",
            "2014                     20.6\n",
            "2022                     13.9\n",
            "Absolute change          -6.7\n",
            "Percent change          -32.5\n",
            "Name: 67, dtype: object\n"
          ]
        }
      ]
    },
    {
      "cell_type": "code",
      "source": [
        "maxper_change = dados.loc[dados['Percent change'].idxmax()]\n",
        "print(maxper_change)"
      ],
      "metadata": {
        "colab": {
          "base_uri": "https://localhost:8080/"
        },
        "id": "hsEGXo743T3K",
        "outputId": "9fe90f0d-1e06-4277-d068-6e4bd3d6c898"
      },
      "execution_count": null,
      "outputs": [
        {
          "output_type": "stream",
          "name": "stdout",
          "text": [
            "Rank in 2022              85\n",
            "Country            Venezuela\n",
            "2000                    14.6\n",
            "2007                    10.1\n",
            "2014                     8.1\n",
            "2022                    19.9\n",
            "Absolute change         11.8\n",
            "Percent change         145.7\n",
            "Name: 84, dtype: object\n"
          ]
        }
      ]
    },
    {
      "cell_type": "code",
      "source": [
        "minper_change = dados.loc[dados['Percent change'].idxmin()]\n",
        "print(minper_change)"
      ],
      "metadata": {
        "colab": {
          "base_uri": "https://localhost:8080/"
        },
        "id": "Sx9C0OUB3b1L",
        "outputId": "d8bf1f15-d6e1-4187-fa04-51b45426adbd"
      },
      "execution_count": null,
      "outputs": [
        {
          "output_type": "stream",
          "name": "stdout",
          "text": [
            "Rank in 2022             22\n",
            "Country            Mongolia\n",
            "2000                   30.0\n",
            "2007                   21.8\n",
            "2014                    9.2\n",
            "2022                    5.7\n",
            "Absolute change        -3.5\n",
            "Percent change        -38.0\n",
            "Name: 22, dtype: object\n"
          ]
        }
      ]
    },
    {
      "cell_type": "code",
      "source": [
        "media_abschange = statistics.mean(dados['Absolute change'])\n",
        "print('Média mudança Absoluta:', \"{:.2f}\".format(media_abschange))"
      ],
      "metadata": {
        "colab": {
          "base_uri": "https://localhost:8080/"
        },
        "id": "9Mffq3Ew3BKR",
        "outputId": "1a08ab21-de09-4d8f-b5de-31fff2b260a2"
      },
      "execution_count": null,
      "outputs": [
        {
          "output_type": "stream",
          "name": "stdout",
          "text": [
            "Média mudança Absoluta: -0.95\n"
          ]
        }
      ]
    },
    {
      "cell_type": "code",
      "source": [
        "media_14 = statistics.mean(dados['2014'])\n",
        "media_22 = statistics.mean(dados['2022'])\n",
        "std_14 = statistics.stdev(dados['2014'])\n",
        "std_22 = statistics.stdev(dados['2022'])\n",
        "moda_14 = statistics.mode(dados['2014'])\n",
        "moda_22 = statistics.mode(dados['2022'])\n",
        "\n",
        "print('Média 2014:', \"{:.2f}\".format(media_14))\n",
        "print('Média 2022:', \"{:.2f}\".format(media_22))\n",
        "print('Desvio Padrão Amostral de 2014:', \"{:.2f}\".format(std_14))\n",
        "print('Desvio Padrão Amostral de 2022: ', \"{:.2f}\".format(std_22))\n",
        "print(\"Moda 2014:\",\"{:.2f}\".format(moda_14))\n",
        "print(\"Moda 2014:\",\"{:.2f}\".format(moda_22))\n"
      ],
      "metadata": {
        "colab": {
          "base_uri": "https://localhost:8080/"
        },
        "id": "9JQOrMJareyi",
        "outputId": "825e2d37-3b6c-4aab-b3c7-d7dd4487e19a"
      },
      "execution_count": null,
      "outputs": [
        {
          "output_type": "stream",
          "name": "stdout",
          "text": [
            "Média 2014: 21.64\n",
            "Média 2022: 17.17\n",
            "Desvio Padrão Amostral de 2014: 22.37\n",
            "Desvio Padrão Amostral de 2022:  11.81\n",
            "Moda 2014: 5.00\n",
            "Moda 2014: 5.00\n"
          ]
        }
      ]
    },
    {
      "cell_type": "markdown",
      "source": [
        "#1 - Gráficos"
      ],
      "metadata": {
        "id": "2OBNXe0ex85S"
      }
    },
    {
      "cell_type": "code",
      "source": [
        "def func_linear(x): return(4*x-5)\n",
        "\n",
        "x = np.array([i for i in range(-50,50)])\n",
        "\n",
        "## Adidionando um ruído branco nos dados\n",
        "mean_noise = 0\n",
        "sigma_x = 25\n",
        "y = func_linear(x) + np.random.normal(mean_noise,sigma_x, len(x))\n",
        "\n",
        "\n",
        "# Definindo uma função linear arbitraria (perceba que a=4 e b=5)\n",
        "def func_quadratica(x): return(0.5*x**2-5*x+50)\n",
        "\n",
        "## Adidionando um ruído branco nos dados\n",
        "mean_noise = 0\n",
        "sigma_x = 225\n",
        "z = func_quadratica(x) + np.random.normal(mean_noise,sigma_x, len(x))\n",
        "\n",
        "\n",
        "linhas = [str(int(x[i]))+';'+str(int(y[i]))+';'+str(int(z[i]))+'\\n' for i in range(0, len(x))]\n",
        "\n",
        "\n",
        "with open('dados', 'w') as file:\n",
        "    file.writelines(linhas)"
      ],
      "metadata": {
        "id": "TrHx7uafNdGe"
      },
      "execution_count": null,
      "outputs": []
    },
    {
      "cell_type": "code",
      "source": [
        "fig, axes =  plt.subplots(1, 2, figsize=(10,4))\n",
        "fig.suptitle('2014 e 2022')\n",
        "\n",
        "\n",
        "sns.histplot(ax=axes[0],\n",
        "            data=dados['2014'],\n",
        "            kde=True,\n",
        "            bins=10,\n",
        "            linewidth=0.7,\n",
        "            )\n",
        "\n",
        "sns.histplot(ax=axes[1],\n",
        "            data=dados['2022'],\n",
        "            kde=True,\n",
        "            bins=10,\n",
        "            linewidth=0.7,\n",
        "            )\n",
        "\n",
        "\n",
        "axes[0].set(xlabel='2014', ylabel='Variação')\n",
        "axes[1].set(xlabel='2022', ylabel='Variação')"
      ],
      "metadata": {
        "colab": {
          "base_uri": "https://localhost:8080/",
          "height": 445
        },
        "id": "XABZeI6q6t3Q",
        "outputId": "7f3d8679-3d4e-4d9c-ff76-8ae6a3fe0fc8"
      },
      "execution_count": null,
      "outputs": [
        {
          "output_type": "execute_result",
          "data": {
            "text/plain": [
              "[Text(0.5, 0, '2022'), Text(0, 0.5, 'Variação')]"
            ]
          },
          "metadata": {},
          "execution_count": 738
        },
        {
          "output_type": "display_data",
          "data": {
            "text/plain": [
              "<Figure size 1000x400 with 2 Axes>"
            ],
            "image/png": "[encoded data removed]"
          },
          "metadata": {}
        }
      ]
    },
    {
      "cell_type": "code",
      "source": [
        "fig, axes =  plt.subplots(1, 2, figsize=(10,4))\n",
        "fig.suptitle('Absolute change e Percent change')\n",
        "\n",
        "\n",
        "sns.histplot(ax=axes[0],\n",
        "            data=dados['Absolute change'],\n",
        "            kde=True,\n",
        "            bins=10,\n",
        "            linewidth=0.7,\n",
        "            )\n",
        "\n",
        "sns.histplot(ax=axes[1],\n",
        "            data=dados['Percent change'],\n",
        "            kde=True,\n",
        "            bins=10,\n",
        "            linewidth=0.7,\n",
        "            )\n",
        "\n",
        "\n",
        "axes[0].set(xlabel='Absolute change', ylabel='Variação')\n",
        "axes[1].set(xlabel='Percent change', ylabel='Variação')"
      ],
      "metadata": {
        "colab": {
          "base_uri": "https://localhost:8080/",
          "height": 445
        },
        "id": "Gs9h6McwHjd7",
        "outputId": "1d34ce45-5012-43b8-eadf-29a5c56dec13"
      },
      "execution_count": null,
      "outputs": [
        {
          "output_type": "execute_result",
          "data": {
            "text/plain": [
              "[Text(0.5, 0, 'Percent change'), Text(0, 0.5, 'Variação')]"
            ]
          },
          "metadata": {},
          "execution_count": 739
        },
        {
          "output_type": "display_data",
          "data": {
            "text/plain": [
              "<Figure size 1000x400 with 2 Axes>"
            ],
            "image/png": "[encoded data removed]"
          },
          "metadata": {}
        }
      ]
    },
    {
      "cell_type": "code",
      "source": [
        "fig, axes = plt.subplots(1, 2, figsize=(22, 12))\n",
        "fig.suptitle('Absolut change')\n",
        "\n",
        "sns.boxplot(x=\"Absolute change\", y=\"Rank in 2022\",\n",
        "            palette=[\"g\", \"r\"],\n",
        "            linewidth=0.7,\n",
        "            ax=axes[0],\n",
        "            data=dados\n",
        "           )\n",
        "\n",
        "sns.boxplot(x=\"Absolute change\", y=\"Rank in 2022\",\n",
        "            palette=[\"g\", \"r\"],\n",
        "            linewidth=0.7,\n",
        "            ax=axes[1],\n",
        "            data=dados\n",
        "\n",
        "           )"
      ],
      "metadata": {
        "colab": {
          "base_uri": "https://localhost:8080/",
          "height": 1000
        },
        "id": "GSzjUllDEryP",
        "outputId": "626f838e-9293-423e-c2b0-9afb1b7ab414"
      },
      "execution_count": null,
      "outputs": [
        {
          "output_type": "execute_result",
          "data": {
            "text/plain": [
              "<Axes: xlabel='Absolute change', ylabel='Rank in 2022'>"
            ]
          },
          "metadata": {},
          "execution_count": 740
        },
        {
          "output_type": "display_data",
          "data": {
            "text/plain": [
              "<Figure size 2200x1200 with 2 Axes>"
            ],
            "image/png": "[encoded data removed]"
          },
          "metadata": {}
        }
      ]
    },
    {
      "cell_type": "code",
      "source": [
        "sns.jointplot(data=dados,\n",
        "              x=\"Percent change\", y=\"Absolute change\",\n",
        "              height=22,\n",
        "              ratio=12,\n",
        "              marginal_ticks=True,\n",
        "              hue = 'Country'\n",
        "\n",
        "             )\n"
      ],
      "metadata": {
        "colab": {
          "base_uri": "https://localhost:8080/",
          "height": 1000
        },
        "id": "NK6uf-dxF3_G",
        "outputId": "b2776261-9f98-40f8-a38d-9b4c0f4a793d"
      },
      "execution_count": null,
      "outputs": [
        {
          "output_type": "execute_result",
          "data": {
            "text/plain": [
              "<seaborn.axisgrid.JointGrid at 0x7f89dc79df00>"
            ]
          },
          "metadata": {},
          "execution_count": 741
        },
        {
          "output_type": "display_data",
          "data": {
            "text/plain": [
              "<Figure size 2200x2200 with 3 Axes>"
            ],
            "image/png": "[encoded data removed]"
          },
          "metadata": {}
        }
      ]
    },
    {
      "cell_type": "markdown",
      "source": [
        "##1 - Agrupamento de dados"
      ],
      "metadata": {
        "id": "TopA14ztwyvJ"
      }
    },
    {
      "cell_type": "code",
      "source": [
        "dados_agrupados = dados.groupby('Country').mean()\n",
        "\n",
        "print(dados_agrupados)"
      ],
      "metadata": {
        "colab": {
          "base_uri": "https://localhost:8080/"
        },
        "id": "a18ywtbbw28y",
        "outputId": "e00561a9-ca79-4e9f-d2ee-f9218b2c95f1"
      },
      "execution_count": null,
      "outputs": [
        {
          "output_type": "stream",
          "name": "stdout",
          "text": [
            "             Rank in 2022  2000  2007  2014  2022  Absolute change  \\\n",
            "Country                                                              \n",
            "Afghanistan         109.0  50.3  38.7  30.6  29.9             -0.7   \n",
            "Albania              27.0  20.7  15.8   9.2   6.2             -3.0   \n",
            "Algeria              32.0  14.5  11.4   8.7   6.9             -1.8   \n",
            "Angola               98.0  64.9  44.7  26.2  25.9             -0.3   \n",
            "Argentina            31.0   6.6   5.5   5.0   6.8              1.8   \n",
            "...                   ...   ...   ...   ...   ...              ...   \n",
            "Venezuela            85.0  14.6  10.1   8.1  19.9             11.8   \n",
            "Viet Nam             55.0  26.3  21.4  15.4  11.9             -3.5   \n",
            "Yemen               121.0  41.3  38.4  41.7  45.1              3.4   \n",
            "Zambia              108.0  53.3  46.0  35.2  29.3             -5.9   \n",
            "Zimbabwe            116.0  99.0  99.0  99.0  34.9              0.0   \n",
            "\n",
            "             Percent change  \n",
            "Country                      \n",
            "Afghanistan            -2.3  \n",
            "Albania               -32.6  \n",
            "Algeria               -20.7  \n",
            "Angola                 -1.1  \n",
            "Argentina              36.0  \n",
            "...                     ...  \n",
            "Venezuela             145.7  \n",
            "Viet Nam              -22.7  \n",
            "Yemen                   8.2  \n",
            "Zambia                -16.8  \n",
            "Zimbabwe                0.0  \n",
            "\n",
            "[128 rows x 7 columns]\n"
          ]
        }
      ]
    },
    {
      "cell_type": "code",
      "source": [
        "dados_agrupados2 = dados.groupby(['Country', 'Absolute change']).sum()\n",
        "\n",
        "print(dados_agrupados2)"
      ],
      "metadata": {
        "colab": {
          "base_uri": "https://localhost:8080/"
        },
        "id": "Sgy7HgZ_w_Up",
        "outputId": "3786170d-ef5e-4a71-fe00-c15c8a60bc40"
      },
      "execution_count": null,
      "outputs": [
        {
          "output_type": "stream",
          "name": "stdout",
          "text": [
            "                             Rank in 2022  2000  2007  2014  2022  \\\n",
            "Country     Absolute change                                         \n",
            "Afghanistan -0.7                      109  50.3  38.7  30.6  29.9   \n",
            "Albania     -3.0                       27  20.7  15.8   9.2   6.2   \n",
            "Algeria     -1.8                       32  14.5  11.4   8.7   6.9   \n",
            "Angola      -0.3                       98  64.9  44.7  26.2  25.9   \n",
            "Argentina    1.8                       31   6.6   5.5   5.0   6.8   \n",
            "...                                   ...   ...   ...   ...   ...   \n",
            "Venezuela    11.8                      85  14.6  10.1   8.1  19.9   \n",
            "Viet Nam    -3.5                       55  26.3  21.4  15.4  11.9   \n",
            "Yemen        3.4                      121  41.3  38.4  41.7  45.1   \n",
            "Zambia      -5.9                      108  53.3  46.0  35.2  29.3   \n",
            "Zimbabwe     0.0                      116  99.0  99.0  99.0  34.9   \n",
            "\n",
            "                             Percent change  \n",
            "Country     Absolute change                  \n",
            "Afghanistan -0.7                       -2.3  \n",
            "Albania     -3.0                      -32.6  \n",
            "Algeria     -1.8                      -20.7  \n",
            "Angola      -0.3                       -1.1  \n",
            "Argentina    1.8                       36.0  \n",
            "...                                     ...  \n",
            "Venezuela    11.8                     145.7  \n",
            "Viet Nam    -3.5                      -22.7  \n",
            "Yemen        3.4                        8.2  \n",
            "Zambia      -5.9                      -16.8  \n",
            "Zimbabwe     0.0                        0.0  \n",
            "\n",
            "[129 rows x 6 columns]\n"
          ]
        }
      ]
    },
    {
      "cell_type": "code",
      "source": [
        "dados_agrupados3 = dados.groupby(['Country', 'Percent change']).sum()\n",
        "\n",
        "print(dados_agrupados3)"
      ],
      "metadata": {
        "colab": {
          "base_uri": "https://localhost:8080/"
        },
        "id": "bUoppz0D0feS",
        "outputId": "2f253921-caee-4e83-fb97-238c7d63424f"
      },
      "execution_count": null,
      "outputs": [
        {
          "output_type": "stream",
          "name": "stdout",
          "text": [
            "                            Rank in 2022  2000  2007  2014  2022  \\\n",
            "Country     Percent change                                         \n",
            "Afghanistan -2.3                     109  50.3  38.7  30.6  29.9   \n",
            "Albania     -32.6                     27  20.7  15.8   9.2   6.2   \n",
            "Algeria     -20.7                     32  14.5  11.4   8.7   6.9   \n",
            "Angola      -1.1                      98  64.9  44.7  26.2  25.9   \n",
            "Argentina    36.0                     31   6.6   5.5   5.0   6.8   \n",
            "...                                  ...   ...   ...   ...   ...   \n",
            "Venezuela    145.7                    85  14.6  10.1   8.1  19.9   \n",
            "Viet Nam    -22.7                     55  26.3  21.4  15.4  11.9   \n",
            "Yemen        8.2                     121  41.3  38.4  41.7  45.1   \n",
            "Zambia      -16.8                    108  53.3  46.0  35.2  29.3   \n",
            "Zimbabwe     0.0                     116  99.0  99.0  99.0  34.9   \n",
            "\n",
            "                            Absolute change  \n",
            "Country     Percent change                   \n",
            "Afghanistan -2.3                       -0.7  \n",
            "Albania     -32.6                      -3.0  \n",
            "Algeria     -20.7                      -1.8  \n",
            "Angola      -1.1                       -0.3  \n",
            "Argentina    36.0                       1.8  \n",
            "...                                     ...  \n",
            "Venezuela    145.7                     11.8  \n",
            "Viet Nam    -22.7                      -3.5  \n",
            "Yemen        8.2                        3.4  \n",
            "Zambia      -16.8                      -5.9  \n",
            "Zimbabwe     0.0                        0.0  \n",
            "\n",
            "[129 rows x 6 columns]\n"
          ]
        }
      ]
    },
    {
      "cell_type": "code",
      "source": [
        "dados_agrupados4 = dados.groupby(['Country', '2014']).sum()\n",
        "\n",
        "print(dados_agrupados4)"
      ],
      "metadata": {
        "colab": {
          "base_uri": "https://localhost:8080/"
        },
        "id": "77IkMpY10lTy",
        "outputId": "cce8aae2-b908-477b-f820-fe0139080ac0"
      },
      "execution_count": null,
      "outputs": [
        {
          "output_type": "stream",
          "name": "stdout",
          "text": [
            "                  Rank in 2022  2000  2007  2022  Absolute change  \\\n",
            "Country     2014                                                    \n",
            "Afghanistan 30.6           109  50.3  38.7  29.9             -0.7   \n",
            "Albania     9.2             27  20.7  15.8   6.2             -3.0   \n",
            "Algeria     8.7             32  14.5  11.4   6.9             -1.8   \n",
            "Angola      26.2            98  64.9  44.7  25.9             -0.3   \n",
            "Argentina   5.0             31   6.6   5.5   6.8              1.8   \n",
            "...                        ...   ...   ...   ...              ...   \n",
            "Venezuela   8.1             85  14.6  10.1  19.9             11.8   \n",
            "Viet Nam    15.4            55  26.3  21.4  11.9             -3.5   \n",
            "Yemen       41.7           121  41.3  38.4  45.1              3.4   \n",
            "Zambia      35.2           108  53.3  46.0  29.3             -5.9   \n",
            "Zimbabwe    99.0           116  99.0  99.0  34.9              0.0   \n",
            "\n",
            "                  Percent change  \n",
            "Country     2014                  \n",
            "Afghanistan 30.6            -2.3  \n",
            "Albania     9.2            -32.6  \n",
            "Algeria     8.7            -20.7  \n",
            "Angola      26.2            -1.1  \n",
            "Argentina   5.0             36.0  \n",
            "...                          ...  \n",
            "Venezuela   8.1            145.7  \n",
            "Viet Nam    15.4           -22.7  \n",
            "Yemen       41.7             8.2  \n",
            "Zambia      35.2           -16.8  \n",
            "Zimbabwe    99.0             0.0  \n",
            "\n",
            "[129 rows x 6 columns]\n"
          ]
        }
      ]
    },
    {
      "cell_type": "code",
      "source": [
        "dados_agrupados5 = dados.groupby(['Country', '2022']).sum()\n",
        "\n",
        "print(dados_agrupados5)"
      ],
      "metadata": {
        "colab": {
          "base_uri": "https://localhost:8080/"
        },
        "id": "Tzutu5uS0qmk",
        "outputId": "d0323ae4-7b82-4c3d-ffa2-d33b32dd40f4"
      },
      "execution_count": null,
      "outputs": [
        {
          "output_type": "stream",
          "name": "stdout",
          "text": [
            "                  Rank in 2022  2000  2007  2014  Absolute change  \\\n",
            "Country     2022                                                    \n",
            "Afghanistan 29.9           109  50.3  38.7  30.6             -0.7   \n",
            "Albania     6.2             27  20.7  15.8   9.2             -3.0   \n",
            "Algeria     6.9             32  14.5  11.4   8.7             -1.8   \n",
            "Angola      25.9            98  64.9  44.7  26.2             -0.3   \n",
            "Argentina   6.8             31   6.6   5.5   5.0              1.8   \n",
            "...                        ...   ...   ...   ...              ...   \n",
            "Venezuela   19.9            85  14.6  10.1   8.1             11.8   \n",
            "Viet Nam    11.9            55  26.3  21.4  15.4             -3.5   \n",
            "Yemen       45.1           121  41.3  38.4  41.7              3.4   \n",
            "Zambia      29.3           108  53.3  46.0  35.2             -5.9   \n",
            "Zimbabwe    34.9           116  99.0  99.0  99.0              0.0   \n",
            "\n",
            "                  Percent change  \n",
            "Country     2022                  \n",
            "Afghanistan 29.9            -2.3  \n",
            "Albania     6.2            -32.6  \n",
            "Algeria     6.9            -20.7  \n",
            "Angola      25.9            -1.1  \n",
            "Argentina   6.8             36.0  \n",
            "...                          ...  \n",
            "Venezuela   19.9           145.7  \n",
            "Viet Nam    11.9           -22.7  \n",
            "Yemen       45.1             8.2  \n",
            "Zambia      29.3           -16.8  \n",
            "Zimbabwe    34.9             0.0  \n",
            "\n",
            "[129 rows x 6 columns]\n"
          ]
        }
      ]
    },
    {
      "cell_type": "code",
      "source": [
        "dados_agrupados6 = dados.groupby(['Country', '2014', '2022']).sum()\n",
        "\n",
        "print(dados_agrupados6)"
      ],
      "metadata": {
        "colab": {
          "base_uri": "https://localhost:8080/"
        },
        "id": "c--pNC0d0v2C",
        "outputId": "bd80b189-7f61-4380-d863-bdaa1d7327b7"
      },
      "execution_count": null,
      "outputs": [
        {
          "output_type": "stream",
          "name": "stdout",
          "text": [
            "                       Rank in 2022  2000  2007  Absolute change  \\\n",
            "Country     2014 2022                                              \n",
            "Afghanistan 30.6 29.9           109  50.3  38.7             -0.7   \n",
            "Albania     9.2  6.2             27  20.7  15.8             -3.0   \n",
            "Algeria     8.7  6.9             32  14.5  11.4             -1.8   \n",
            "Angola      26.2 25.9            98  64.9  44.7             -0.3   \n",
            "Argentina   5.0  6.8             31   6.6   5.5              1.8   \n",
            "...                             ...   ...   ...              ...   \n",
            "Venezuela   8.1  19.9            85  14.6  10.1             11.8   \n",
            "Viet Nam    15.4 11.9            55  26.3  21.4             -3.5   \n",
            "Yemen       41.7 45.1           121  41.3  38.4              3.4   \n",
            "Zambia      35.2 29.3           108  53.3  46.0             -5.9   \n",
            "Zimbabwe    99.0 34.9           116  99.0  99.0              0.0   \n",
            "\n",
            "                       Percent change  \n",
            "Country     2014 2022                  \n",
            "Afghanistan 30.6 29.9            -2.3  \n",
            "Albania     9.2  6.2            -32.6  \n",
            "Algeria     8.7  6.9            -20.7  \n",
            "Angola      26.2 25.9            -1.1  \n",
            "Argentina   5.0  6.8             36.0  \n",
            "...                               ...  \n",
            "Venezuela   8.1  19.9           145.7  \n",
            "Viet Nam    15.4 11.9           -22.7  \n",
            "Yemen       41.7 45.1             8.2  \n",
            "Zambia      35.2 29.3           -16.8  \n",
            "Zimbabwe    99.0 34.9             0.0  \n",
            "\n",
            "[129 rows x 5 columns]\n"
          ]
        }
      ]
    },
    {
      "cell_type": "markdown",
      "source": [
        "#1- Relatório\n",
        "\n",
        "A análise exploratória dos dados sobre fome mundial revelam uma diminuição significativa entre os anos 2014 e 2022, principalmente quando vistos pelo percentual de mudança, quando agrupados os dados podemos notar que há países subdesenvolvidos que tiveram uma baixa considerável nos pontos de fome, porém também conseguimos ver que outros países, em sua maioria do continente africano, não tiveram mudanças significativas e continuam com níveis altíssimos de fome. Claro que é possível traçar um paralelo entre países explorados e colonizados e países colonizadores, sendo discrepante o desenvolvimento de ambos e a distribuição de recursos."
      ],
      "metadata": {
        "id": "PxZ-60yM2oHj"
      }
    },
    {
      "cell_type": "markdown",
      "source": [
        "#2.a. Modelo Preditivo\n",
        "\n"
      ],
      "metadata": {
        "id": "eJJfHgAENdk1"
      }
    },
    {
      "cell_type": "code",
      "source": [
        "import seaborn as sns\n",
        "import pandas as pd\n",
        "import numpy as np"
      ],
      "metadata": {
        "id": "DaoxtVgPoX4L"
      },
      "execution_count": null,
      "outputs": []
    },
    {
      "cell_type": "code",
      "source": [
        "from sklearn.model_selection import train_test_split\n",
        "from sklearn.impute import SimpleImputer\n",
        "from sklearn.linear_model import LinearRegression\n",
        "from sklearn.model_selection import train_test_split\n",
        "from sklearn.preprocessing import StandardScaler"
      ],
      "metadata": {
        "id": "gjW8oMWAeloz"
      },
      "execution_count": null,
      "outputs": []
    },
    {
      "cell_type": "code",
      "source": [
        "df = pd.read_csv('crop1.csv', sep=',', quotechar='\"')"
      ],
      "metadata": {
        "id": "B7VN8gU2NheP"
      },
      "execution_count": null,
      "outputs": []
    },
    {
      "cell_type": "code",
      "source": [
        "df.shape"
      ],
      "metadata": {
        "colab": {
          "base_uri": "https://localhost:8080/"
        },
        "id": "JcdgWrROntM7",
        "outputId": "e8e8becc-5e7a-45f2-8233-2495864cdb42"
      },
      "execution_count": null,
      "outputs": [
        {
          "output_type": "execute_result",
          "data": {
            "text/plain": [
              "(1895975, 6)"
            ]
          },
          "metadata": {},
          "execution_count": 751
        }
      ]
    },
    {
      "cell_type": "code",
      "source": [
        "df.isnull().sum()"
      ],
      "metadata": {
        "colab": {
          "base_uri": "https://localhost:8080/"
        },
        "id": "BJ-Dc0sR2FVf",
        "outputId": "6a4165ec-ddba-41f6-ce1e-6139277c5ca2"
      },
      "execution_count": null,
      "outputs": [
        {
          "output_type": "execute_result",
          "data": {
            "text/plain": [
              "Area            0\n",
              "Item            0\n",
              "Element         0\n",
              "Year            0\n",
              "Unit            0\n",
              "Value      129500\n",
              "dtype: int64"
            ]
          },
          "metadata": {},
          "execution_count": 752
        }
      ]
    },
    {
      "cell_type": "code",
      "source": [
        "df = df.dropna(how='any')"
      ],
      "metadata": {
        "id": "3uafLWsIhSfR"
      },
      "execution_count": null,
      "outputs": []
    },
    {
      "cell_type": "code",
      "source": [
        "df.info()"
      ],
      "metadata": {
        "colab": {
          "base_uri": "https://localhost:8080/"
        },
        "id": "PWk_ILnZ2Y5L",
        "outputId": "a5fc88da-1c43-40fa-8484-5544d610c5a2"
      },
      "execution_count": null,
      "outputs": [
        {
          "output_type": "stream",
          "name": "stdout",
          "text": [
            "<class 'pandas.core.frame.DataFrame'>\n",
            "Int64Index: 1766475 entries, 0 to 1895974\n",
            "Data columns (total 6 columns):\n",
            " #   Column   Dtype  \n",
            "---  ------   -----  \n",
            " 0   Area     object \n",
            " 1   Item     object \n",
            " 2   Element  object \n",
            " 3   Year     int64  \n",
            " 4   Unit     object \n",
            " 5   Value    float64\n",
            "dtypes: float64(1), int64(1), object(4)\n",
            "memory usage: 94.3+ MB\n"
          ]
        }
      ]
    },
    {
      "cell_type": "code",
      "source": [
        "df.nunique()"
      ],
      "metadata": {
        "colab": {
          "base_uri": "https://localhost:8080/"
        },
        "id": "PVcwkP1L2cuN",
        "outputId": "ef11909c-a2b7-460d-a573-3ce40d869b5f"
      },
      "execution_count": null,
      "outputs": [
        {
          "output_type": "execute_result",
          "data": {
            "text/plain": [
              "Area          245\n",
              "Item          118\n",
              "Element         3\n",
              "Year           60\n",
              "Unit            3\n",
              "Value      420009\n",
              "dtype: int64"
            ]
          },
          "metadata": {},
          "execution_count": 755
        }
      ]
    },
    {
      "cell_type": "code",
      "source": [
        "df"
      ],
      "metadata": {
        "colab": {
          "base_uri": "https://localhost:8080/",
          "height": 424
        },
        "id": "rFsjmJXyWEll",
        "outputId": "b6b5a67c-8e51-4374-9d13-5b8f7dc53485"
      },
      "execution_count": null,
      "outputs": [
        {
          "output_type": "execute_result",
          "data": {
            "text/plain": [
              "                                            Area                 Item  \\\n",
              "0                                    Afghanistan  Almonds, with shell   \n",
              "1                                    Afghanistan  Almonds, with shell   \n",
              "2                                    Afghanistan  Almonds, with shell   \n",
              "3                                    Afghanistan  Almonds, with shell   \n",
              "4                                    Afghanistan  Almonds, with shell   \n",
              "...                                          ...                  ...   \n",
              "1895970  Net Food Importing Developing Countries                Wheat   \n",
              "1895971  Net Food Importing Developing Countries                Wheat   \n",
              "1895972  Net Food Importing Developing Countries                Wheat   \n",
              "1895973  Net Food Importing Developing Countries                Wheat   \n",
              "1895974  Net Food Importing Developing Countries                Wheat   \n",
              "\n",
              "                Element  Year    Unit       Value  \n",
              "0        Area harvested  1975      ha         0.0  \n",
              "1        Area harvested  1976      ha      5900.0  \n",
              "2        Area harvested  1977      ha      6000.0  \n",
              "3        Area harvested  1978      ha      6000.0  \n",
              "4        Area harvested  1979      ha      6000.0  \n",
              "...                 ...   ...     ...         ...  \n",
              "1895970      Production  2016  tonnes  52845182.0  \n",
              "1895971      Production  2017  tonnes  57099662.0  \n",
              "1895972      Production  2018  tonnes  55571780.0  \n",
              "1895973      Production  2019  tonnes  53903035.0  \n",
              "1895974      Production  2020  tonnes  54159916.0  \n",
              "\n",
              "[1766475 rows x 6 columns]"
            ],
            "text/html": [
              "\n",
              "  <div id=\"df-7757a508-f05e-45b6-9b16-cbcbf3c7b0a0\">\n",
              "    <div class=\"colab-df-container\">\n",
              "      <div>\n",
              "<style scoped>\n",
              "    .dataframe tbody tr th:only-of-type {\n",
              "        vertical-align: middle;\n",
              "    }\n",
              "\n",
              "    .dataframe tbody tr th {\n",
              "        vertical-align: top;\n",
              "    }\n",
              "\n",
              "    .dataframe thead th {\n",
              "        text-align: right;\n",
              "    }\n",
              "</style>\n",
              "<table border=\"1\" class=\"dataframe\">\n",
              "  <thead>\n",
              "    <tr style=\"text-align: right;\">\n",
              "      <th></th>\n",
              "      <th>Area</th>\n",
              "      <th>Item</th>\n",
              "      <th>Element</th>\n",
              "      <th>Year</th>\n",
              "      <th>Unit</th>\n",
              "      <th>Value</th>\n",
              "    </tr>\n",
              "  </thead>\n",
              "  <tbody>\n",
              "    <tr>\n",
              "      <th>0</th>\n",
              "      <td>Afghanistan</td>\n",
              "      <td>Almonds, with shell</td>\n",
              "      <td>Area harvested</td>\n",
              "      <td>1975</td>\n",
              "      <td>ha</td>\n",
              "      <td>0.0</td>\n",
              "    </tr>\n",
              "    <tr>\n",
              "      <th>1</th>\n",
              "      <td>Afghanistan</td>\n",
              "      <td>Almonds, with shell</td>\n",
              "      <td>Area harvested</td>\n",
              "      <td>1976</td>\n",
              "      <td>ha</td>\n",
              "      <td>5900.0</td>\n",
              "    </tr>\n",
              "    <tr>\n",
              "      <th>2</th>\n",
              "      <td>Afghanistan</td>\n",
              "      <td>Almonds, with shell</td>\n",
              "      <td>Area harvested</td>\n",
              "      <td>1977</td>\n",
              "      <td>ha</td>\n",
              "      <td>6000.0</td>\n",
              "    </tr>\n",
              "    <tr>\n",
              "      <th>3</th>\n",
              "      <td>Afghanistan</td>\n",
              "      <td>Almonds, with shell</td>\n",
              "      <td>Area harvested</td>\n",
              "      <td>1978</td>\n",
              "      <td>ha</td>\n",
              "      <td>6000.0</td>\n",
              "    </tr>\n",
              "    <tr>\n",
              "      <th>4</th>\n",
              "      <td>Afghanistan</td>\n",
              "      <td>Almonds, with shell</td>\n",
              "      <td>Area harvested</td>\n",
              "      <td>1979</td>\n",
              "      <td>ha</td>\n",
              "      <td>6000.0</td>\n",
              "    </tr>\n",
              "    <tr>\n",
              "      <th>...</th>\n",
              "      <td>...</td>\n",
              "      <td>...</td>\n",
              "      <td>...</td>\n",
              "      <td>...</td>\n",
              "      <td>...</td>\n",
              "      <td>...</td>\n",
              "    </tr>\n",
              "    <tr>\n",
              "      <th>1895970</th>\n",
              "      <td>Net Food Importing Developing Countries</td>\n",
              "      <td>Wheat</td>\n",
              "      <td>Production</td>\n",
              "      <td>2016</td>\n",
              "      <td>tonnes</td>\n",
              "      <td>52845182.0</td>\n",
              "    </tr>\n",
              "    <tr>\n",
              "      <th>1895971</th>\n",
              "      <td>Net Food Importing Developing Countries</td>\n",
              "      <td>Wheat</td>\n",
              "      <td>Production</td>\n",
              "      <td>2017</td>\n",
              "      <td>tonnes</td>\n",
              "      <td>57099662.0</td>\n",
              "    </tr>\n",
              "    <tr>\n",
              "      <th>1895972</th>\n",
              "      <td>Net Food Importing Developing Countries</td>\n",
              "      <td>Wheat</td>\n",
              "      <td>Production</td>\n",
              "      <td>2018</td>\n",
              "      <td>tonnes</td>\n",
              "      <td>55571780.0</td>\n",
              "    </tr>\n",
              "    <tr>\n",
              "      <th>1895973</th>\n",
              "      <td>Net Food Importing Developing Countries</td>\n",
              "      <td>Wheat</td>\n",
              "      <td>Production</td>\n",
              "      <td>2019</td>\n",
              "      <td>tonnes</td>\n",
              "      <td>53903035.0</td>\n",
              "    </tr>\n",
              "    <tr>\n",
              "      <th>1895974</th>\n",
              "      <td>Net Food Importing Developing Countries</td>\n",
              "      <td>Wheat</td>\n",
              "      <td>Production</td>\n",
              "      <td>2020</td>\n",
              "      <td>tonnes</td>\n",
              "      <td>54159916.0</td>\n",
              "    </tr>\n",
              "  </tbody>\n",
              "</table>\n",
              "<p>1766475 rows × 6 columns</p>\n",
              "</div>\n",
              "      <button class=\"colab-df-convert\" onclick=\"convertToInteractive('df-7757a508-f05e-45b6-9b16-cbcbf3c7b0a0')\"\n",
              "              title=\"Convert this dataframe to an interactive table.\"\n",
              "              style=\"display:none;\">\n",
              "        \n",
              "  <svg xmlns=\"http://www.w3.org/2000/svg\" height=\"24px\"viewBox=\"0 0 24 24\"\n",
              "       width=\"24px\">\n",
              "    <path d=\"M0 0h24v24H0V0z\" fill=\"none\"/>\n",
              "    <path d=\"M18.56 5.44l.94 2.06.94-2.06 2.06-.94-2.06-.94-.94-2.06-.94 2.06-2.06.94zm-11 1L8.5 8.5l.94-2.06 2.06-.94-2.06-.94L8.5 2.5l-.94 2.06-2.06.94zm10 10l.94 2.06.94-2.06 2.06-.94-2.06-.94-.94-2.06-.94 2.06-2.06.94z\"/><path d=\"M17.41 7.96l-1.37-1.37c-.4-.4-.92-.59-1.43-.59-.52 0-1.04.2-1.43.59L10.3 9.45l-7.72 7.72c-.78.78-.78 2.05 0 2.83L4 21.41c.39.39.9.59 1.41.59.51 0 1.02-.2 1.41-.59l7.78-7.78 2.81-2.81c.8-.78.8-2.07 0-2.86zM5.41 20L4 18.59l7.72-7.72 1.47 1.35L5.41 20z\"/>\n",
              "  </svg>\n",
              "      </button>\n",
              "      \n",
              "  <style>\n",
              "    .colab-df-container {\n",
              "      display:flex;\n",
              "      flex-wrap:wrap;\n",
              "      gap: 12px;\n",
              "    }\n",
              "\n",
              "    .colab-df-convert {\n",
              "      background-color: #E8F0FE;\n",
              "      border: none;\n",
              "      border-radius: 50%;\n",
              "      cursor: pointer;\n",
              "      display: none;\n",
              "      fill: #1967D2;\n",
              "      height: 32px;\n",
              "      padding: 0 0 0 0;\n",
              "      width: 32px;\n",
              "    }\n",
              "\n",
              "    .colab-df-convert:hover {\n",
              "      background-color: #E2EBFA;\n",
              "      box-shadow: 0px 1px 2px rgba(60, 64, 67, 0.3), 0px 1px 3px 1px rgba(60, 64, 67, 0.15);\n",
              "      fill: #174EA6;\n",
              "    }\n",
              "\n",
              "    [theme=dark] .colab-df-convert {\n",
              "      background-color: #3B4455;\n",
              "      fill: #D2E3FC;\n",
              "    }\n",
              "\n",
              "    [theme=dark] .colab-df-convert:hover {\n",
              "      background-color: #434B5C;\n",
              "      box-shadow: 0px 1px 3px 1px rgba(0, 0, 0, 0.15);\n",
              "      filter: drop-shadow(0px 1px 2px rgba(0, 0, 0, 0.3));\n",
              "      fill: #FFFFFF;\n",
              "    }\n",
              "  </style>\n",
              "\n",
              "      <script>\n",
              "        const buttonEl =\n",
              "          document.querySelector('#df-7757a508-f05e-45b6-9b16-cbcbf3c7b0a0 button.colab-df-convert');\n",
              "        buttonEl.style.display =\n",
              "          google.colab.kernel.accessAllowed ? 'block' : 'none';\n",
              "\n",
              "        async function convertToInteractive(key) {\n",
              "          const element = document.querySelector('#df-7757a508-f05e-45b6-9b16-cbcbf3c7b0a0');\n",
              "          const dataTable =\n",
              "            await google.colab.kernel.invokeFunction('convertToInteractive',\n",
              "                                                     [key], {});\n",
              "          if (!dataTable) return;\n",
              "\n",
              "          const docLinkHtml = 'Like what you see? Visit the ' +\n",
              "            '<a target=\"_blank\" href=https://colab.research.google.com/notebooks/data_table.ipynb>data table notebook</a>'\n",
              "            + ' to learn more about interactive tables.';\n",
              "          element.innerHTML = '';\n",
              "          dataTable['output_type'] = 'display_data';\n",
              "          await google.colab.output.renderOutput(dataTable, element);\n",
              "          const docLink = document.createElement('div');\n",
              "          docLink.innerHTML = docLinkHtml;\n",
              "          element.appendChild(docLink);\n",
              "        }\n",
              "      </script>\n",
              "    </div>\n",
              "  </div>\n",
              "  "
            ]
          },
          "metadata": {},
          "execution_count": 756
        }
      ]
    },
    {
      "cell_type": "code",
      "source": [
        "#Dataframe separado por tonelada(tonnel)\n",
        "df_ton = df[(df['Unit'] == 'tonnes')]"
      ],
      "metadata": {
        "id": "Ej-J83e1JOK2"
      },
      "execution_count": null,
      "outputs": []
    },
    {
      "cell_type": "code",
      "source": [
        "#Dataframe separado por hectare(ha)\n",
        "df_ha = df[(df['Unit'] == 'ha')]"
      ],
      "metadata": {
        "id": "X4ej3MYSKgIb"
      },
      "execution_count": null,
      "outputs": []
    },
    {
      "cell_type": "code",
      "source": [
        "#Dataframe separado por hectograma (hg/ha)\n",
        "df_hg = df[(df['Unit'] == 'hg/ha')]"
      ],
      "metadata": {
        "id": "E5jRHkjgQvO6"
      },
      "execution_count": null,
      "outputs": []
    },
    {
      "cell_type": "markdown",
      "source": [
        "#2.a - Calculando por Value total\n",
        "\n",
        "Inicialmente realizamos com o Value total, sem separar as unidades de medidas e chegamos em tal resultado:\n",
        "\n",
        "\n",
        "\n",
        "1.  2030: 409.141.718,47\n",
        "2.  2050: 413.162.044,68\n",
        "\n",
        "Mas a coluna Unit possui três unidades de medida diferentes, portanto optamos por dividir esse dataframe em três dataframes, cada um com uma unidade de medida para que não houvesse problemas na leitura. Além disso foi feito o tratamento de dados para retirar valores nulos do dataframe.\n"
      ],
      "metadata": {
        "id": "PtrroM00aHUx"
      }
    },
    {
      "cell_type": "code",
      "source": [
        "df.head()"
      ],
      "metadata": {
        "colab": {
          "base_uri": "https://localhost:8080/",
          "height": 206
        },
        "id": "EQMbhcDPaGig",
        "outputId": "59d87949-3701-4bb2-bc04-8a631d93f7f6"
      },
      "execution_count": null,
      "outputs": [
        {
          "output_type": "execute_result",
          "data": {
            "text/plain": [
              "          Area                 Item         Element  Year Unit   Value\n",
              "0  Afghanistan  Almonds, with shell  Area harvested  1975   ha     0.0\n",
              "1  Afghanistan  Almonds, with shell  Area harvested  1976   ha  5900.0\n",
              "2  Afghanistan  Almonds, with shell  Area harvested  1977   ha  6000.0\n",
              "3  Afghanistan  Almonds, with shell  Area harvested  1978   ha  6000.0\n",
              "4  Afghanistan  Almonds, with shell  Area harvested  1979   ha  6000.0"
            ],
            "text/html": [
              "\n",
              "  <div id=\"df-623609f9-00f1-40bb-97c5-d3ecaead04de\">\n",
              "    <div class=\"colab-df-container\">\n",
              "      <div>\n",
              "<style scoped>\n",
              "    .dataframe tbody tr th:only-of-type {\n",
              "        vertical-align: middle;\n",
              "    }\n",
              "\n",
              "    .dataframe tbody tr th {\n",
              "        vertical-align: top;\n",
              "    }\n",
              "\n",
              "    .dataframe thead th {\n",
              "        text-align: right;\n",
              "    }\n",
              "</style>\n",
              "<table border=\"1\" class=\"dataframe\">\n",
              "  <thead>\n",
              "    <tr style=\"text-align: right;\">\n",
              "      <th></th>\n",
              "      <th>Area</th>\n",
              "      <th>Item</th>\n",
              "      <th>Element</th>\n",
              "      <th>Year</th>\n",
              "      <th>Unit</th>\n",
              "      <th>Value</th>\n",
              "    </tr>\n",
              "  </thead>\n",
              "  <tbody>\n",
              "    <tr>\n",
              "      <th>0</th>\n",
              "      <td>Afghanistan</td>\n",
              "      <td>Almonds, with shell</td>\n",
              "      <td>Area harvested</td>\n",
              "      <td>1975</td>\n",
              "      <td>ha</td>\n",
              "      <td>0.0</td>\n",
              "    </tr>\n",
              "    <tr>\n",
              "      <th>1</th>\n",
              "      <td>Afghanistan</td>\n",
              "      <td>Almonds, with shell</td>\n",
              "      <td>Area harvested</td>\n",
              "      <td>1976</td>\n",
              "      <td>ha</td>\n",
              "      <td>5900.0</td>\n",
              "    </tr>\n",
              "    <tr>\n",
              "      <th>2</th>\n",
              "      <td>Afghanistan</td>\n",
              "      <td>Almonds, with shell</td>\n",
              "      <td>Area harvested</td>\n",
              "      <td>1977</td>\n",
              "      <td>ha</td>\n",
              "      <td>6000.0</td>\n",
              "    </tr>\n",
              "    <tr>\n",
              "      <th>3</th>\n",
              "      <td>Afghanistan</td>\n",
              "      <td>Almonds, with shell</td>\n",
              "      <td>Area harvested</td>\n",
              "      <td>1978</td>\n",
              "      <td>ha</td>\n",
              "      <td>6000.0</td>\n",
              "    </tr>\n",
              "    <tr>\n",
              "      <th>4</th>\n",
              "      <td>Afghanistan</td>\n",
              "      <td>Almonds, with shell</td>\n",
              "      <td>Area harvested</td>\n",
              "      <td>1979</td>\n",
              "      <td>ha</td>\n",
              "      <td>6000.0</td>\n",
              "    </tr>\n",
              "  </tbody>\n",
              "</table>\n",
              "</div>\n",
              "      <button class=\"colab-df-convert\" onclick=\"convertToInteractive('df-623609f9-00f1-40bb-97c5-d3ecaead04de')\"\n",
              "              title=\"Convert this dataframe to an interactive table.\"\n",
              "              style=\"display:none;\">\n",
              "        \n",
              "  <svg xmlns=\"http://www.w3.org/2000/svg\" height=\"24px\"viewBox=\"0 0 24 24\"\n",
              "       width=\"24px\">\n",
              "    <path d=\"M0 0h24v24H0V0z\" fill=\"none\"/>\n",
              "    <path d=\"M18.56 5.44l.94 2.06.94-2.06 2.06-.94-2.06-.94-.94-2.06-.94 2.06-2.06.94zm-11 1L8.5 8.5l.94-2.06 2.06-.94-2.06-.94L8.5 2.5l-.94 2.06-2.06.94zm10 10l.94 2.06.94-2.06 2.06-.94-2.06-.94-.94-2.06-.94 2.06-2.06.94z\"/><path d=\"M17.41 7.96l-1.37-1.37c-.4-.4-.92-.59-1.43-.59-.52 0-1.04.2-1.43.59L10.3 9.45l-7.72 7.72c-.78.78-.78 2.05 0 2.83L4 21.41c.39.39.9.59 1.41.59.51 0 1.02-.2 1.41-.59l7.78-7.78 2.81-2.81c.8-.78.8-2.07 0-2.86zM5.41 20L4 18.59l7.72-7.72 1.47 1.35L5.41 20z\"/>\n",
              "  </svg>\n",
              "      </button>\n",
              "      \n",
              "  <style>\n",
              "    .colab-df-container {\n",
              "      display:flex;\n",
              "      flex-wrap:wrap;\n",
              "      gap: 12px;\n",
              "    }\n",
              "\n",
              "    .colab-df-convert {\n",
              "      background-color: #E8F0FE;\n",
              "      border: none;\n",
              "      border-radius: 50%;\n",
              "      cursor: pointer;\n",
              "      display: none;\n",
              "      fill: #1967D2;\n",
              "      height: 32px;\n",
              "      padding: 0 0 0 0;\n",
              "      width: 32px;\n",
              "    }\n",
              "\n",
              "    .colab-df-convert:hover {\n",
              "      background-color: #E2EBFA;\n",
              "      box-shadow: 0px 1px 2px rgba(60, 64, 67, 0.3), 0px 1px 3px 1px rgba(60, 64, 67, 0.15);\n",
              "      fill: #174EA6;\n",
              "    }\n",
              "\n",
              "    [theme=dark] .colab-df-convert {\n",
              "      background-color: #3B4455;\n",
              "      fill: #D2E3FC;\n",
              "    }\n",
              "\n",
              "    [theme=dark] .colab-df-convert:hover {\n",
              "      background-color: #434B5C;\n",
              "      box-shadow: 0px 1px 3px 1px rgba(0, 0, 0, 0.15);\n",
              "      filter: drop-shadow(0px 1px 2px rgba(0, 0, 0, 0.3));\n",
              "      fill: #FFFFFF;\n",
              "    }\n",
              "  </style>\n",
              "\n",
              "      <script>\n",
              "        const buttonEl =\n",
              "          document.querySelector('#df-623609f9-00f1-40bb-97c5-d3ecaead04de button.colab-df-convert');\n",
              "        buttonEl.style.display =\n",
              "          google.colab.kernel.accessAllowed ? 'block' : 'none';\n",
              "\n",
              "        async function convertToInteractive(key) {\n",
              "          const element = document.querySelector('#df-623609f9-00f1-40bb-97c5-d3ecaead04de');\n",
              "          const dataTable =\n",
              "            await google.colab.kernel.invokeFunction('convertToInteractive',\n",
              "                                                     [key], {});\n",
              "          if (!dataTable) return;\n",
              "\n",
              "          const docLinkHtml = 'Like what you see? Visit the ' +\n",
              "            '<a target=\"_blank\" href=https://colab.research.google.com/notebooks/data_table.ipynb>data table notebook</a>'\n",
              "            + ' to learn more about interactive tables.';\n",
              "          element.innerHTML = '';\n",
              "          dataTable['output_type'] = 'display_data';\n",
              "          await google.colab.output.renderOutput(dataTable, element);\n",
              "          const docLink = document.createElement('div');\n",
              "          docLink.innerHTML = docLinkHtml;\n",
              "          element.appendChild(docLink);\n",
              "        }\n",
              "      </script>\n",
              "    </div>\n",
              "  </div>\n",
              "  "
            ]
          },
          "metadata": {},
          "execution_count": 760
        }
      ]
    },
    {
      "cell_type": "code",
      "source": [
        "x = df.drop(columns=['Area', 'Item','Element', 'Unit','Value'])\n",
        "y = df['Value']\n",
        "\n",
        "x_train, x_test, y_train, y_test = train_test_split(x, y, test_size=0.2, random_state=42)"
      ],
      "metadata": {
        "id": "4IHQENiMaNFq"
      },
      "execution_count": null,
      "outputs": []
    },
    {
      "cell_type": "code",
      "source": [
        "scaler = StandardScaler()\n",
        "\n",
        "\n",
        "x_train = x_train.values.reshape(-1, 1)\n",
        "\n",
        "\n",
        "x_train = scaler.fit_transform(x_train)\n",
        "\n",
        "\n",
        "x_test = x_test.values.reshape(-1, 1)\n",
        "x_test = scaler.transform(x_test)\n",
        "\n"
      ],
      "metadata": {
        "id": "YWGsBfvHaNIK"
      },
      "execution_count": null,
      "outputs": []
    },
    {
      "cell_type": "code",
      "source": [
        "len(x_train), len(x_test), len(y_train), len(y_test)"
      ],
      "metadata": {
        "colab": {
          "base_uri": "https://localhost:8080/"
        },
        "id": "vhBF1SFuaNKe",
        "outputId": "37169913-b1d4-44e7-c5a7-e8de8442ee75"
      },
      "execution_count": null,
      "outputs": [
        {
          "output_type": "execute_result",
          "data": {
            "text/plain": [
              "(1413180, 353295, 1413180, 353295)"
            ]
          },
          "metadata": {},
          "execution_count": 763
        }
      ]
    },
    {
      "cell_type": "code",
      "source": [
        "lr = LinearRegression()\n",
        "lr.fit(x_train, y_train)"
      ],
      "metadata": {
        "colab": {
          "base_uri": "https://localhost:8080/",
          "height": 75
        },
        "id": "ISZt8LEBaNMw",
        "outputId": "e19633c8-92c2-475f-a3a2-ca54d3ce3551"
      },
      "execution_count": null,
      "outputs": [
        {
          "output_type": "execute_result",
          "data": {
            "text/plain": [
              "LinearRegression()"
            ],
            "text/html": [
              "<style>#sk-container-id-50 {color: black;background-color: white;}#sk-container-id-50 pre{padding: 0;}#sk-container-id-50 div.sk-toggleable {background-color: white;}#sk-container-id-50 label.sk-toggleable__label {cursor: pointer;display: block;width: 100%;margin-bottom: 0;padding: 0.3em;box-sizing: border-box;text-align: center;}#sk-container-id-50 label.sk-toggleable__label-arrow:before {content: \"▸\";float: left;margin-right: 0.25em;color: #696969;}#sk-container-id-50 label.sk-toggleable__label-arrow:hover:before {color: black;}#sk-container-id-50 div.sk-estimator:hover label.sk-toggleable__label-arrow:before {color: black;}#sk-container-id-50 div.sk-toggleable__content {max-height: 0;max-width: 0;overflow: hidden;text-align: left;background-color: #f0f8ff;}#sk-container-id-50 div.sk-toggleable__content pre {margin: 0.2em;color: black;border-radius: 0.25em;background-color: #f0f8ff;}#sk-container-id-50 input.sk-toggleable__control:checked~div.sk-toggleable__content {max-height: 200px;max-width: 100%;overflow: auto;}#sk-container-id-50 input.sk-toggleable__control:checked~label.sk-toggleable__label-arrow:before {content: \"▾\";}#sk-container-id-50 div.sk-estimator input.sk-toggleable__control:checked~label.sk-toggleable__label {background-color: #d4ebff;}#sk-container-id-50 div.sk-label input.sk-toggleable__control:checked~label.sk-toggleable__label {background-color: #d4ebff;}#sk-container-id-50 input.sk-hidden--visually {border: 0;clip: rect(1px 1px 1px 1px);clip: rect(1px, 1px, 1px, 1px);height: 1px;margin: -1px;overflow: hidden;padding: 0;position: absolute;width: 1px;}#sk-container-id-50 div.sk-estimator {font-family: monospace;background-color: #f0f8ff;border: 1px dotted black;border-radius: 0.25em;box-sizing: border-box;margin-bottom: 0.5em;}#sk-container-id-50 div.sk-estimator:hover {background-color: #d4ebff;}#sk-container-id-50 div.sk-parallel-item::after {content: \"\";width: 100%;border-bottom: 1px solid gray;flex-grow: 1;}#sk-container-id-50 div.sk-label:hover label.sk-toggleable__label {background-color: #d4ebff;}#sk-container-id-50 div.sk-serial::before {content: \"\";position: absolute;border-left: 1px solid gray;box-sizing: border-box;top: 0;bottom: 0;left: 50%;z-index: 0;}#sk-container-id-50 div.sk-serial {display: flex;flex-direction: column;align-items: center;background-color: white;padding-right: 0.2em;padding-left: 0.2em;position: relative;}#sk-container-id-50 div.sk-item {position: relative;z-index: 1;}#sk-container-id-50 div.sk-parallel {display: flex;align-items: stretch;justify-content: center;background-color: white;position: relative;}#sk-container-id-50 div.sk-item::before, #sk-container-id-50 div.sk-parallel-item::before {content: \"\";position: absolute;border-left: 1px solid gray;box-sizing: border-box;top: 0;bottom: 0;left: 50%;z-index: -1;}#sk-container-id-50 div.sk-parallel-item {display: flex;flex-direction: column;z-index: 1;position: relative;background-color: white;}#sk-container-id-50 div.sk-parallel-item:first-child::after {align-self: flex-end;width: 50%;}#sk-container-id-50 div.sk-parallel-item:last-child::after {align-self: flex-start;width: 50%;}#sk-container-id-50 div.sk-parallel-item:only-child::after {width: 0;}#sk-container-id-50 div.sk-dashed-wrapped {border: 1px dashed gray;margin: 0 0.4em 0.5em 0.4em;box-sizing: border-box;padding-bottom: 0.4em;background-color: white;}#sk-container-id-50 div.sk-label label {font-family: monospace;font-weight: bold;display: inline-block;line-height: 1.2em;}#sk-container-id-50 div.sk-label-container {text-align: center;}#sk-container-id-50 div.sk-container {/* jupyter's `normalize.less` sets `[hidden] { display: none; }` but bootstrap.min.css set `[hidden] { display: none !important; }` so we also need the `!important` here to be able to override the default hidden behavior on the sphinx rendered scikit-learn.org. See: https://github.com/scikit-learn/scikit-learn/issues/21755 */display: inline-block !important;position: relative;}#sk-container-id-50 div.sk-text-repr-fallback {display: none;}</style><div id=\"sk-container-id-50\" class=\"sk-top-container\"><div class=\"sk-text-repr-fallback\"><pre>LinearRegression()</pre><b>In a Jupyter environment, please rerun this cell to show the HTML representation or trust the notebook. <br />On GitHub, the HTML representation is unable to render, please try loading this page with nbviewer.org.</b></div><div class=\"sk-container\" hidden><div class=\"sk-item\"><div class=\"sk-estimator sk-toggleable\"><input class=\"sk-toggleable__control sk-hidden--visually\" id=\"sk-estimator-id-50\" type=\"checkbox\" checked><label for=\"sk-estimator-id-50\" class=\"sk-toggleable__label sk-toggleable__label-arrow\">LinearRegression</label><div class=\"sk-toggleable__content\"><pre>LinearRegression()</pre></div></div></div></div></div>"
            ]
          },
          "metadata": {},
          "execution_count": 764
        }
      ]
    },
    {
      "cell_type": "code",
      "source": [
        "score = lr.score(x_test, y_test)\n",
        "print(\"Coeficiente de determinação (R²):\", score)"
      ],
      "metadata": {
        "colab": {
          "base_uri": "https://localhost:8080/"
        },
        "id": "6EHtHvxqaNO8",
        "outputId": "3720e461-6aa4-478b-dfa9-662a8ce12b84"
      },
      "execution_count": null,
      "outputs": [
        {
          "output_type": "stream",
          "name": "stdout",
          "text": [
            "Coeficiente de determinação (R²): 0.0002389377494053102\n"
          ]
        }
      ]
    },
    {
      "cell_type": "code",
      "source": [
        "x_new = scaler.transform(x_test)\n",
        "y_pred = lr.predict(x_new)"
      ],
      "metadata": {
        "id": "PXjYCo3EaNRN"
      },
      "execution_count": null,
      "outputs": []
    },
    {
      "cell_type": "code",
      "source": [
        "years = [2030, 2050]\n",
        "x_new = pd.DataFrame({'Year': years})"
      ],
      "metadata": {
        "id": "ZJuerG8jaNTa"
      },
      "execution_count": null,
      "outputs": []
    },
    {
      "cell_type": "code",
      "source": [
        "y_pred = lr.predict(x_new)"
      ],
      "metadata": {
        "colab": {
          "base_uri": "https://localhost:8080/"
        },
        "id": "tsE8eGDkaNVm",
        "outputId": "0aca685f-6b30-4bab-bcce-657a7734bc10"
      },
      "execution_count": null,
      "outputs": [
        {
          "output_type": "stream",
          "name": "stderr",
          "text": [
            "/usr/local/lib/python3.10/dist-packages/sklearn/base.py:432: UserWarning: X has feature names, but LinearRegression was fitted without feature names\n",
            "  warnings.warn(\n"
          ]
        }
      ]
    },
    {
      "cell_type": "code",
      "source": [
        "for year, prediction in zip(years, y_pred):\n",
        "    print(f\"Previsão de produção para o ano {year}: {prediction}\")"
      ],
      "metadata": {
        "colab": {
          "base_uri": "https://localhost:8080/"
        },
        "id": "wjSQmmTJaNX3",
        "outputId": "788a7aa7-d33b-42ee-d3f5-e443b2448a60"
      },
      "execution_count": null,
      "outputs": [
        {
          "output_type": "stream",
          "name": "stdout",
          "text": [
            "Previsão de produção para o ano 2030: 409141718.4742018\n",
            "Previsão de produção para o ano 2050: 413162044.68566906\n"
          ]
        }
      ]
    },
    {
      "cell_type": "markdown",
      "source": [
        "#2.a -Calculando por toneladas"
      ],
      "metadata": {
        "id": "6q7wXE61Slnt"
      }
    },
    {
      "cell_type": "code",
      "source": [
        "from sklearn.preprocessing import StandardScaler\n",
        "import seaborn as sns"
      ],
      "metadata": {
        "id": "ipnc74ShhOXf"
      },
      "execution_count": null,
      "outputs": []
    },
    {
      "cell_type": "code",
      "source": [
        "df_ton.head()"
      ],
      "metadata": {
        "colab": {
          "base_uri": "https://localhost:8080/",
          "height": 206
        },
        "id": "yrY3Ew0tuw9v",
        "outputId": "97a6cd95-9db6-4014-f23f-3faef23adde3"
      },
      "execution_count": null,
      "outputs": [
        {
          "output_type": "execute_result",
          "data": {
            "text/plain": [
              "           Area                 Item     Element  Year    Unit    Value\n",
              "91  Afghanistan  Almonds, with shell  Production  1975  tonnes      0.0\n",
              "92  Afghanistan  Almonds, with shell  Production  1976  tonnes   9800.0\n",
              "93  Afghanistan  Almonds, with shell  Production  1977  tonnes   9000.0\n",
              "94  Afghanistan  Almonds, with shell  Production  1978  tonnes  12000.0\n",
              "95  Afghanistan  Almonds, with shell  Production  1979  tonnes  10500.0"
            ],
            "text/html": [
              "\n",
              "  <div id=\"df-f29428ed-5f38-41c9-8ba7-65f0f9038af0\">\n",
              "    <div class=\"colab-df-container\">\n",
              "      <div>\n",
              "<style scoped>\n",
              "    .dataframe tbody tr th:only-of-type {\n",
              "        vertical-align: middle;\n",
              "    }\n",
              "\n",
              "    .dataframe tbody tr th {\n",
              "        vertical-align: top;\n",
              "    }\n",
              "\n",
              "    .dataframe thead th {\n",
              "        text-align: right;\n",
              "    }\n",
              "</style>\n",
              "<table border=\"1\" class=\"dataframe\">\n",
              "  <thead>\n",
              "    <tr style=\"text-align: right;\">\n",
              "      <th></th>\n",
              "      <th>Area</th>\n",
              "      <th>Item</th>\n",
              "      <th>Element</th>\n",
              "      <th>Year</th>\n",
              "      <th>Unit</th>\n",
              "      <th>Value</th>\n",
              "    </tr>\n",
              "  </thead>\n",
              "  <tbody>\n",
              "    <tr>\n",
              "      <th>91</th>\n",
              "      <td>Afghanistan</td>\n",
              "      <td>Almonds, with shell</td>\n",
              "      <td>Production</td>\n",
              "      <td>1975</td>\n",
              "      <td>tonnes</td>\n",
              "      <td>0.0</td>\n",
              "    </tr>\n",
              "    <tr>\n",
              "      <th>92</th>\n",
              "      <td>Afghanistan</td>\n",
              "      <td>Almonds, with shell</td>\n",
              "      <td>Production</td>\n",
              "      <td>1976</td>\n",
              "      <td>tonnes</td>\n",
              "      <td>9800.0</td>\n",
              "    </tr>\n",
              "    <tr>\n",
              "      <th>93</th>\n",
              "      <td>Afghanistan</td>\n",
              "      <td>Almonds, with shell</td>\n",
              "      <td>Production</td>\n",
              "      <td>1977</td>\n",
              "      <td>tonnes</td>\n",
              "      <td>9000.0</td>\n",
              "    </tr>\n",
              "    <tr>\n",
              "      <th>94</th>\n",
              "      <td>Afghanistan</td>\n",
              "      <td>Almonds, with shell</td>\n",
              "      <td>Production</td>\n",
              "      <td>1978</td>\n",
              "      <td>tonnes</td>\n",
              "      <td>12000.0</td>\n",
              "    </tr>\n",
              "    <tr>\n",
              "      <th>95</th>\n",
              "      <td>Afghanistan</td>\n",
              "      <td>Almonds, with shell</td>\n",
              "      <td>Production</td>\n",
              "      <td>1979</td>\n",
              "      <td>tonnes</td>\n",
              "      <td>10500.0</td>\n",
              "    </tr>\n",
              "  </tbody>\n",
              "</table>\n",
              "</div>\n",
              "      <button class=\"colab-df-convert\" onclick=\"convertToInteractive('df-f29428ed-5f38-41c9-8ba7-65f0f9038af0')\"\n",
              "              title=\"Convert this dataframe to an interactive table.\"\n",
              "              style=\"display:none;\">\n",
              "        \n",
              "  <svg xmlns=\"http://www.w3.org/2000/svg\" height=\"24px\"viewBox=\"0 0 24 24\"\n",
              "       width=\"24px\">\n",
              "    <path d=\"M0 0h24v24H0V0z\" fill=\"none\"/>\n",
              "    <path d=\"M18.56 5.44l.94 2.06.94-2.06 2.06-.94-2.06-.94-.94-2.06-.94 2.06-2.06.94zm-11 1L8.5 8.5l.94-2.06 2.06-.94-2.06-.94L8.5 2.5l-.94 2.06-2.06.94zm10 10l.94 2.06.94-2.06 2.06-.94-2.06-.94-.94-2.06-.94 2.06-2.06.94z\"/><path d=\"M17.41 7.96l-1.37-1.37c-.4-.4-.92-.59-1.43-.59-.52 0-1.04.2-1.43.59L10.3 9.45l-7.72 7.72c-.78.78-.78 2.05 0 2.83L4 21.41c.39.39.9.59 1.41.59.51 0 1.02-.2 1.41-.59l7.78-7.78 2.81-2.81c.8-.78.8-2.07 0-2.86zM5.41 20L4 18.59l7.72-7.72 1.47 1.35L5.41 20z\"/>\n",
              "  </svg>\n",
              "      </button>\n",
              "      \n",
              "  <style>\n",
              "    .colab-df-container {\n",
              "      display:flex;\n",
              "      flex-wrap:wrap;\n",
              "      gap: 12px;\n",
              "    }\n",
              "\n",
              "    .colab-df-convert {\n",
              "      background-color: #E8F0FE;\n",
              "      border: none;\n",
              "      border-radius: 50%;\n",
              "      cursor: pointer;\n",
              "      display: none;\n",
              "      fill: #1967D2;\n",
              "      height: 32px;\n",
              "      padding: 0 0 0 0;\n",
              "      width: 32px;\n",
              "    }\n",
              "\n",
              "    .colab-df-convert:hover {\n",
              "      background-color: #E2EBFA;\n",
              "      box-shadow: 0px 1px 2px rgba(60, 64, 67, 0.3), 0px 1px 3px 1px rgba(60, 64, 67, 0.15);\n",
              "      fill: #174EA6;\n",
              "    }\n",
              "\n",
              "    [theme=dark] .colab-df-convert {\n",
              "      background-color: #3B4455;\n",
              "      fill: #D2E3FC;\n",
              "    }\n",
              "\n",
              "    [theme=dark] .colab-df-convert:hover {\n",
              "      background-color: #434B5C;\n",
              "      box-shadow: 0px 1px 3px 1px rgba(0, 0, 0, 0.15);\n",
              "      filter: drop-shadow(0px 1px 2px rgba(0, 0, 0, 0.3));\n",
              "      fill: #FFFFFF;\n",
              "    }\n",
              "  </style>\n",
              "\n",
              "      <script>\n",
              "        const buttonEl =\n",
              "          document.querySelector('#df-f29428ed-5f38-41c9-8ba7-65f0f9038af0 button.colab-df-convert');\n",
              "        buttonEl.style.display =\n",
              "          google.colab.kernel.accessAllowed ? 'block' : 'none';\n",
              "\n",
              "        async function convertToInteractive(key) {\n",
              "          const element = document.querySelector('#df-f29428ed-5f38-41c9-8ba7-65f0f9038af0');\n",
              "          const dataTable =\n",
              "            await google.colab.kernel.invokeFunction('convertToInteractive',\n",
              "                                                     [key], {});\n",
              "          if (!dataTable) return;\n",
              "\n",
              "          const docLinkHtml = 'Like what you see? Visit the ' +\n",
              "            '<a target=\"_blank\" href=https://colab.research.google.com/notebooks/data_table.ipynb>data table notebook</a>'\n",
              "            + ' to learn more about interactive tables.';\n",
              "          element.innerHTML = '';\n",
              "          dataTable['output_type'] = 'display_data';\n",
              "          await google.colab.output.renderOutput(dataTable, element);\n",
              "          const docLink = document.createElement('div');\n",
              "          docLink.innerHTML = docLinkHtml;\n",
              "          element.appendChild(docLink);\n",
              "        }\n",
              "      </script>\n",
              "    </div>\n",
              "  </div>\n",
              "  "
            ]
          },
          "metadata": {},
          "execution_count": 771
        }
      ]
    },
    {
      "cell_type": "code",
      "source": [
        "tx = df_ton.drop(columns=['Area', 'Item','Element', 'Unit','Value'])\n",
        "ty = df_ton['Value']\n",
        "\n",
        "tx_train, tx_test, ty_train, ty_test = train_test_split(tx, ty, test_size=0.2, random_state=42)\n"
      ],
      "metadata": {
        "id": "brCUM55zTYv0"
      },
      "execution_count": null,
      "outputs": []
    },
    {
      "cell_type": "code",
      "source": [
        "scalert = StandardScaler()\n",
        "\n",
        "\n",
        "tx_train = tx_train.values.reshape(-1, 1)\n",
        "\n",
        "\n",
        "tx_train = scalert.fit_transform(tx_train)\n",
        "\n",
        "\n",
        "tx_test = tx_test.values.reshape(-1, 1)\n",
        "tx_test = scalert.transform(tx_test)\n",
        "\n"
      ],
      "metadata": {
        "id": "V-bqG4bwR3wM"
      },
      "execution_count": null,
      "outputs": []
    },
    {
      "cell_type": "code",
      "source": [
        "len(tx_train), len(tx_test), len(ty_train), len(ty_test)"
      ],
      "metadata": {
        "colab": {
          "base_uri": "https://localhost:8080/"
        },
        "id": "LmirnnzT8hY2",
        "outputId": "865100cd-fbc8-4297-9432-9a18e07de7de"
      },
      "execution_count": null,
      "outputs": [
        {
          "output_type": "execute_result",
          "data": {
            "text/plain": [
              "(485694, 121424, 485694, 121424)"
            ]
          },
          "metadata": {},
          "execution_count": 774
        }
      ]
    },
    {
      "cell_type": "code",
      "source": [
        "lda = LinearRegression()\n",
        "lda.fit(tx_train, ty_train)"
      ],
      "metadata": {
        "colab": {
          "base_uri": "https://localhost:8080/",
          "height": 75
        },
        "id": "MAWPP4yi_2S1",
        "outputId": "a15d589c-c5ea-4a8e-a431-994fdc89c050"
      },
      "execution_count": null,
      "outputs": [
        {
          "output_type": "execute_result",
          "data": {
            "text/plain": [
              "LinearRegression()"
            ],
            "text/html": [
              "<style>#sk-container-id-51 {color: black;background-color: white;}#sk-container-id-51 pre{padding: 0;}#sk-container-id-51 div.sk-toggleable {background-color: white;}#sk-container-id-51 label.sk-toggleable__label {cursor: pointer;display: block;width: 100%;margin-bottom: 0;padding: 0.3em;box-sizing: border-box;text-align: center;}#sk-container-id-51 label.sk-toggleable__label-arrow:before {content: \"▸\";float: left;margin-right: 0.25em;color: #696969;}#sk-container-id-51 label.sk-toggleable__label-arrow:hover:before {color: black;}#sk-container-id-51 div.sk-estimator:hover label.sk-toggleable__label-arrow:before {color: black;}#sk-container-id-51 div.sk-toggleable__content {max-height: 0;max-width: 0;overflow: hidden;text-align: left;background-color: #f0f8ff;}#sk-container-id-51 div.sk-toggleable__content pre {margin: 0.2em;color: black;border-radius: 0.25em;background-color: #f0f8ff;}#sk-container-id-51 input.sk-toggleable__control:checked~div.sk-toggleable__content {max-height: 200px;max-width: 100%;overflow: auto;}#sk-container-id-51 input.sk-toggleable__control:checked~label.sk-toggleable__label-arrow:before {content: \"▾\";}#sk-container-id-51 div.sk-estimator input.sk-toggleable__control:checked~label.sk-toggleable__label {background-color: #d4ebff;}#sk-container-id-51 div.sk-label input.sk-toggleable__control:checked~label.sk-toggleable__label {background-color: #d4ebff;}#sk-container-id-51 input.sk-hidden--visually {border: 0;clip: rect(1px 1px 1px 1px);clip: rect(1px, 1px, 1px, 1px);height: 1px;margin: -1px;overflow: hidden;padding: 0;position: absolute;width: 1px;}#sk-container-id-51 div.sk-estimator {font-family: monospace;background-color: #f0f8ff;border: 1px dotted black;border-radius: 0.25em;box-sizing: border-box;margin-bottom: 0.5em;}#sk-container-id-51 div.sk-estimator:hover {background-color: #d4ebff;}#sk-container-id-51 div.sk-parallel-item::after {content: \"\";width: 100%;border-bottom: 1px solid gray;flex-grow: 1;}#sk-container-id-51 div.sk-label:hover label.sk-toggleable__label {background-color: #d4ebff;}#sk-container-id-51 div.sk-serial::before {content: \"\";position: absolute;border-left: 1px solid gray;box-sizing: border-box;top: 0;bottom: 0;left: 50%;z-index: 0;}#sk-container-id-51 div.sk-serial {display: flex;flex-direction: column;align-items: center;background-color: white;padding-right: 0.2em;padding-left: 0.2em;position: relative;}#sk-container-id-51 div.sk-item {position: relative;z-index: 1;}#sk-container-id-51 div.sk-parallel {display: flex;align-items: stretch;justify-content: center;background-color: white;position: relative;}#sk-container-id-51 div.sk-item::before, #sk-container-id-51 div.sk-parallel-item::before {content: \"\";position: absolute;border-left: 1px solid gray;box-sizing: border-box;top: 0;bottom: 0;left: 50%;z-index: -1;}#sk-container-id-51 div.sk-parallel-item {display: flex;flex-direction: column;z-index: 1;position: relative;background-color: white;}#sk-container-id-51 div.sk-parallel-item:first-child::after {align-self: flex-end;width: 50%;}#sk-container-id-51 div.sk-parallel-item:last-child::after {align-self: flex-start;width: 50%;}#sk-container-id-51 div.sk-parallel-item:only-child::after {width: 0;}#sk-container-id-51 div.sk-dashed-wrapped {border: 1px dashed gray;margin: 0 0.4em 0.5em 0.4em;box-sizing: border-box;padding-bottom: 0.4em;background-color: white;}#sk-container-id-51 div.sk-label label {font-family: monospace;font-weight: bold;display: inline-block;line-height: 1.2em;}#sk-container-id-51 div.sk-label-container {text-align: center;}#sk-container-id-51 div.sk-container {/* jupyter's `normalize.less` sets `[hidden] { display: none; }` but bootstrap.min.css set `[hidden] { display: none !important; }` so we also need the `!important` here to be able to override the default hidden behavior on the sphinx rendered scikit-learn.org. See: https://github.com/scikit-learn/scikit-learn/issues/21755 */display: inline-block !important;position: relative;}#sk-container-id-51 div.sk-text-repr-fallback {display: none;}</style><div id=\"sk-container-id-51\" class=\"sk-top-container\"><div class=\"sk-text-repr-fallback\"><pre>LinearRegression()</pre><b>In a Jupyter environment, please rerun this cell to show the HTML representation or trust the notebook. <br />On GitHub, the HTML representation is unable to render, please try loading this page with nbviewer.org.</b></div><div class=\"sk-container\" hidden><div class=\"sk-item\"><div class=\"sk-estimator sk-toggleable\"><input class=\"sk-toggleable__control sk-hidden--visually\" id=\"sk-estimator-id-51\" type=\"checkbox\" checked><label for=\"sk-estimator-id-51\" class=\"sk-toggleable__label sk-toggleable__label-arrow\">LinearRegression</label><div class=\"sk-toggleable__content\"><pre>LinearRegression()</pre></div></div></div></div></div>"
            ]
          },
          "metadata": {},
          "execution_count": 775
        }
      ]
    },
    {
      "cell_type": "code",
      "source": [
        "scoret = lda.score(tx_test, ty_test)\n",
        "print(\"Coeficiente de determinação (R²):\", scoret)"
      ],
      "metadata": {
        "id": "jiIgkwt_4j5N",
        "colab": {
          "base_uri": "https://localhost:8080/"
        },
        "outputId": "6b1f1ed9-3c2c-41ed-8447-7259f85a035b"
      },
      "execution_count": null,
      "outputs": [
        {
          "output_type": "stream",
          "name": "stdout",
          "text": [
            "Coeficiente de determinação (R²): 0.0007354082490698133\n"
          ]
        }
      ]
    },
    {
      "cell_type": "code",
      "source": [
        "tx_new = scalert.transform(tx_test)\n",
        "ty_pred = lda.predict(tx_new)"
      ],
      "metadata": {
        "id": "yXy-0vt6SM9w"
      },
      "execution_count": null,
      "outputs": []
    },
    {
      "cell_type": "code",
      "source": [
        "yearst = [2030, 2050]\n",
        "tx_new = pd.DataFrame({'Year': yearst})"
      ],
      "metadata": {
        "id": "obb9pIcuSb5d"
      },
      "execution_count": null,
      "outputs": []
    },
    {
      "cell_type": "code",
      "source": [
        "ty_pred = lda.predict(tx_new)"
      ],
      "metadata": {
        "colab": {
          "base_uri": "https://localhost:8080/"
        },
        "id": "Wag5rOCWShv3",
        "outputId": "9bc8d00b-c36a-49f5-c66f-7a9334b7b7ee"
      },
      "execution_count": null,
      "outputs": [
        {
          "output_type": "stream",
          "name": "stderr",
          "text": [
            "/usr/local/lib/python3.10/dist-packages/sklearn/base.py:432: UserWarning: X has feature names, but LinearRegression was fitted without feature names\n",
            "  warnings.warn(\n"
          ]
        }
      ]
    },
    {
      "cell_type": "code",
      "source": [
        "for year, prediction in zip(yearst, ty_pred):\n",
        "    print(f\"Previsão de produção para o ano {year}: {prediction}\")"
      ],
      "metadata": {
        "colab": {
          "base_uri": "https://localhost:8080/"
        },
        "id": "RkQ6ob82SnVV",
        "outputId": "05ff3bdf-2c93-48f9-fc79-d2cec6f53156"
      },
      "execution_count": null,
      "outputs": [
        {
          "output_type": "stream",
          "name": "stdout",
          "text": [
            "Previsão de produção para o ano 2030: 1268658098.2432375\n",
            "Previsão de produção para o ano 2050: 1281132793.4422834\n"
          ]
        }
      ]
    },
    {
      "cell_type": "markdown",
      "source": [
        "#2.a - Calculando por hectares"
      ],
      "metadata": {
        "id": "48VVT2kQTvXF"
      }
    },
    {
      "cell_type": "code",
      "source": [
        "df_ha.head()"
      ],
      "metadata": {
        "colab": {
          "base_uri": "https://localhost:8080/",
          "height": 206
        },
        "id": "5AJTDhieT1NW",
        "outputId": "b26231a5-639c-423f-b109-d0a19d8e731d"
      },
      "execution_count": null,
      "outputs": [
        {
          "output_type": "execute_result",
          "data": {
            "text/plain": [
              "          Area                 Item         Element  Year Unit   Value\n",
              "0  Afghanistan  Almonds, with shell  Area harvested  1975   ha     0.0\n",
              "1  Afghanistan  Almonds, with shell  Area harvested  1976   ha  5900.0\n",
              "2  Afghanistan  Almonds, with shell  Area harvested  1977   ha  6000.0\n",
              "3  Afghanistan  Almonds, with shell  Area harvested  1978   ha  6000.0\n",
              "4  Afghanistan  Almonds, with shell  Area harvested  1979   ha  6000.0"
            ],
            "text/html": [
              "\n",
              "  <div id=\"df-6f51c86a-4723-41b7-915b-fd48cd6576a4\">\n",
              "    <div class=\"colab-df-container\">\n",
              "      <div>\n",
              "<style scoped>\n",
              "    .dataframe tbody tr th:only-of-type {\n",
              "        vertical-align: middle;\n",
              "    }\n",
              "\n",
              "    .dataframe tbody tr th {\n",
              "        vertical-align: top;\n",
              "    }\n",
              "\n",
              "    .dataframe thead th {\n",
              "        text-align: right;\n",
              "    }\n",
              "</style>\n",
              "<table border=\"1\" class=\"dataframe\">\n",
              "  <thead>\n",
              "    <tr style=\"text-align: right;\">\n",
              "      <th></th>\n",
              "      <th>Area</th>\n",
              "      <th>Item</th>\n",
              "      <th>Element</th>\n",
              "      <th>Year</th>\n",
              "      <th>Unit</th>\n",
              "      <th>Value</th>\n",
              "    </tr>\n",
              "  </thead>\n",
              "  <tbody>\n",
              "    <tr>\n",
              "      <th>0</th>\n",
              "      <td>Afghanistan</td>\n",
              "      <td>Almonds, with shell</td>\n",
              "      <td>Area harvested</td>\n",
              "      <td>1975</td>\n",
              "      <td>ha</td>\n",
              "      <td>0.0</td>\n",
              "    </tr>\n",
              "    <tr>\n",
              "      <th>1</th>\n",
              "      <td>Afghanistan</td>\n",
              "      <td>Almonds, with shell</td>\n",
              "      <td>Area harvested</td>\n",
              "      <td>1976</td>\n",
              "      <td>ha</td>\n",
              "      <td>5900.0</td>\n",
              "    </tr>\n",
              "    <tr>\n",
              "      <th>2</th>\n",
              "      <td>Afghanistan</td>\n",
              "      <td>Almonds, with shell</td>\n",
              "      <td>Area harvested</td>\n",
              "      <td>1977</td>\n",
              "      <td>ha</td>\n",
              "      <td>6000.0</td>\n",
              "    </tr>\n",
              "    <tr>\n",
              "      <th>3</th>\n",
              "      <td>Afghanistan</td>\n",
              "      <td>Almonds, with shell</td>\n",
              "      <td>Area harvested</td>\n",
              "      <td>1978</td>\n",
              "      <td>ha</td>\n",
              "      <td>6000.0</td>\n",
              "    </tr>\n",
              "    <tr>\n",
              "      <th>4</th>\n",
              "      <td>Afghanistan</td>\n",
              "      <td>Almonds, with shell</td>\n",
              "      <td>Area harvested</td>\n",
              "      <td>1979</td>\n",
              "      <td>ha</td>\n",
              "      <td>6000.0</td>\n",
              "    </tr>\n",
              "  </tbody>\n",
              "</table>\n",
              "</div>\n",
              "      <button class=\"colab-df-convert\" onclick=\"convertToInteractive('df-6f51c86a-4723-41b7-915b-fd48cd6576a4')\"\n",
              "              title=\"Convert this dataframe to an interactive table.\"\n",
              "              style=\"display:none;\">\n",
              "        \n",
              "  <svg xmlns=\"http://www.w3.org/2000/svg\" height=\"24px\"viewBox=\"0 0 24 24\"\n",
              "       width=\"24px\">\n",
              "    <path d=\"M0 0h24v24H0V0z\" fill=\"none\"/>\n",
              "    <path d=\"M18.56 5.44l.94 2.06.94-2.06 2.06-.94-2.06-.94-.94-2.06-.94 2.06-2.06.94zm-11 1L8.5 8.5l.94-2.06 2.06-.94-2.06-.94L8.5 2.5l-.94 2.06-2.06.94zm10 10l.94 2.06.94-2.06 2.06-.94-2.06-.94-.94-2.06-.94 2.06-2.06.94z\"/><path d=\"M17.41 7.96l-1.37-1.37c-.4-.4-.92-.59-1.43-.59-.52 0-1.04.2-1.43.59L10.3 9.45l-7.72 7.72c-.78.78-.78 2.05 0 2.83L4 21.41c.39.39.9.59 1.41.59.51 0 1.02-.2 1.41-.59l7.78-7.78 2.81-2.81c.8-.78.8-2.07 0-2.86zM5.41 20L4 18.59l7.72-7.72 1.47 1.35L5.41 20z\"/>\n",
              "  </svg>\n",
              "      </button>\n",
              "      \n",
              "  <style>\n",
              "    .colab-df-container {\n",
              "      display:flex;\n",
              "      flex-wrap:wrap;\n",
              "      gap: 12px;\n",
              "    }\n",
              "\n",
              "    .colab-df-convert {\n",
              "      background-color: #E8F0FE;\n",
              "      border: none;\n",
              "      border-radius: 50%;\n",
              "      cursor: pointer;\n",
              "      display: none;\n",
              "      fill: #1967D2;\n",
              "      height: 32px;\n",
              "      padding: 0 0 0 0;\n",
              "      width: 32px;\n",
              "    }\n",
              "\n",
              "    .colab-df-convert:hover {\n",
              "      background-color: #E2EBFA;\n",
              "      box-shadow: 0px 1px 2px rgba(60, 64, 67, 0.3), 0px 1px 3px 1px rgba(60, 64, 67, 0.15);\n",
              "      fill: #174EA6;\n",
              "    }\n",
              "\n",
              "    [theme=dark] .colab-df-convert {\n",
              "      background-color: #3B4455;\n",
              "      fill: #D2E3FC;\n",
              "    }\n",
              "\n",
              "    [theme=dark] .colab-df-convert:hover {\n",
              "      background-color: #434B5C;\n",
              "      box-shadow: 0px 1px 3px 1px rgba(0, 0, 0, 0.15);\n",
              "      filter: drop-shadow(0px 1px 2px rgba(0, 0, 0, 0.3));\n",
              "      fill: #FFFFFF;\n",
              "    }\n",
              "  </style>\n",
              "\n",
              "      <script>\n",
              "        const buttonEl =\n",
              "          document.querySelector('#df-6f51c86a-4723-41b7-915b-fd48cd6576a4 button.colab-df-convert');\n",
              "        buttonEl.style.display =\n",
              "          google.colab.kernel.accessAllowed ? 'block' : 'none';\n",
              "\n",
              "        async function convertToInteractive(key) {\n",
              "          const element = document.querySelector('#df-6f51c86a-4723-41b7-915b-fd48cd6576a4');\n",
              "          const dataTable =\n",
              "            await google.colab.kernel.invokeFunction('convertToInteractive',\n",
              "                                                     [key], {});\n",
              "          if (!dataTable) return;\n",
              "\n",
              "          const docLinkHtml = 'Like what you see? Visit the ' +\n",
              "            '<a target=\"_blank\" href=https://colab.research.google.com/notebooks/data_table.ipynb>data table notebook</a>'\n",
              "            + ' to learn more about interactive tables.';\n",
              "          element.innerHTML = '';\n",
              "          dataTable['output_type'] = 'display_data';\n",
              "          await google.colab.output.renderOutput(dataTable, element);\n",
              "          const docLink = document.createElement('div');\n",
              "          docLink.innerHTML = docLinkHtml;\n",
              "          element.appendChild(docLink);\n",
              "        }\n",
              "      </script>\n",
              "    </div>\n",
              "  </div>\n",
              "  "
            ]
          },
          "metadata": {},
          "execution_count": 781
        }
      ]
    },
    {
      "cell_type": "code",
      "source": [
        "b = df_ha['Year']\n",
        "c = df_ha['Value']\n",
        "\n",
        "b_train, b_test, c_train, c_test = train_test_split(b, c, test_size=0.2, random_state=42)"
      ],
      "metadata": {
        "id": "DBZvLAA0T1yt"
      },
      "execution_count": null,
      "outputs": []
    },
    {
      "cell_type": "code",
      "source": [
        "scaler2 = StandardScaler()\n",
        "\n",
        "\n",
        "b_train = b_train.values.reshape(-1, 1)\n",
        "\n",
        "\n",
        "b_train = scaler2.fit_transform(b_train)\n",
        "\n",
        "\n",
        "b_test = b_test.values.reshape(-1, 1)\n",
        "b_test = scaler2.transform(b_test)"
      ],
      "metadata": {
        "id": "L7yAZsr7T16B"
      },
      "execution_count": null,
      "outputs": []
    },
    {
      "cell_type": "code",
      "source": [
        "halda = LinearRegression()\n",
        "halda.fit(b_train, c_train)\n"
      ],
      "metadata": {
        "colab": {
          "base_uri": "https://localhost:8080/",
          "height": 75
        },
        "id": "9jI8eVmnT2Af",
        "outputId": "4d2cf0cf-8a5b-4762-fbb6-e4934ade499e"
      },
      "execution_count": null,
      "outputs": [
        {
          "output_type": "execute_result",
          "data": {
            "text/plain": [
              "LinearRegression()"
            ],
            "text/html": [
              "<style>#sk-container-id-52 {color: black;background-color: white;}#sk-container-id-52 pre{padding: 0;}#sk-container-id-52 div.sk-toggleable {background-color: white;}#sk-container-id-52 label.sk-toggleable__label {cursor: pointer;display: block;width: 100%;margin-bottom: 0;padding: 0.3em;box-sizing: border-box;text-align: center;}#sk-container-id-52 label.sk-toggleable__label-arrow:before {content: \"▸\";float: left;margin-right: 0.25em;color: #696969;}#sk-container-id-52 label.sk-toggleable__label-arrow:hover:before {color: black;}#sk-container-id-52 div.sk-estimator:hover label.sk-toggleable__label-arrow:before {color: black;}#sk-container-id-52 div.sk-toggleable__content {max-height: 0;max-width: 0;overflow: hidden;text-align: left;background-color: #f0f8ff;}#sk-container-id-52 div.sk-toggleable__content pre {margin: 0.2em;color: black;border-radius: 0.25em;background-color: #f0f8ff;}#sk-container-id-52 input.sk-toggleable__control:checked~div.sk-toggleable__content {max-height: 200px;max-width: 100%;overflow: auto;}#sk-container-id-52 input.sk-toggleable__control:checked~label.sk-toggleable__label-arrow:before {content: \"▾\";}#sk-container-id-52 div.sk-estimator input.sk-toggleable__control:checked~label.sk-toggleable__label {background-color: #d4ebff;}#sk-container-id-52 div.sk-label input.sk-toggleable__control:checked~label.sk-toggleable__label {background-color: #d4ebff;}#sk-container-id-52 input.sk-hidden--visually {border: 0;clip: rect(1px 1px 1px 1px);clip: rect(1px, 1px, 1px, 1px);height: 1px;margin: -1px;overflow: hidden;padding: 0;position: absolute;width: 1px;}#sk-container-id-52 div.sk-estimator {font-family: monospace;background-color: #f0f8ff;border: 1px dotted black;border-radius: 0.25em;box-sizing: border-box;margin-bottom: 0.5em;}#sk-container-id-52 div.sk-estimator:hover {background-color: #d4ebff;}#sk-container-id-52 div.sk-parallel-item::after {content: \"\";width: 100%;border-bottom: 1px solid gray;flex-grow: 1;}#sk-container-id-52 div.sk-label:hover label.sk-toggleable__label {background-color: #d4ebff;}#sk-container-id-52 div.sk-serial::before {content: \"\";position: absolute;border-left: 1px solid gray;box-sizing: border-box;top: 0;bottom: 0;left: 50%;z-index: 0;}#sk-container-id-52 div.sk-serial {display: flex;flex-direction: column;align-items: center;background-color: white;padding-right: 0.2em;padding-left: 0.2em;position: relative;}#sk-container-id-52 div.sk-item {position: relative;z-index: 1;}#sk-container-id-52 div.sk-parallel {display: flex;align-items: stretch;justify-content: center;background-color: white;position: relative;}#sk-container-id-52 div.sk-item::before, #sk-container-id-52 div.sk-parallel-item::before {content: \"\";position: absolute;border-left: 1px solid gray;box-sizing: border-box;top: 0;bottom: 0;left: 50%;z-index: -1;}#sk-container-id-52 div.sk-parallel-item {display: flex;flex-direction: column;z-index: 1;position: relative;background-color: white;}#sk-container-id-52 div.sk-parallel-item:first-child::after {align-self: flex-end;width: 50%;}#sk-container-id-52 div.sk-parallel-item:last-child::after {align-self: flex-start;width: 50%;}#sk-container-id-52 div.sk-parallel-item:only-child::after {width: 0;}#sk-container-id-52 div.sk-dashed-wrapped {border: 1px dashed gray;margin: 0 0.4em 0.5em 0.4em;box-sizing: border-box;padding-bottom: 0.4em;background-color: white;}#sk-container-id-52 div.sk-label label {font-family: monospace;font-weight: bold;display: inline-block;line-height: 1.2em;}#sk-container-id-52 div.sk-label-container {text-align: center;}#sk-container-id-52 div.sk-container {/* jupyter's `normalize.less` sets `[hidden] { display: none; }` but bootstrap.min.css set `[hidden] { display: none !important; }` so we also need the `!important` here to be able to override the default hidden behavior on the sphinx rendered scikit-learn.org. See: https://github.com/scikit-learn/scikit-learn/issues/21755 */display: inline-block !important;position: relative;}#sk-container-id-52 div.sk-text-repr-fallback {display: none;}</style><div id=\"sk-container-id-52\" class=\"sk-top-container\"><div class=\"sk-text-repr-fallback\"><pre>LinearRegression()</pre><b>In a Jupyter environment, please rerun this cell to show the HTML representation or trust the notebook. <br />On GitHub, the HTML representation is unable to render, please try loading this page with nbviewer.org.</b></div><div class=\"sk-container\" hidden><div class=\"sk-item\"><div class=\"sk-estimator sk-toggleable\"><input class=\"sk-toggleable__control sk-hidden--visually\" id=\"sk-estimator-id-52\" type=\"checkbox\" checked><label for=\"sk-estimator-id-52\" class=\"sk-toggleable__label sk-toggleable__label-arrow\">LinearRegression</label><div class=\"sk-toggleable__content\"><pre>LinearRegression()</pre></div></div></div></div></div>"
            ]
          },
          "metadata": {},
          "execution_count": 784
        }
      ]
    },
    {
      "cell_type": "code",
      "source": [
        "score2 = halda.score(b_test, c_test)\n",
        "print(\"Coeficiente de determinação (R²):\", score2)"
      ],
      "metadata": {
        "colab": {
          "base_uri": "https://localhost:8080/"
        },
        "id": "MoPsltFST2Hz",
        "outputId": "4d172155-65a6-460f-cfa8-cb89ea60383b"
      },
      "execution_count": null,
      "outputs": [
        {
          "output_type": "stream",
          "name": "stdout",
          "text": [
            "Coeficiente de determinação (R²): 3.0989896873445666e-05\n"
          ]
        }
      ]
    },
    {
      "cell_type": "code",
      "source": [
        "b_new = scaler2.transform(b_test)\n",
        "c_pred = halda.predict(b_new)"
      ],
      "metadata": {
        "id": "Xl9yG2VvUwGc"
      },
      "execution_count": null,
      "outputs": []
    },
    {
      "cell_type": "code",
      "source": [
        "years2 = [2030, 2050]\n",
        "b_new = pd.DataFrame({'Year': years2})"
      ],
      "metadata": {
        "id": "wUupTYDiU1yV"
      },
      "execution_count": null,
      "outputs": []
    },
    {
      "cell_type": "code",
      "source": [
        "c_pred = halda.predict(b_new)"
      ],
      "metadata": {
        "colab": {
          "base_uri": "https://localhost:8080/"
        },
        "id": "L8Hlo30nU5RF",
        "outputId": "48611dd9-e10b-4d7e-9806-f7be0681bfc9"
      },
      "execution_count": null,
      "outputs": [
        {
          "output_type": "stream",
          "name": "stderr",
          "text": [
            "/usr/local/lib/python3.10/dist-packages/sklearn/base.py:432: UserWarning: X has feature names, but LinearRegression was fitted without feature names\n",
            "  warnings.warn(\n"
          ]
        }
      ]
    },
    {
      "cell_type": "code",
      "source": [
        "for year, prediction in zip(years2, c_pred):\n",
        "    print(f\"Previsão de produção para o ano {year}: {prediction*-1}\")"
      ],
      "metadata": {
        "colab": {
          "base_uri": "https://localhost:8080/"
        },
        "id": "MrZGv-leU5a9",
        "outputId": "b5580820-cc19-48c1-f6ae-7251a4846606"
      },
      "execution_count": null,
      "outputs": [
        {
          "output_type": "stream",
          "name": "stdout",
          "text": [
            "Previsão de produção para o ano 2030: 25886780.56088815\n",
            "Previsão de produção para o ano 2050: 26147370.32752798\n"
          ]
        }
      ]
    },
    {
      "cell_type": "code",
      "source": [],
      "metadata": {
        "id": "WwBgEbIJUvVs"
      },
      "execution_count": null,
      "outputs": []
    },
    {
      "cell_type": "markdown",
      "source": [
        "#2.a - Calculando por hectograma"
      ],
      "metadata": {
        "id": "YqKQE3I1-wJw"
      }
    },
    {
      "cell_type": "code",
      "source": [
        "df_hg.head(80)"
      ],
      "metadata": {
        "colab": {
          "base_uri": "https://localhost:8080/",
          "height": 424
        },
        "id": "uHpVFmwW-z2g",
        "outputId": "64d91a3e-6bac-4033-a9df-5a116521e09a"
      },
      "execution_count": null,
      "outputs": [
        {
          "output_type": "execute_result",
          "data": {
            "text/plain": [
              "            Area                              Item Element  Year   Unit  \\\n",
              "46   Afghanistan               Almonds, with shell   Yield  1976  hg/ha   \n",
              "47   Afghanistan               Almonds, with shell   Yield  1977  hg/ha   \n",
              "48   Afghanistan               Almonds, with shell   Yield  1978  hg/ha   \n",
              "49   Afghanistan               Almonds, with shell   Yield  1979  hg/ha   \n",
              "50   Afghanistan               Almonds, with shell   Yield  1980  hg/ha   \n",
              "..           ...                               ...     ...   ...    ...   \n",
              "227  Afghanistan  Anise, badian, fennel, coriander   Yield  2016  hg/ha   \n",
              "228  Afghanistan  Anise, badian, fennel, coriander   Yield  2017  hg/ha   \n",
              "229  Afghanistan  Anise, badian, fennel, coriander   Yield  2018  hg/ha   \n",
              "230  Afghanistan  Anise, badian, fennel, coriander   Yield  2019  hg/ha   \n",
              "231  Afghanistan  Anise, badian, fennel, coriander   Yield  2020  hg/ha   \n",
              "\n",
              "       Value  \n",
              "46   16610.0  \n",
              "47   15000.0  \n",
              "48   20000.0  \n",
              "49   17500.0  \n",
              "50   17069.0  \n",
              "..       ...  \n",
              "227   7075.0  \n",
              "228   7149.0  \n",
              "229   7142.0  \n",
              "230   7123.0  \n",
              "231   7138.0  \n",
              "\n",
              "[80 rows x 6 columns]"
            ],
            "text/html": [
              "\n",
              "  <div id=\"df-736dc2cb-0e68-4225-a950-600592e45bc6\">\n",
              "    <div class=\"colab-df-container\">\n",
              "      <div>\n",
              "<style scoped>\n",
              "    .dataframe tbody tr th:only-of-type {\n",
              "        vertical-align: middle;\n",
              "    }\n",
              "\n",
              "    .dataframe tbody tr th {\n",
              "        vertical-align: top;\n",
              "    }\n",
              "\n",
              "    .dataframe thead th {\n",
              "        text-align: right;\n",
              "    }\n",
              "</style>\n",
              "<table border=\"1\" class=\"dataframe\">\n",
              "  <thead>\n",
              "    <tr style=\"text-align: right;\">\n",
              "      <th></th>\n",
              "      <th>Area</th>\n",
              "      <th>Item</th>\n",
              "      <th>Element</th>\n",
              "      <th>Year</th>\n",
              "      <th>Unit</th>\n",
              "      <th>Value</th>\n",
              "    </tr>\n",
              "  </thead>\n",
              "  <tbody>\n",
              "    <tr>\n",
              "      <th>46</th>\n",
              "      <td>Afghanistan</td>\n",
              "      <td>Almonds, with shell</td>\n",
              "      <td>Yield</td>\n",
              "      <td>1976</td>\n",
              "      <td>hg/ha</td>\n",
              "      <td>16610.0</td>\n",
              "    </tr>\n",
              "    <tr>\n",
              "      <th>47</th>\n",
              "      <td>Afghanistan</td>\n",
              "      <td>Almonds, with shell</td>\n",
              "      <td>Yield</td>\n",
              "      <td>1977</td>\n",
              "      <td>hg/ha</td>\n",
              "      <td>15000.0</td>\n",
              "    </tr>\n",
              "    <tr>\n",
              "      <th>48</th>\n",
              "      <td>Afghanistan</td>\n",
              "      <td>Almonds, with shell</td>\n",
              "      <td>Yield</td>\n",
              "      <td>1978</td>\n",
              "      <td>hg/ha</td>\n",
              "      <td>20000.0</td>\n",
              "    </tr>\n",
              "    <tr>\n",
              "      <th>49</th>\n",
              "      <td>Afghanistan</td>\n",
              "      <td>Almonds, with shell</td>\n",
              "      <td>Yield</td>\n",
              "      <td>1979</td>\n",
              "      <td>hg/ha</td>\n",
              "      <td>17500.0</td>\n",
              "    </tr>\n",
              "    <tr>\n",
              "      <th>50</th>\n",
              "      <td>Afghanistan</td>\n",
              "      <td>Almonds, with shell</td>\n",
              "      <td>Yield</td>\n",
              "      <td>1980</td>\n",
              "      <td>hg/ha</td>\n",
              "      <td>17069.0</td>\n",
              "    </tr>\n",
              "    <tr>\n",
              "      <th>...</th>\n",
              "      <td>...</td>\n",
              "      <td>...</td>\n",
              "      <td>...</td>\n",
              "      <td>...</td>\n",
              "      <td>...</td>\n",
              "      <td>...</td>\n",
              "    </tr>\n",
              "    <tr>\n",
              "      <th>227</th>\n",
              "      <td>Afghanistan</td>\n",
              "      <td>Anise, badian, fennel, coriander</td>\n",
              "      <td>Yield</td>\n",
              "      <td>2016</td>\n",
              "      <td>hg/ha</td>\n",
              "      <td>7075.0</td>\n",
              "    </tr>\n",
              "    <tr>\n",
              "      <th>228</th>\n",
              "      <td>Afghanistan</td>\n",
              "      <td>Anise, badian, fennel, coriander</td>\n",
              "      <td>Yield</td>\n",
              "      <td>2017</td>\n",
              "      <td>hg/ha</td>\n",
              "      <td>7149.0</td>\n",
              "    </tr>\n",
              "    <tr>\n",
              "      <th>229</th>\n",
              "      <td>Afghanistan</td>\n",
              "      <td>Anise, badian, fennel, coriander</td>\n",
              "      <td>Yield</td>\n",
              "      <td>2018</td>\n",
              "      <td>hg/ha</td>\n",
              "      <td>7142.0</td>\n",
              "    </tr>\n",
              "    <tr>\n",
              "      <th>230</th>\n",
              "      <td>Afghanistan</td>\n",
              "      <td>Anise, badian, fennel, coriander</td>\n",
              "      <td>Yield</td>\n",
              "      <td>2019</td>\n",
              "      <td>hg/ha</td>\n",
              "      <td>7123.0</td>\n",
              "    </tr>\n",
              "    <tr>\n",
              "      <th>231</th>\n",
              "      <td>Afghanistan</td>\n",
              "      <td>Anise, badian, fennel, coriander</td>\n",
              "      <td>Yield</td>\n",
              "      <td>2020</td>\n",
              "      <td>hg/ha</td>\n",
              "      <td>7138.0</td>\n",
              "    </tr>\n",
              "  </tbody>\n",
              "</table>\n",
              "<p>80 rows × 6 columns</p>\n",
              "</div>\n",
              "      <button class=\"colab-df-convert\" onclick=\"convertToInteractive('df-736dc2cb-0e68-4225-a950-600592e45bc6')\"\n",
              "              title=\"Convert this dataframe to an interactive table.\"\n",
              "              style=\"display:none;\">\n",
              "        \n",
              "  <svg xmlns=\"http://www.w3.org/2000/svg\" height=\"24px\"viewBox=\"0 0 24 24\"\n",
              "       width=\"24px\">\n",
              "    <path d=\"M0 0h24v24H0V0z\" fill=\"none\"/>\n",
              "    <path d=\"M18.56 5.44l.94 2.06.94-2.06 2.06-.94-2.06-.94-.94-2.06-.94 2.06-2.06.94zm-11 1L8.5 8.5l.94-2.06 2.06-.94-2.06-.94L8.5 2.5l-.94 2.06-2.06.94zm10 10l.94 2.06.94-2.06 2.06-.94-2.06-.94-.94-2.06-.94 2.06-2.06.94z\"/><path d=\"M17.41 7.96l-1.37-1.37c-.4-.4-.92-.59-1.43-.59-.52 0-1.04.2-1.43.59L10.3 9.45l-7.72 7.72c-.78.78-.78 2.05 0 2.83L4 21.41c.39.39.9.59 1.41.59.51 0 1.02-.2 1.41-.59l7.78-7.78 2.81-2.81c.8-.78.8-2.07 0-2.86zM5.41 20L4 18.59l7.72-7.72 1.47 1.35L5.41 20z\"/>\n",
              "  </svg>\n",
              "      </button>\n",
              "      \n",
              "  <style>\n",
              "    .colab-df-container {\n",
              "      display:flex;\n",
              "      flex-wrap:wrap;\n",
              "      gap: 12px;\n",
              "    }\n",
              "\n",
              "    .colab-df-convert {\n",
              "      background-color: #E8F0FE;\n",
              "      border: none;\n",
              "      border-radius: 50%;\n",
              "      cursor: pointer;\n",
              "      display: none;\n",
              "      fill: #1967D2;\n",
              "      height: 32px;\n",
              "      padding: 0 0 0 0;\n",
              "      width: 32px;\n",
              "    }\n",
              "\n",
              "    .colab-df-convert:hover {\n",
              "      background-color: #E2EBFA;\n",
              "      box-shadow: 0px 1px 2px rgba(60, 64, 67, 0.3), 0px 1px 3px 1px rgba(60, 64, 67, 0.15);\n",
              "      fill: #174EA6;\n",
              "    }\n",
              "\n",
              "    [theme=dark] .colab-df-convert {\n",
              "      background-color: #3B4455;\n",
              "      fill: #D2E3FC;\n",
              "    }\n",
              "\n",
              "    [theme=dark] .colab-df-convert:hover {\n",
              "      background-color: #434B5C;\n",
              "      box-shadow: 0px 1px 3px 1px rgba(0, 0, 0, 0.15);\n",
              "      filter: drop-shadow(0px 1px 2px rgba(0, 0, 0, 0.3));\n",
              "      fill: #FFFFFF;\n",
              "    }\n",
              "  </style>\n",
              "\n",
              "      <script>\n",
              "        const buttonEl =\n",
              "          document.querySelector('#df-736dc2cb-0e68-4225-a950-600592e45bc6 button.colab-df-convert');\n",
              "        buttonEl.style.display =\n",
              "          google.colab.kernel.accessAllowed ? 'block' : 'none';\n",
              "\n",
              "        async function convertToInteractive(key) {\n",
              "          const element = document.querySelector('#df-736dc2cb-0e68-4225-a950-600592e45bc6');\n",
              "          const dataTable =\n",
              "            await google.colab.kernel.invokeFunction('convertToInteractive',\n",
              "                                                     [key], {});\n",
              "          if (!dataTable) return;\n",
              "\n",
              "          const docLinkHtml = 'Like what you see? Visit the ' +\n",
              "            '<a target=\"_blank\" href=https://colab.research.google.com/notebooks/data_table.ipynb>data table notebook</a>'\n",
              "            + ' to learn more about interactive tables.';\n",
              "          element.innerHTML = '';\n",
              "          dataTable['output_type'] = 'display_data';\n",
              "          await google.colab.output.renderOutput(dataTable, element);\n",
              "          const docLink = document.createElement('div');\n",
              "          docLink.innerHTML = docLinkHtml;\n",
              "          element.appendChild(docLink);\n",
              "        }\n",
              "      </script>\n",
              "    </div>\n",
              "  </div>\n",
              "  "
            ]
          },
          "metadata": {},
          "execution_count": 790
        }
      ]
    },
    {
      "cell_type": "code",
      "source": [
        "d = df_hg['Year']\n",
        "f = df_hg['Value']\n",
        "\n",
        "d_train, d_test, f_train, f_test = train_test_split(d, f, test_size=0.2, random_state=42)"
      ],
      "metadata": {
        "id": "jNZy06UI-3ft"
      },
      "execution_count": null,
      "outputs": []
    },
    {
      "cell_type": "code",
      "source": [
        "scaler3 = StandardScaler()\n",
        "\n",
        "\n",
        "d_train = d_train.values.reshape(-1, 1)\n",
        "\n",
        "\n",
        "d_train = scaler3.fit_transform(d_train)\n",
        "\n",
        "\n",
        "d_test = d_test.values.reshape(-1, 1)\n",
        "d_test = scaler3.transform(d_test)"
      ],
      "metadata": {
        "id": "APdZta9X-3m3"
      },
      "execution_count": null,
      "outputs": []
    },
    {
      "cell_type": "code",
      "source": [
        "hglda = LinearRegression()\n",
        "hglda.fit(d_train, f_train)\n"
      ],
      "metadata": {
        "colab": {
          "base_uri": "https://localhost:8080/",
          "height": 75
        },
        "id": "pigkl_7d-3uR",
        "outputId": "58fe1c6e-7e02-4f31-c95e-28c108732ce7"
      },
      "execution_count": null,
      "outputs": [
        {
          "output_type": "execute_result",
          "data": {
            "text/plain": [
              "LinearRegression()"
            ],
            "text/html": [
              "<style>#sk-container-id-53 {color: black;background-color: white;}#sk-container-id-53 pre{padding: 0;}#sk-container-id-53 div.sk-toggleable {background-color: white;}#sk-container-id-53 label.sk-toggleable__label {cursor: pointer;display: block;width: 100%;margin-bottom: 0;padding: 0.3em;box-sizing: border-box;text-align: center;}#sk-container-id-53 label.sk-toggleable__label-arrow:before {content: \"▸\";float: left;margin-right: 0.25em;color: #696969;}#sk-container-id-53 label.sk-toggleable__label-arrow:hover:before {color: black;}#sk-container-id-53 div.sk-estimator:hover label.sk-toggleable__label-arrow:before {color: black;}#sk-container-id-53 div.sk-toggleable__content {max-height: 0;max-width: 0;overflow: hidden;text-align: left;background-color: #f0f8ff;}#sk-container-id-53 div.sk-toggleable__content pre {margin: 0.2em;color: black;border-radius: 0.25em;background-color: #f0f8ff;}#sk-container-id-53 input.sk-toggleable__control:checked~div.sk-toggleable__content {max-height: 200px;max-width: 100%;overflow: auto;}#sk-container-id-53 input.sk-toggleable__control:checked~label.sk-toggleable__label-arrow:before {content: \"▾\";}#sk-container-id-53 div.sk-estimator input.sk-toggleable__control:checked~label.sk-toggleable__label {background-color: #d4ebff;}#sk-container-id-53 div.sk-label input.sk-toggleable__control:checked~label.sk-toggleable__label {background-color: #d4ebff;}#sk-container-id-53 input.sk-hidden--visually {border: 0;clip: rect(1px 1px 1px 1px);clip: rect(1px, 1px, 1px, 1px);height: 1px;margin: -1px;overflow: hidden;padding: 0;position: absolute;width: 1px;}#sk-container-id-53 div.sk-estimator {font-family: monospace;background-color: #f0f8ff;border: 1px dotted black;border-radius: 0.25em;box-sizing: border-box;margin-bottom: 0.5em;}#sk-container-id-53 div.sk-estimator:hover {background-color: #d4ebff;}#sk-container-id-53 div.sk-parallel-item::after {content: \"\";width: 100%;border-bottom: 1px solid gray;flex-grow: 1;}#sk-container-id-53 div.sk-label:hover label.sk-toggleable__label {background-color: #d4ebff;}#sk-container-id-53 div.sk-serial::before {content: \"\";position: absolute;border-left: 1px solid gray;box-sizing: border-box;top: 0;bottom: 0;left: 50%;z-index: 0;}#sk-container-id-53 div.sk-serial {display: flex;flex-direction: column;align-items: center;background-color: white;padding-right: 0.2em;padding-left: 0.2em;position: relative;}#sk-container-id-53 div.sk-item {position: relative;z-index: 1;}#sk-container-id-53 div.sk-parallel {display: flex;align-items: stretch;justify-content: center;background-color: white;position: relative;}#sk-container-id-53 div.sk-item::before, #sk-container-id-53 div.sk-parallel-item::before {content: \"\";position: absolute;border-left: 1px solid gray;box-sizing: border-box;top: 0;bottom: 0;left: 50%;z-index: -1;}#sk-container-id-53 div.sk-parallel-item {display: flex;flex-direction: column;z-index: 1;position: relative;background-color: white;}#sk-container-id-53 div.sk-parallel-item:first-child::after {align-self: flex-end;width: 50%;}#sk-container-id-53 div.sk-parallel-item:last-child::after {align-self: flex-start;width: 50%;}#sk-container-id-53 div.sk-parallel-item:only-child::after {width: 0;}#sk-container-id-53 div.sk-dashed-wrapped {border: 1px dashed gray;margin: 0 0.4em 0.5em 0.4em;box-sizing: border-box;padding-bottom: 0.4em;background-color: white;}#sk-container-id-53 div.sk-label label {font-family: monospace;font-weight: bold;display: inline-block;line-height: 1.2em;}#sk-container-id-53 div.sk-label-container {text-align: center;}#sk-container-id-53 div.sk-container {/* jupyter's `normalize.less` sets `[hidden] { display: none; }` but bootstrap.min.css set `[hidden] { display: none !important; }` so we also need the `!important` here to be able to override the default hidden behavior on the sphinx rendered scikit-learn.org. See: https://github.com/scikit-learn/scikit-learn/issues/21755 */display: inline-block !important;position: relative;}#sk-container-id-53 div.sk-text-repr-fallback {display: none;}</style><div id=\"sk-container-id-53\" class=\"sk-top-container\"><div class=\"sk-text-repr-fallback\"><pre>LinearRegression()</pre><b>In a Jupyter environment, please rerun this cell to show the HTML representation or trust the notebook. <br />On GitHub, the HTML representation is unable to render, please try loading this page with nbviewer.org.</b></div><div class=\"sk-container\" hidden><div class=\"sk-item\"><div class=\"sk-estimator sk-toggleable\"><input class=\"sk-toggleable__control sk-hidden--visually\" id=\"sk-estimator-id-53\" type=\"checkbox\" checked><label for=\"sk-estimator-id-53\" class=\"sk-toggleable__label sk-toggleable__label-arrow\">LinearRegression</label><div class=\"sk-toggleable__content\"><pre>LinearRegression()</pre></div></div></div></div></div>"
            ]
          },
          "metadata": {},
          "execution_count": 793
        }
      ]
    },
    {
      "cell_type": "code",
      "source": [
        "score3 = hglda.score(d_test, f_test)\n",
        "print(\"Coeficiente de determinação (R²):\", score3)"
      ],
      "metadata": {
        "colab": {
          "base_uri": "https://localhost:8080/"
        },
        "id": "KljKjko3-3ws",
        "outputId": "223f008a-5032-4bdc-b34f-425d41a92c2d"
      },
      "execution_count": null,
      "outputs": [
        {
          "output_type": "stream",
          "name": "stdout",
          "text": [
            "Coeficiente de determinação (R²): 0.00019858528158944733\n"
          ]
        }
      ]
    },
    {
      "cell_type": "code",
      "source": [
        "d_new = scaler3.transform(d_test)\n",
        "f_pred = hglda.predict(d_new)"
      ],
      "metadata": {
        "id": "ejXALYgT-3zA"
      },
      "execution_count": null,
      "outputs": []
    },
    {
      "cell_type": "code",
      "source": [
        "years3 = [2030, 2050]\n",
        "d_new = pd.DataFrame({'Year': years3})"
      ],
      "metadata": {
        "id": "WVZ_oDD0-31X"
      },
      "execution_count": null,
      "outputs": []
    },
    {
      "cell_type": "code",
      "source": [
        "f_pred = hglda.predict(d_new)"
      ],
      "metadata": {
        "colab": {
          "base_uri": "https://localhost:8080/"
        },
        "id": "MbKNbdib-33p",
        "outputId": "aaa29552-2cfb-4df4-c773-28244130938e"
      },
      "execution_count": null,
      "outputs": [
        {
          "output_type": "stream",
          "name": "stderr",
          "text": [
            "/usr/local/lib/python3.10/dist-packages/sklearn/base.py:432: UserWarning: X has feature names, but LinearRegression was fitted without feature names\n",
            "  warnings.warn(\n"
          ]
        }
      ]
    },
    {
      "cell_type": "code",
      "source": [
        "for year, prediction in zip(years3, f_pred):\n",
        "    print(f\"Previsão de produção para o ano {year}: {prediction}\")"
      ],
      "metadata": {
        "colab": {
          "base_uri": "https://localhost:8080/"
        },
        "id": "3AHcE7Ws-382",
        "outputId": "0fbb96ed-1a20-4968-fe90-fd554817901f"
      },
      "execution_count": null,
      "outputs": [
        {
          "output_type": "stream",
          "name": "stdout",
          "text": [
            "Previsão de produção para o ano 2030: 50269865.74446642\n",
            "Previsão de produção para o ano 2050: 50763917.3524694\n"
          ]
        }
      ]
    },
    {
      "cell_type": "code",
      "source": [],
      "metadata": {
        "id": "E158eBJ4-4AW"
      },
      "execution_count": null,
      "outputs": []
    },
    {
      "cell_type": "markdown",
      "source": [
        "#2.a - Relatório\n",
        "\n",
        "A previsão de colheita para 2030 e 2050 foi feita com regressão linear e analisando unidades de medida separados, dentro do dataframe podemos notar que há três unidades diferentes, sendo ha (hectare), hg/ha (hectograma) e toneladas, dessa forma separamos os dados e vizemos predições com base em cada unidade de medida. As previsões são:\n",
        "\n",
        "\n",
        "---\n",
        "\n",
        "2030\n",
        "\n",
        "1.   Toneladas: 1.268.658.098,24\n",
        "2.   Hectares: 25.886.780,5\n",
        "3.   Hectogramas: 50.269.865,74\n",
        "\n",
        "---\n",
        "\n",
        "2050\n",
        "\n",
        "1.   Toneladas: 1.281.132.793,44\n",
        "2.   Hectares: 26.147.370,32\n",
        "3.   Hectogramas: 50.763.917,35\n",
        "\n",
        "---\n",
        "\n",
        "Assim conseguimos notar um aumento, mesmo que baixo, na produção de colheita entre esse período, portanto posso considerar otimista visto que não houve uma previsão de diminuição.\n"
      ],
      "metadata": {
        "id": "XY-CWTfH1cUx"
      }
    },
    {
      "cell_type": "markdown",
      "source": [
        "#2.b - Filtrando pelo país Brasil\n",
        "\n",
        "Inicialmente tentamos fazer a regressão utilizando todos os dados da coluna Value juntos, aplicamos os testes e treinamos o algoritmo que resultou em:\n",
        "\n",
        "1.  2030: 3.394.553.643,33\n",
        "2.  2050: 3.427.968.321,50\n",
        "\n",
        "Porém os valores não estão unificados, portanto não da pra especificar a unidade de medida, visto que estão misturadas unidades de peso e de área juntas, por isso optamos por separar os três tipos de unidades de medida da coluna Unit para então calcular os valores e fazer as predições.\n",
        "\n"
      ],
      "metadata": {
        "id": "c-K58qIpSoUJ"
      }
    },
    {
      "cell_type": "code",
      "source": [
        "df_br = df[(df['Area'] == 'Brazil')]"
      ],
      "metadata": {
        "id": "6-HU1J10XpU5"
      },
      "execution_count": null,
      "outputs": []
    },
    {
      "cell_type": "code",
      "source": [
        "df_br = df_br.dropna(how='any')"
      ],
      "metadata": {
        "id": "VhsctI3PX-Fi"
      },
      "execution_count": null,
      "outputs": []
    },
    {
      "cell_type": "code",
      "source": [
        "df_br.head()"
      ],
      "metadata": {
        "colab": {
          "base_uri": "https://localhost:8080/",
          "height": 206
        },
        "id": "ZtjDXSVmYPzS",
        "outputId": "e1a3b82a-4244-44e5-919d-633245de1ccd"
      },
      "execution_count": null,
      "outputs": [
        {
          "output_type": "execute_result",
          "data": {
            "text/plain": [
              "          Area    Item         Element  Year Unit   Value\n",
              "143159  Brazil  Apples  Area harvested  1961   ha  2097.0\n",
              "143160  Brazil  Apples  Area harvested  1962   ha  2349.0\n",
              "143161  Brazil  Apples  Area harvested  1963   ha  2324.0\n",
              "143162  Brazil  Apples  Area harvested  1964   ha  2271.0\n",
              "143163  Brazil  Apples  Area harvested  1965   ha  2375.0"
            ],
            "text/html": [
              "\n",
              "  <div id=\"df-a7db4a98-1545-48eb-a5bf-f85b61b4d7a5\">\n",
              "    <div class=\"colab-df-container\">\n",
              "      <div>\n",
              "<style scoped>\n",
              "    .dataframe tbody tr th:only-of-type {\n",
              "        vertical-align: middle;\n",
              "    }\n",
              "\n",
              "    .dataframe tbody tr th {\n",
              "        vertical-align: top;\n",
              "    }\n",
              "\n",
              "    .dataframe thead th {\n",
              "        text-align: right;\n",
              "    }\n",
              "</style>\n",
              "<table border=\"1\" class=\"dataframe\">\n",
              "  <thead>\n",
              "    <tr style=\"text-align: right;\">\n",
              "      <th></th>\n",
              "      <th>Area</th>\n",
              "      <th>Item</th>\n",
              "      <th>Element</th>\n",
              "      <th>Year</th>\n",
              "      <th>Unit</th>\n",
              "      <th>Value</th>\n",
              "    </tr>\n",
              "  </thead>\n",
              "  <tbody>\n",
              "    <tr>\n",
              "      <th>143159</th>\n",
              "      <td>Brazil</td>\n",
              "      <td>Apples</td>\n",
              "      <td>Area harvested</td>\n",
              "      <td>1961</td>\n",
              "      <td>ha</td>\n",
              "      <td>2097.0</td>\n",
              "    </tr>\n",
              "    <tr>\n",
              "      <th>143160</th>\n",
              "      <td>Brazil</td>\n",
              "      <td>Apples</td>\n",
              "      <td>Area harvested</td>\n",
              "      <td>1962</td>\n",
              "      <td>ha</td>\n",
              "      <td>2349.0</td>\n",
              "    </tr>\n",
              "    <tr>\n",
              "      <th>143161</th>\n",
              "      <td>Brazil</td>\n",
              "      <td>Apples</td>\n",
              "      <td>Area harvested</td>\n",
              "      <td>1963</td>\n",
              "      <td>ha</td>\n",
              "      <td>2324.0</td>\n",
              "    </tr>\n",
              "    <tr>\n",
              "      <th>143162</th>\n",
              "      <td>Brazil</td>\n",
              "      <td>Apples</td>\n",
              "      <td>Area harvested</td>\n",
              "      <td>1964</td>\n",
              "      <td>ha</td>\n",
              "      <td>2271.0</td>\n",
              "    </tr>\n",
              "    <tr>\n",
              "      <th>143163</th>\n",
              "      <td>Brazil</td>\n",
              "      <td>Apples</td>\n",
              "      <td>Area harvested</td>\n",
              "      <td>1965</td>\n",
              "      <td>ha</td>\n",
              "      <td>2375.0</td>\n",
              "    </tr>\n",
              "  </tbody>\n",
              "</table>\n",
              "</div>\n",
              "      <button class=\"colab-df-convert\" onclick=\"convertToInteractive('df-a7db4a98-1545-48eb-a5bf-f85b61b4d7a5')\"\n",
              "              title=\"Convert this dataframe to an interactive table.\"\n",
              "              style=\"display:none;\">\n",
              "        \n",
              "  <svg xmlns=\"http://www.w3.org/2000/svg\" height=\"24px\"viewBox=\"0 0 24 24\"\n",
              "       width=\"24px\">\n",
              "    <path d=\"M0 0h24v24H0V0z\" fill=\"none\"/>\n",
              "    <path d=\"M18.56 5.44l.94 2.06.94-2.06 2.06-.94-2.06-.94-.94-2.06-.94 2.06-2.06.94zm-11 1L8.5 8.5l.94-2.06 2.06-.94-2.06-.94L8.5 2.5l-.94 2.06-2.06.94zm10 10l.94 2.06.94-2.06 2.06-.94-2.06-.94-.94-2.06-.94 2.06-2.06.94z\"/><path d=\"M17.41 7.96l-1.37-1.37c-.4-.4-.92-.59-1.43-.59-.52 0-1.04.2-1.43.59L10.3 9.45l-7.72 7.72c-.78.78-.78 2.05 0 2.83L4 21.41c.39.39.9.59 1.41.59.51 0 1.02-.2 1.41-.59l7.78-7.78 2.81-2.81c.8-.78.8-2.07 0-2.86zM5.41 20L4 18.59l7.72-7.72 1.47 1.35L5.41 20z\"/>\n",
              "  </svg>\n",
              "      </button>\n",
              "      \n",
              "  <style>\n",
              "    .colab-df-container {\n",
              "      display:flex;\n",
              "      flex-wrap:wrap;\n",
              "      gap: 12px;\n",
              "    }\n",
              "\n",
              "    .colab-df-convert {\n",
              "      background-color: #E8F0FE;\n",
              "      border: none;\n",
              "      border-radius: 50%;\n",
              "      cursor: pointer;\n",
              "      display: none;\n",
              "      fill: #1967D2;\n",
              "      height: 32px;\n",
              "      padding: 0 0 0 0;\n",
              "      width: 32px;\n",
              "    }\n",
              "\n",
              "    .colab-df-convert:hover {\n",
              "      background-color: #E2EBFA;\n",
              "      box-shadow: 0px 1px 2px rgba(60, 64, 67, 0.3), 0px 1px 3px 1px rgba(60, 64, 67, 0.15);\n",
              "      fill: #174EA6;\n",
              "    }\n",
              "\n",
              "    [theme=dark] .colab-df-convert {\n",
              "      background-color: #3B4455;\n",
              "      fill: #D2E3FC;\n",
              "    }\n",
              "\n",
              "    [theme=dark] .colab-df-convert:hover {\n",
              "      background-color: #434B5C;\n",
              "      box-shadow: 0px 1px 3px 1px rgba(0, 0, 0, 0.15);\n",
              "      filter: drop-shadow(0px 1px 2px rgba(0, 0, 0, 0.3));\n",
              "      fill: #FFFFFF;\n",
              "    }\n",
              "  </style>\n",
              "\n",
              "      <script>\n",
              "        const buttonEl =\n",
              "          document.querySelector('#df-a7db4a98-1545-48eb-a5bf-f85b61b4d7a5 button.colab-df-convert');\n",
              "        buttonEl.style.display =\n",
              "          google.colab.kernel.accessAllowed ? 'block' : 'none';\n",
              "\n",
              "        async function convertToInteractive(key) {\n",
              "          const element = document.querySelector('#df-a7db4a98-1545-48eb-a5bf-f85b61b4d7a5');\n",
              "          const dataTable =\n",
              "            await google.colab.kernel.invokeFunction('convertToInteractive',\n",
              "                                                     [key], {});\n",
              "          if (!dataTable) return;\n",
              "\n",
              "          const docLinkHtml = 'Like what you see? Visit the ' +\n",
              "            '<a target=\"_blank\" href=https://colab.research.google.com/notebooks/data_table.ipynb>data table notebook</a>'\n",
              "            + ' to learn more about interactive tables.';\n",
              "          element.innerHTML = '';\n",
              "          dataTable['output_type'] = 'display_data';\n",
              "          await google.colab.output.renderOutput(dataTable, element);\n",
              "          const docLink = document.createElement('div');\n",
              "          docLink.innerHTML = docLinkHtml;\n",
              "          element.appendChild(docLink);\n",
              "        }\n",
              "      </script>\n",
              "    </div>\n",
              "  </div>\n",
              "  "
            ]
          },
          "metadata": {},
          "execution_count": 801
        }
      ]
    },
    {
      "cell_type": "code",
      "source": [
        "bx = df_br['Year']\n",
        "by = df_br['Value']\n",
        "\n",
        "bx_train, bx_test, by_train, by_test = train_test_split(bx, by, test_size=0.2, random_state=42)"
      ],
      "metadata": {
        "id": "jkvJuIKgYYKh"
      },
      "execution_count": null,
      "outputs": []
    },
    {
      "cell_type": "code",
      "source": [
        "scalerbr = StandardScaler()\n",
        "\n",
        "# Ajuste a forma dos dados de treinamento para uma matriz 2D\n",
        "bx_train = bx_train.values.reshape(-1, 1)\n",
        "\n",
        "# Ajuste o scaler aos dados de treinamento e transforme-os\n",
        "bx_train = scalerbr.fit_transform(bx_train)\n",
        "\n",
        "# Transforme os dados de teste usando o scaler ajustado aos dados de treinamento\n",
        "bx_test = bx_test.values.reshape(-1, 1)\n",
        "bx_test = scalerbr.transform(bx_test)"
      ],
      "metadata": {
        "id": "bXJKsHelYYVx"
      },
      "execution_count": null,
      "outputs": []
    },
    {
      "cell_type": "code",
      "source": [
        "rgrbr = LinearRegression()\n",
        "rgrbr.fit(bx_train, by_train)"
      ],
      "metadata": {
        "colab": {
          "base_uri": "https://localhost:8080/",
          "height": 75
        },
        "id": "nZcX7nZRYYYA",
        "outputId": "db9af8ff-0c83-4763-a6af-ad348b550a9c"
      },
      "execution_count": null,
      "outputs": [
        {
          "output_type": "execute_result",
          "data": {
            "text/plain": [
              "LinearRegression()"
            ],
            "text/html": [
              "<style>#sk-container-id-54 {color: black;background-color: white;}#sk-container-id-54 pre{padding: 0;}#sk-container-id-54 div.sk-toggleable {background-color: white;}#sk-container-id-54 label.sk-toggleable__label {cursor: pointer;display: block;width: 100%;margin-bottom: 0;padding: 0.3em;box-sizing: border-box;text-align: center;}#sk-container-id-54 label.sk-toggleable__label-arrow:before {content: \"▸\";float: left;margin-right: 0.25em;color: #696969;}#sk-container-id-54 label.sk-toggleable__label-arrow:hover:before {color: black;}#sk-container-id-54 div.sk-estimator:hover label.sk-toggleable__label-arrow:before {color: black;}#sk-container-id-54 div.sk-toggleable__content {max-height: 0;max-width: 0;overflow: hidden;text-align: left;background-color: #f0f8ff;}#sk-container-id-54 div.sk-toggleable__content pre {margin: 0.2em;color: black;border-radius: 0.25em;background-color: #f0f8ff;}#sk-container-id-54 input.sk-toggleable__control:checked~div.sk-toggleable__content {max-height: 200px;max-width: 100%;overflow: auto;}#sk-container-id-54 input.sk-toggleable__control:checked~label.sk-toggleable__label-arrow:before {content: \"▾\";}#sk-container-id-54 div.sk-estimator input.sk-toggleable__control:checked~label.sk-toggleable__label {background-color: #d4ebff;}#sk-container-id-54 div.sk-label input.sk-toggleable__control:checked~label.sk-toggleable__label {background-color: #d4ebff;}#sk-container-id-54 input.sk-hidden--visually {border: 0;clip: rect(1px 1px 1px 1px);clip: rect(1px, 1px, 1px, 1px);height: 1px;margin: -1px;overflow: hidden;padding: 0;position: absolute;width: 1px;}#sk-container-id-54 div.sk-estimator {font-family: monospace;background-color: #f0f8ff;border: 1px dotted black;border-radius: 0.25em;box-sizing: border-box;margin-bottom: 0.5em;}#sk-container-id-54 div.sk-estimator:hover {background-color: #d4ebff;}#sk-container-id-54 div.sk-parallel-item::after {content: \"\";width: 100%;border-bottom: 1px solid gray;flex-grow: 1;}#sk-container-id-54 div.sk-label:hover label.sk-toggleable__label {background-color: #d4ebff;}#sk-container-id-54 div.sk-serial::before {content: \"\";position: absolute;border-left: 1px solid gray;box-sizing: border-box;top: 0;bottom: 0;left: 50%;z-index: 0;}#sk-container-id-54 div.sk-serial {display: flex;flex-direction: column;align-items: center;background-color: white;padding-right: 0.2em;padding-left: 0.2em;position: relative;}#sk-container-id-54 div.sk-item {position: relative;z-index: 1;}#sk-container-id-54 div.sk-parallel {display: flex;align-items: stretch;justify-content: center;background-color: white;position: relative;}#sk-container-id-54 div.sk-item::before, #sk-container-id-54 div.sk-parallel-item::before {content: \"\";position: absolute;border-left: 1px solid gray;box-sizing: border-box;top: 0;bottom: 0;left: 50%;z-index: -1;}#sk-container-id-54 div.sk-parallel-item {display: flex;flex-direction: column;z-index: 1;position: relative;background-color: white;}#sk-container-id-54 div.sk-parallel-item:first-child::after {align-self: flex-end;width: 50%;}#sk-container-id-54 div.sk-parallel-item:last-child::after {align-self: flex-start;width: 50%;}#sk-container-id-54 div.sk-parallel-item:only-child::after {width: 0;}#sk-container-id-54 div.sk-dashed-wrapped {border: 1px dashed gray;margin: 0 0.4em 0.5em 0.4em;box-sizing: border-box;padding-bottom: 0.4em;background-color: white;}#sk-container-id-54 div.sk-label label {font-family: monospace;font-weight: bold;display: inline-block;line-height: 1.2em;}#sk-container-id-54 div.sk-label-container {text-align: center;}#sk-container-id-54 div.sk-container {/* jupyter's `normalize.less` sets `[hidden] { display: none; }` but bootstrap.min.css set `[hidden] { display: none !important; }` so we also need the `!important` here to be able to override the default hidden behavior on the sphinx rendered scikit-learn.org. See: https://github.com/scikit-learn/scikit-learn/issues/21755 */display: inline-block !important;position: relative;}#sk-container-id-54 div.sk-text-repr-fallback {display: none;}</style><div id=\"sk-container-id-54\" class=\"sk-top-container\"><div class=\"sk-text-repr-fallback\"><pre>LinearRegression()</pre><b>In a Jupyter environment, please rerun this cell to show the HTML representation or trust the notebook. <br />On GitHub, the HTML representation is unable to render, please try loading this page with nbviewer.org.</b></div><div class=\"sk-container\" hidden><div class=\"sk-item\"><div class=\"sk-estimator sk-toggleable\"><input class=\"sk-toggleable__control sk-hidden--visually\" id=\"sk-estimator-id-54\" type=\"checkbox\" checked><label for=\"sk-estimator-id-54\" class=\"sk-toggleable__label sk-toggleable__label-arrow\">LinearRegression</label><div class=\"sk-toggleable__content\"><pre>LinearRegression()</pre></div></div></div></div></div>"
            ]
          },
          "metadata": {},
          "execution_count": 804
        }
      ]
    },
    {
      "cell_type": "code",
      "source": [
        "scorebr = rgrbr.score(bx_test, by_test)\n",
        "print(\"Coeficiente de determinação (R²):\", scorebr)"
      ],
      "metadata": {
        "colab": {
          "base_uri": "https://localhost:8080/"
        },
        "id": "otL46sorYYaQ",
        "outputId": "ef92e4bd-3099-4c1d-8fc4-0731606a3794"
      },
      "execution_count": null,
      "outputs": [
        {
          "output_type": "stream",
          "name": "stdout",
          "text": [
            "Coeficiente de determinação (R²): 0.002324082331635946\n"
          ]
        }
      ]
    },
    {
      "cell_type": "code",
      "source": [
        "bx_new = scalerbr.transform(bx_test)\n",
        "by_pred = rgrbr.predict(bx_new)"
      ],
      "metadata": {
        "id": "Z4NNO7KOYYhx"
      },
      "execution_count": null,
      "outputs": []
    },
    {
      "cell_type": "code",
      "source": [
        "yearsbr = [2030, 2050]\n",
        "bx_new = pd.DataFrame({'Year': yearsbr})"
      ],
      "metadata": {
        "id": "ADPNJ3ZBZZp5"
      },
      "execution_count": null,
      "outputs": []
    },
    {
      "cell_type": "code",
      "source": [
        "by_pred = rgrbr.predict(bx_new)"
      ],
      "metadata": {
        "colab": {
          "base_uri": "https://localhost:8080/"
        },
        "id": "83xi4UJdYY1K",
        "outputId": "77d5d46b-0c73-4354-b143-f95beb04e461"
      },
      "execution_count": null,
      "outputs": [
        {
          "output_type": "stream",
          "name": "stderr",
          "text": [
            "/usr/local/lib/python3.10/dist-packages/sklearn/base.py:432: UserWarning: X has feature names, but LinearRegression was fitted without feature names\n",
            "  warnings.warn(\n"
          ]
        }
      ]
    },
    {
      "cell_type": "code",
      "source": [
        "for year, prediction in zip(yearsbr, by_pred):\n",
        "    print(f\"Previsão de produção para o ano {year}: {prediction}\")"
      ],
      "metadata": {
        "colab": {
          "base_uri": "https://localhost:8080/"
        },
        "id": "rEgsuF2fYY3l",
        "outputId": "02b1e7e1-9d16-40c6-8c07-ada5b6fb10a2"
      },
      "execution_count": null,
      "outputs": [
        {
          "output_type": "stream",
          "name": "stdout",
          "text": [
            "Previsão de produção para o ano 2030: 3394553643.3370566\n",
            "Previsão de produção para o ano 2050: 3427968321.506743\n"
          ]
        }
      ]
    },
    {
      "cell_type": "markdown",
      "source": [
        "#2.b - Brasil e toneladas"
      ],
      "metadata": {
        "id": "s1YQGeGJXV9S"
      }
    },
    {
      "cell_type": "code",
      "source": [
        "df_br = df[(df['Area'] == 'Brazil') & (df['Unit'] == 'tonnes')]"
      ],
      "metadata": {
        "id": "N8hKqXqpjjmo"
      },
      "execution_count": null,
      "outputs": []
    },
    {
      "cell_type": "code",
      "source": [
        "df_br1 = df_br.dropna(how='any')"
      ],
      "metadata": {
        "id": "U0a4fNXklqB7"
      },
      "execution_count": null,
      "outputs": []
    },
    {
      "cell_type": "code",
      "source": [
        "df_br1.head()"
      ],
      "metadata": {
        "colab": {
          "base_uri": "https://localhost:8080/",
          "height": 206
        },
        "id": "fAPRGyYyjzx2",
        "outputId": "926e05dd-78d0-453b-bfbc-aef49bf5ceca"
      },
      "execution_count": null,
      "outputs": [
        {
          "output_type": "execute_result",
          "data": {
            "text/plain": [
              "          Area    Item     Element  Year    Unit    Value\n",
              "143279  Brazil  Apples  Production  1961  tonnes  19962.0\n",
              "143280  Brazil  Apples  Production  1962  tonnes  22600.0\n",
              "143281  Brazil  Apples  Production  1963  tonnes  23241.0\n",
              "143282  Brazil  Apples  Production  1964  tonnes  21158.0\n",
              "143283  Brazil  Apples  Production  1965  tonnes  40386.0"
            ],
            "text/html": [
              "\n",
              "  <div id=\"df-b85bfbb5-dadf-445e-b938-e0e1ecda685a\">\n",
              "    <div class=\"colab-df-container\">\n",
              "      <div>\n",
              "<style scoped>\n",
              "    .dataframe tbody tr th:only-of-type {\n",
              "        vertical-align: middle;\n",
              "    }\n",
              "\n",
              "    .dataframe tbody tr th {\n",
              "        vertical-align: top;\n",
              "    }\n",
              "\n",
              "    .dataframe thead th {\n",
              "        text-align: right;\n",
              "    }\n",
              "</style>\n",
              "<table border=\"1\" class=\"dataframe\">\n",
              "  <thead>\n",
              "    <tr style=\"text-align: right;\">\n",
              "      <th></th>\n",
              "      <th>Area</th>\n",
              "      <th>Item</th>\n",
              "      <th>Element</th>\n",
              "      <th>Year</th>\n",
              "      <th>Unit</th>\n",
              "      <th>Value</th>\n",
              "    </tr>\n",
              "  </thead>\n",
              "  <tbody>\n",
              "    <tr>\n",
              "      <th>143279</th>\n",
              "      <td>Brazil</td>\n",
              "      <td>Apples</td>\n",
              "      <td>Production</td>\n",
              "      <td>1961</td>\n",
              "      <td>tonnes</td>\n",
              "      <td>19962.0</td>\n",
              "    </tr>\n",
              "    <tr>\n",
              "      <th>143280</th>\n",
              "      <td>Brazil</td>\n",
              "      <td>Apples</td>\n",
              "      <td>Production</td>\n",
              "      <td>1962</td>\n",
              "      <td>tonnes</td>\n",
              "      <td>22600.0</td>\n",
              "    </tr>\n",
              "    <tr>\n",
              "      <th>143281</th>\n",
              "      <td>Brazil</td>\n",
              "      <td>Apples</td>\n",
              "      <td>Production</td>\n",
              "      <td>1963</td>\n",
              "      <td>tonnes</td>\n",
              "      <td>23241.0</td>\n",
              "    </tr>\n",
              "    <tr>\n",
              "      <th>143282</th>\n",
              "      <td>Brazil</td>\n",
              "      <td>Apples</td>\n",
              "      <td>Production</td>\n",
              "      <td>1964</td>\n",
              "      <td>tonnes</td>\n",
              "      <td>21158.0</td>\n",
              "    </tr>\n",
              "    <tr>\n",
              "      <th>143283</th>\n",
              "      <td>Brazil</td>\n",
              "      <td>Apples</td>\n",
              "      <td>Production</td>\n",
              "      <td>1965</td>\n",
              "      <td>tonnes</td>\n",
              "      <td>40386.0</td>\n",
              "    </tr>\n",
              "  </tbody>\n",
              "</table>\n",
              "</div>\n",
              "      <button class=\"colab-df-convert\" onclick=\"convertToInteractive('df-b85bfbb5-dadf-445e-b938-e0e1ecda685a')\"\n",
              "              title=\"Convert this dataframe to an interactive table.\"\n",
              "              style=\"display:none;\">\n",
              "        \n",
              "  <svg xmlns=\"http://www.w3.org/2000/svg\" height=\"24px\"viewBox=\"0 0 24 24\"\n",
              "       width=\"24px\">\n",
              "    <path d=\"M0 0h24v24H0V0z\" fill=\"none\"/>\n",
              "    <path d=\"M18.56 5.44l.94 2.06.94-2.06 2.06-.94-2.06-.94-.94-2.06-.94 2.06-2.06.94zm-11 1L8.5 8.5l.94-2.06 2.06-.94-2.06-.94L8.5 2.5l-.94 2.06-2.06.94zm10 10l.94 2.06.94-2.06 2.06-.94-2.06-.94-.94-2.06-.94 2.06-2.06.94z\"/><path d=\"M17.41 7.96l-1.37-1.37c-.4-.4-.92-.59-1.43-.59-.52 0-1.04.2-1.43.59L10.3 9.45l-7.72 7.72c-.78.78-.78 2.05 0 2.83L4 21.41c.39.39.9.59 1.41.59.51 0 1.02-.2 1.41-.59l7.78-7.78 2.81-2.81c.8-.78.8-2.07 0-2.86zM5.41 20L4 18.59l7.72-7.72 1.47 1.35L5.41 20z\"/>\n",
              "  </svg>\n",
              "      </button>\n",
              "      \n",
              "  <style>\n",
              "    .colab-df-container {\n",
              "      display:flex;\n",
              "      flex-wrap:wrap;\n",
              "      gap: 12px;\n",
              "    }\n",
              "\n",
              "    .colab-df-convert {\n",
              "      background-color: #E8F0FE;\n",
              "      border: none;\n",
              "      border-radius: 50%;\n",
              "      cursor: pointer;\n",
              "      display: none;\n",
              "      fill: #1967D2;\n",
              "      height: 32px;\n",
              "      padding: 0 0 0 0;\n",
              "      width: 32px;\n",
              "    }\n",
              "\n",
              "    .colab-df-convert:hover {\n",
              "      background-color: #E2EBFA;\n",
              "      box-shadow: 0px 1px 2px rgba(60, 64, 67, 0.3), 0px 1px 3px 1px rgba(60, 64, 67, 0.15);\n",
              "      fill: #174EA6;\n",
              "    }\n",
              "\n",
              "    [theme=dark] .colab-df-convert {\n",
              "      background-color: #3B4455;\n",
              "      fill: #D2E3FC;\n",
              "    }\n",
              "\n",
              "    [theme=dark] .colab-df-convert:hover {\n",
              "      background-color: #434B5C;\n",
              "      box-shadow: 0px 1px 3px 1px rgba(0, 0, 0, 0.15);\n",
              "      filter: drop-shadow(0px 1px 2px rgba(0, 0, 0, 0.3));\n",
              "      fill: #FFFFFF;\n",
              "    }\n",
              "  </style>\n",
              "\n",
              "      <script>\n",
              "        const buttonEl =\n",
              "          document.querySelector('#df-b85bfbb5-dadf-445e-b938-e0e1ecda685a button.colab-df-convert');\n",
              "        buttonEl.style.display =\n",
              "          google.colab.kernel.accessAllowed ? 'block' : 'none';\n",
              "\n",
              "        async function convertToInteractive(key) {\n",
              "          const element = document.querySelector('#df-b85bfbb5-dadf-445e-b938-e0e1ecda685a');\n",
              "          const dataTable =\n",
              "            await google.colab.kernel.invokeFunction('convertToInteractive',\n",
              "                                                     [key], {});\n",
              "          if (!dataTable) return;\n",
              "\n",
              "          const docLinkHtml = 'Like what you see? Visit the ' +\n",
              "            '<a target=\"_blank\" href=https://colab.research.google.com/notebooks/data_table.ipynb>data table notebook</a>'\n",
              "            + ' to learn more about interactive tables.';\n",
              "          element.innerHTML = '';\n",
              "          dataTable['output_type'] = 'display_data';\n",
              "          await google.colab.output.renderOutput(dataTable, element);\n",
              "          const docLink = document.createElement('div');\n",
              "          docLink.innerHTML = docLinkHtml;\n",
              "          element.appendChild(docLink);\n",
              "        }\n",
              "      </script>\n",
              "    </div>\n",
              "  </div>\n",
              "  "
            ]
          },
          "metadata": {},
          "execution_count": 812
        }
      ]
    },
    {
      "cell_type": "code",
      "source": [
        "brx = df_br1['Year']\n",
        "bry = df_br1['Value']\n",
        "\n",
        "brx_train, brx_test, bry_train, bry_test = train_test_split(brx, bry, test_size=0.2, random_state=42)\n"
      ],
      "metadata": {
        "id": "ESbZTzCSj9L2"
      },
      "execution_count": null,
      "outputs": []
    },
    {
      "cell_type": "code",
      "source": [
        "scaler4 = StandardScaler()\n",
        "\n",
        "# Ajuste a forma dos dados de treinamento para uma matriz 2D\n",
        "brx_train = brx_train.values.reshape(-1, 1)\n",
        "\n",
        "# Ajuste o scaler aos dados de treinamento e transforme-os\n",
        "brx_train = scaler4.fit_transform(brx_train)\n",
        "\n",
        "# Transforme os dados de teste usando o scaler ajustado aos dados de treinamento\n",
        "brx_test = brx_test.values.reshape(-1, 1)\n",
        "brx_test = scaler4.transform(brx_test)"
      ],
      "metadata": {
        "id": "8mFKq9G1vvnT"
      },
      "execution_count": null,
      "outputs": []
    },
    {
      "cell_type": "code",
      "source": [
        "rgr = LinearRegression()\n",
        "rgr.fit(brx_train, bry_train)"
      ],
      "metadata": {
        "colab": {
          "base_uri": "https://localhost:8080/",
          "height": 75
        },
        "id": "qfEocQMlkMA-",
        "outputId": "7b1c6721-cd40-43fb-c431-64de926ef07d"
      },
      "execution_count": null,
      "outputs": [
        {
          "output_type": "execute_result",
          "data": {
            "text/plain": [
              "LinearRegression()"
            ],
            "text/html": [
              "<style>#sk-container-id-55 {color: black;background-color: white;}#sk-container-id-55 pre{padding: 0;}#sk-container-id-55 div.sk-toggleable {background-color: white;}#sk-container-id-55 label.sk-toggleable__label {cursor: pointer;display: block;width: 100%;margin-bottom: 0;padding: 0.3em;box-sizing: border-box;text-align: center;}#sk-container-id-55 label.sk-toggleable__label-arrow:before {content: \"▸\";float: left;margin-right: 0.25em;color: #696969;}#sk-container-id-55 label.sk-toggleable__label-arrow:hover:before {color: black;}#sk-container-id-55 div.sk-estimator:hover label.sk-toggleable__label-arrow:before {color: black;}#sk-container-id-55 div.sk-toggleable__content {max-height: 0;max-width: 0;overflow: hidden;text-align: left;background-color: #f0f8ff;}#sk-container-id-55 div.sk-toggleable__content pre {margin: 0.2em;color: black;border-radius: 0.25em;background-color: #f0f8ff;}#sk-container-id-55 input.sk-toggleable__control:checked~div.sk-toggleable__content {max-height: 200px;max-width: 100%;overflow: auto;}#sk-container-id-55 input.sk-toggleable__control:checked~label.sk-toggleable__label-arrow:before {content: \"▾\";}#sk-container-id-55 div.sk-estimator input.sk-toggleable__control:checked~label.sk-toggleable__label {background-color: #d4ebff;}#sk-container-id-55 div.sk-label input.sk-toggleable__control:checked~label.sk-toggleable__label {background-color: #d4ebff;}#sk-container-id-55 input.sk-hidden--visually {border: 0;clip: rect(1px 1px 1px 1px);clip: rect(1px, 1px, 1px, 1px);height: 1px;margin: -1px;overflow: hidden;padding: 0;position: absolute;width: 1px;}#sk-container-id-55 div.sk-estimator {font-family: monospace;background-color: #f0f8ff;border: 1px dotted black;border-radius: 0.25em;box-sizing: border-box;margin-bottom: 0.5em;}#sk-container-id-55 div.sk-estimator:hover {background-color: #d4ebff;}#sk-container-id-55 div.sk-parallel-item::after {content: \"\";width: 100%;border-bottom: 1px solid gray;flex-grow: 1;}#sk-container-id-55 div.sk-label:hover label.sk-toggleable__label {background-color: #d4ebff;}#sk-container-id-55 div.sk-serial::before {content: \"\";position: absolute;border-left: 1px solid gray;box-sizing: border-box;top: 0;bottom: 0;left: 50%;z-index: 0;}#sk-container-id-55 div.sk-serial {display: flex;flex-direction: column;align-items: center;background-color: white;padding-right: 0.2em;padding-left: 0.2em;position: relative;}#sk-container-id-55 div.sk-item {position: relative;z-index: 1;}#sk-container-id-55 div.sk-parallel {display: flex;align-items: stretch;justify-content: center;background-color: white;position: relative;}#sk-container-id-55 div.sk-item::before, #sk-container-id-55 div.sk-parallel-item::before {content: \"\";position: absolute;border-left: 1px solid gray;box-sizing: border-box;top: 0;bottom: 0;left: 50%;z-index: -1;}#sk-container-id-55 div.sk-parallel-item {display: flex;flex-direction: column;z-index: 1;position: relative;background-color: white;}#sk-container-id-55 div.sk-parallel-item:first-child::after {align-self: flex-end;width: 50%;}#sk-container-id-55 div.sk-parallel-item:last-child::after {align-self: flex-start;width: 50%;}#sk-container-id-55 div.sk-parallel-item:only-child::after {width: 0;}#sk-container-id-55 div.sk-dashed-wrapped {border: 1px dashed gray;margin: 0 0.4em 0.5em 0.4em;box-sizing: border-box;padding-bottom: 0.4em;background-color: white;}#sk-container-id-55 div.sk-label label {font-family: monospace;font-weight: bold;display: inline-block;line-height: 1.2em;}#sk-container-id-55 div.sk-label-container {text-align: center;}#sk-container-id-55 div.sk-container {/* jupyter's `normalize.less` sets `[hidden] { display: none; }` but bootstrap.min.css set `[hidden] { display: none !important; }` so we also need the `!important` here to be able to override the default hidden behavior on the sphinx rendered scikit-learn.org. See: https://github.com/scikit-learn/scikit-learn/issues/21755 */display: inline-block !important;position: relative;}#sk-container-id-55 div.sk-text-repr-fallback {display: none;}</style><div id=\"sk-container-id-55\" class=\"sk-top-container\"><div class=\"sk-text-repr-fallback\"><pre>LinearRegression()</pre><b>In a Jupyter environment, please rerun this cell to show the HTML representation or trust the notebook. <br />On GitHub, the HTML representation is unable to render, please try loading this page with nbviewer.org.</b></div><div class=\"sk-container\" hidden><div class=\"sk-item\"><div class=\"sk-estimator sk-toggleable\"><input class=\"sk-toggleable__control sk-hidden--visually\" id=\"sk-estimator-id-55\" type=\"checkbox\" checked><label for=\"sk-estimator-id-55\" class=\"sk-toggleable__label sk-toggleable__label-arrow\">LinearRegression</label><div class=\"sk-toggleable__content\"><pre>LinearRegression()</pre></div></div></div></div></div>"
            ]
          },
          "metadata": {},
          "execution_count": 815
        }
      ]
    },
    {
      "cell_type": "code",
      "source": [
        "score4 = rgr.score(brx_test, bry_test)\n",
        "print(\"Coeficiente de determinação (R²):\", score4)"
      ],
      "metadata": {
        "colab": {
          "base_uri": "https://localhost:8080/"
        },
        "id": "zxqBBKVOmaWB",
        "outputId": "368cd53d-4bf0-4f9d-e983-ca233d021b70"
      },
      "execution_count": null,
      "outputs": [
        {
          "output_type": "stream",
          "name": "stdout",
          "text": [
            "Coeficiente de determinação (R²): 0.005977292959302605\n"
          ]
        }
      ]
    },
    {
      "cell_type": "code",
      "source": [
        "brx_new = scaler4.transform(brx_test)\n",
        "bry_pred = rgr.predict(brx_new)"
      ],
      "metadata": {
        "id": "YT8ADZ5_mdmQ"
      },
      "execution_count": null,
      "outputs": []
    },
    {
      "cell_type": "code",
      "source": [
        "years4 = [2030, 2050]\n",
        "brx_new = pd.DataFrame({'Year': years4})"
      ],
      "metadata": {
        "id": "_133s-AfmutH"
      },
      "execution_count": null,
      "outputs": []
    },
    {
      "cell_type": "code",
      "source": [
        "bry_pred = rgr.predict(brx_new)"
      ],
      "metadata": {
        "colab": {
          "base_uri": "https://localhost:8080/"
        },
        "id": "INerYA6Emw9n",
        "outputId": "911af7e6-6706-4619-9a80-9e4af2f6542c"
      },
      "execution_count": null,
      "outputs": [
        {
          "output_type": "stream",
          "name": "stderr",
          "text": [
            "/usr/local/lib/python3.10/dist-packages/sklearn/base.py:432: UserWarning: X has feature names, but LinearRegression was fitted without feature names\n",
            "  warnings.warn(\n"
          ]
        }
      ]
    },
    {
      "cell_type": "code",
      "source": [
        "for year, prediction in zip(years4, bry_pred):\n",
        "    print(f\"Previsão de produção para o ano {year}: {prediction}\")"
      ],
      "metadata": {
        "colab": {
          "base_uri": "https://localhost:8080/"
        },
        "id": "tgoPIVKEm1iS",
        "outputId": "a13fec4a-99d5-4bb1-8d75-ecea0443c4e8"
      },
      "execution_count": null,
      "outputs": [
        {
          "output_type": "stream",
          "name": "stdout",
          "text": [
            "Previsão de produção para o ano 2030: 7680619559.903175\n",
            "Previsão de produção para o ano 2050: 7756223481.08354\n"
          ]
        }
      ]
    },
    {
      "cell_type": "markdown",
      "source": [
        "#2.b - Brasil por hectare"
      ],
      "metadata": {
        "id": "q9l9FMhSULKJ"
      }
    },
    {
      "cell_type": "code",
      "source": [
        "df_br2 = df[(df['Area'] == 'Brazil') & (df['Unit'] == 'ha')]"
      ],
      "metadata": {
        "id": "r4-AKjurUOVS"
      },
      "execution_count": null,
      "outputs": []
    },
    {
      "cell_type": "code",
      "source": [
        "df_br2 = df_br2.dropna(how='any')"
      ],
      "metadata": {
        "id": "oLW3AaxAUOxR"
      },
      "execution_count": null,
      "outputs": []
    },
    {
      "cell_type": "code",
      "source": [
        "df_br2.head()"
      ],
      "metadata": {
        "colab": {
          "base_uri": "https://localhost:8080/",
          "height": 206
        },
        "id": "Tw7Nqz6lUOzx",
        "outputId": "a29e5a55-3826-4ddf-d668-7c4f030571b4"
      },
      "execution_count": null,
      "outputs": [
        {
          "output_type": "execute_result",
          "data": {
            "text/plain": [
              "          Area    Item         Element  Year Unit   Value\n",
              "143159  Brazil  Apples  Area harvested  1961   ha  2097.0\n",
              "143160  Brazil  Apples  Area harvested  1962   ha  2349.0\n",
              "143161  Brazil  Apples  Area harvested  1963   ha  2324.0\n",
              "143162  Brazil  Apples  Area harvested  1964   ha  2271.0\n",
              "143163  Brazil  Apples  Area harvested  1965   ha  2375.0"
            ],
            "text/html": [
              "\n",
              "  <div id=\"df-4d503962-af63-49f1-b11c-aad61786178a\">\n",
              "    <div class=\"colab-df-container\">\n",
              "      <div>\n",
              "<style scoped>\n",
              "    .dataframe tbody tr th:only-of-type {\n",
              "        vertical-align: middle;\n",
              "    }\n",
              "\n",
              "    .dataframe tbody tr th {\n",
              "        vertical-align: top;\n",
              "    }\n",
              "\n",
              "    .dataframe thead th {\n",
              "        text-align: right;\n",
              "    }\n",
              "</style>\n",
              "<table border=\"1\" class=\"dataframe\">\n",
              "  <thead>\n",
              "    <tr style=\"text-align: right;\">\n",
              "      <th></th>\n",
              "      <th>Area</th>\n",
              "      <th>Item</th>\n",
              "      <th>Element</th>\n",
              "      <th>Year</th>\n",
              "      <th>Unit</th>\n",
              "      <th>Value</th>\n",
              "    </tr>\n",
              "  </thead>\n",
              "  <tbody>\n",
              "    <tr>\n",
              "      <th>143159</th>\n",
              "      <td>Brazil</td>\n",
              "      <td>Apples</td>\n",
              "      <td>Area harvested</td>\n",
              "      <td>1961</td>\n",
              "      <td>ha</td>\n",
              "      <td>2097.0</td>\n",
              "    </tr>\n",
              "    <tr>\n",
              "      <th>143160</th>\n",
              "      <td>Brazil</td>\n",
              "      <td>Apples</td>\n",
              "      <td>Area harvested</td>\n",
              "      <td>1962</td>\n",
              "      <td>ha</td>\n",
              "      <td>2349.0</td>\n",
              "    </tr>\n",
              "    <tr>\n",
              "      <th>143161</th>\n",
              "      <td>Brazil</td>\n",
              "      <td>Apples</td>\n",
              "      <td>Area harvested</td>\n",
              "      <td>1963</td>\n",
              "      <td>ha</td>\n",
              "      <td>2324.0</td>\n",
              "    </tr>\n",
              "    <tr>\n",
              "      <th>143162</th>\n",
              "      <td>Brazil</td>\n",
              "      <td>Apples</td>\n",
              "      <td>Area harvested</td>\n",
              "      <td>1964</td>\n",
              "      <td>ha</td>\n",
              "      <td>2271.0</td>\n",
              "    </tr>\n",
              "    <tr>\n",
              "      <th>143163</th>\n",
              "      <td>Brazil</td>\n",
              "      <td>Apples</td>\n",
              "      <td>Area harvested</td>\n",
              "      <td>1965</td>\n",
              "      <td>ha</td>\n",
              "      <td>2375.0</td>\n",
              "    </tr>\n",
              "  </tbody>\n",
              "</table>\n",
              "</div>\n",
              "      <button class=\"colab-df-convert\" onclick=\"convertToInteractive('df-4d503962-af63-49f1-b11c-aad61786178a')\"\n",
              "              title=\"Convert this dataframe to an interactive table.\"\n",
              "              style=\"display:none;\">\n",
              "        \n",
              "  <svg xmlns=\"http://www.w3.org/2000/svg\" height=\"24px\"viewBox=\"0 0 24 24\"\n",
              "       width=\"24px\">\n",
              "    <path d=\"M0 0h24v24H0V0z\" fill=\"none\"/>\n",
              "    <path d=\"M18.56 5.44l.94 2.06.94-2.06 2.06-.94-2.06-.94-.94-2.06-.94 2.06-2.06.94zm-11 1L8.5 8.5l.94-2.06 2.06-.94-2.06-.94L8.5 2.5l-.94 2.06-2.06.94zm10 10l.94 2.06.94-2.06 2.06-.94-2.06-.94-.94-2.06-.94 2.06-2.06.94z\"/><path d=\"M17.41 7.96l-1.37-1.37c-.4-.4-.92-.59-1.43-.59-.52 0-1.04.2-1.43.59L10.3 9.45l-7.72 7.72c-.78.78-.78 2.05 0 2.83L4 21.41c.39.39.9.59 1.41.59.51 0 1.02-.2 1.41-.59l7.78-7.78 2.81-2.81c.8-.78.8-2.07 0-2.86zM5.41 20L4 18.59l7.72-7.72 1.47 1.35L5.41 20z\"/>\n",
              "  </svg>\n",
              "      </button>\n",
              "      \n",
              "  <style>\n",
              "    .colab-df-container {\n",
              "      display:flex;\n",
              "      flex-wrap:wrap;\n",
              "      gap: 12px;\n",
              "    }\n",
              "\n",
              "    .colab-df-convert {\n",
              "      background-color: #E8F0FE;\n",
              "      border: none;\n",
              "      border-radius: 50%;\n",
              "      cursor: pointer;\n",
              "      display: none;\n",
              "      fill: #1967D2;\n",
              "      height: 32px;\n",
              "      padding: 0 0 0 0;\n",
              "      width: 32px;\n",
              "    }\n",
              "\n",
              "    .colab-df-convert:hover {\n",
              "      background-color: #E2EBFA;\n",
              "      box-shadow: 0px 1px 2px rgba(60, 64, 67, 0.3), 0px 1px 3px 1px rgba(60, 64, 67, 0.15);\n",
              "      fill: #174EA6;\n",
              "    }\n",
              "\n",
              "    [theme=dark] .colab-df-convert {\n",
              "      background-color: #3B4455;\n",
              "      fill: #D2E3FC;\n",
              "    }\n",
              "\n",
              "    [theme=dark] .colab-df-convert:hover {\n",
              "      background-color: #434B5C;\n",
              "      box-shadow: 0px 1px 3px 1px rgba(0, 0, 0, 0.15);\n",
              "      filter: drop-shadow(0px 1px 2px rgba(0, 0, 0, 0.3));\n",
              "      fill: #FFFFFF;\n",
              "    }\n",
              "  </style>\n",
              "\n",
              "      <script>\n",
              "        const buttonEl =\n",
              "          document.querySelector('#df-4d503962-af63-49f1-b11c-aad61786178a button.colab-df-convert');\n",
              "        buttonEl.style.display =\n",
              "          google.colab.kernel.accessAllowed ? 'block' : 'none';\n",
              "\n",
              "        async function convertToInteractive(key) {\n",
              "          const element = document.querySelector('#df-4d503962-af63-49f1-b11c-aad61786178a');\n",
              "          const dataTable =\n",
              "            await google.colab.kernel.invokeFunction('convertToInteractive',\n",
              "                                                     [key], {});\n",
              "          if (!dataTable) return;\n",
              "\n",
              "          const docLinkHtml = 'Like what you see? Visit the ' +\n",
              "            '<a target=\"_blank\" href=https://colab.research.google.com/notebooks/data_table.ipynb>data table notebook</a>'\n",
              "            + ' to learn more about interactive tables.';\n",
              "          element.innerHTML = '';\n",
              "          dataTable['output_type'] = 'display_data';\n",
              "          await google.colab.output.renderOutput(dataTable, element);\n",
              "          const docLink = document.createElement('div');\n",
              "          docLink.innerHTML = docLinkHtml;\n",
              "          element.appendChild(docLink);\n",
              "        }\n",
              "      </script>\n",
              "    </div>\n",
              "  </div>\n",
              "  "
            ]
          },
          "metadata": {},
          "execution_count": 823
        }
      ]
    },
    {
      "cell_type": "code",
      "source": [
        "bra = df_br2['Year']\n",
        "brb = df_br2['Value']\n",
        "\n",
        "bra_train, bra_test, brb_train, brb_test = train_test_split(bra, brb, test_size=0.2, random_state=42)\n"
      ],
      "metadata": {
        "id": "Xt5sOgJPUO2S"
      },
      "execution_count": null,
      "outputs": []
    },
    {
      "cell_type": "code",
      "source": [
        "scaler5 = StandardScaler()\n",
        "\n",
        "bra_train = bra_train.values.reshape(-1, 1)\n",
        "\n",
        "bra_train = scaler5.fit_transform(bra_train)\n",
        "\n",
        "bra_test = bra_test.values.reshape(-1, 1)\n",
        "bra_test = scaler5.transform(bra_test)"
      ],
      "metadata": {
        "id": "SpZ_Rc4jUO5j"
      },
      "execution_count": null,
      "outputs": []
    },
    {
      "cell_type": "code",
      "source": [
        "rgr2 = LinearRegression()\n",
        "rgr2.fit(bra_train, brb_train)"
      ],
      "metadata": {
        "colab": {
          "base_uri": "https://localhost:8080/",
          "height": 75
        },
        "id": "nr9IGgfiUO7Z",
        "outputId": "5d175a0c-8709-4713-80f3-11bb8234b08d"
      },
      "execution_count": null,
      "outputs": [
        {
          "output_type": "execute_result",
          "data": {
            "text/plain": [
              "LinearRegression()"
            ],
            "text/html": [
              "<style>#sk-container-id-56 {color: black;background-color: white;}#sk-container-id-56 pre{padding: 0;}#sk-container-id-56 div.sk-toggleable {background-color: white;}#sk-container-id-56 label.sk-toggleable__label {cursor: pointer;display: block;width: 100%;margin-bottom: 0;padding: 0.3em;box-sizing: border-box;text-align: center;}#sk-container-id-56 label.sk-toggleable__label-arrow:before {content: \"▸\";float: left;margin-right: 0.25em;color: #696969;}#sk-container-id-56 label.sk-toggleable__label-arrow:hover:before {color: black;}#sk-container-id-56 div.sk-estimator:hover label.sk-toggleable__label-arrow:before {color: black;}#sk-container-id-56 div.sk-toggleable__content {max-height: 0;max-width: 0;overflow: hidden;text-align: left;background-color: #f0f8ff;}#sk-container-id-56 div.sk-toggleable__content pre {margin: 0.2em;color: black;border-radius: 0.25em;background-color: #f0f8ff;}#sk-container-id-56 input.sk-toggleable__control:checked~div.sk-toggleable__content {max-height: 200px;max-width: 100%;overflow: auto;}#sk-container-id-56 input.sk-toggleable__control:checked~label.sk-toggleable__label-arrow:before {content: \"▾\";}#sk-container-id-56 div.sk-estimator input.sk-toggleable__control:checked~label.sk-toggleable__label {background-color: #d4ebff;}#sk-container-id-56 div.sk-label input.sk-toggleable__control:checked~label.sk-toggleable__label {background-color: #d4ebff;}#sk-container-id-56 input.sk-hidden--visually {border: 0;clip: rect(1px 1px 1px 1px);clip: rect(1px, 1px, 1px, 1px);height: 1px;margin: -1px;overflow: hidden;padding: 0;position: absolute;width: 1px;}#sk-container-id-56 div.sk-estimator {font-family: monospace;background-color: #f0f8ff;border: 1px dotted black;border-radius: 0.25em;box-sizing: border-box;margin-bottom: 0.5em;}#sk-container-id-56 div.sk-estimator:hover {background-color: #d4ebff;}#sk-container-id-56 div.sk-parallel-item::after {content: \"\";width: 100%;border-bottom: 1px solid gray;flex-grow: 1;}#sk-container-id-56 div.sk-label:hover label.sk-toggleable__label {background-color: #d4ebff;}#sk-container-id-56 div.sk-serial::before {content: \"\";position: absolute;border-left: 1px solid gray;box-sizing: border-box;top: 0;bottom: 0;left: 50%;z-index: 0;}#sk-container-id-56 div.sk-serial {display: flex;flex-direction: column;align-items: center;background-color: white;padding-right: 0.2em;padding-left: 0.2em;position: relative;}#sk-container-id-56 div.sk-item {position: relative;z-index: 1;}#sk-container-id-56 div.sk-parallel {display: flex;align-items: stretch;justify-content: center;background-color: white;position: relative;}#sk-container-id-56 div.sk-item::before, #sk-container-id-56 div.sk-parallel-item::before {content: \"\";position: absolute;border-left: 1px solid gray;box-sizing: border-box;top: 0;bottom: 0;left: 50%;z-index: -1;}#sk-container-id-56 div.sk-parallel-item {display: flex;flex-direction: column;z-index: 1;position: relative;background-color: white;}#sk-container-id-56 div.sk-parallel-item:first-child::after {align-self: flex-end;width: 50%;}#sk-container-id-56 div.sk-parallel-item:last-child::after {align-self: flex-start;width: 50%;}#sk-container-id-56 div.sk-parallel-item:only-child::after {width: 0;}#sk-container-id-56 div.sk-dashed-wrapped {border: 1px dashed gray;margin: 0 0.4em 0.5em 0.4em;box-sizing: border-box;padding-bottom: 0.4em;background-color: white;}#sk-container-id-56 div.sk-label label {font-family: monospace;font-weight: bold;display: inline-block;line-height: 1.2em;}#sk-container-id-56 div.sk-label-container {text-align: center;}#sk-container-id-56 div.sk-container {/* jupyter's `normalize.less` sets `[hidden] { display: none; }` but bootstrap.min.css set `[hidden] { display: none !important; }` so we also need the `!important` here to be able to override the default hidden behavior on the sphinx rendered scikit-learn.org. See: https://github.com/scikit-learn/scikit-learn/issues/21755 */display: inline-block !important;position: relative;}#sk-container-id-56 div.sk-text-repr-fallback {display: none;}</style><div id=\"sk-container-id-56\" class=\"sk-top-container\"><div class=\"sk-text-repr-fallback\"><pre>LinearRegression()</pre><b>In a Jupyter environment, please rerun this cell to show the HTML representation or trust the notebook. <br />On GitHub, the HTML representation is unable to render, please try loading this page with nbviewer.org.</b></div><div class=\"sk-container\" hidden><div class=\"sk-item\"><div class=\"sk-estimator sk-toggleable\"><input class=\"sk-toggleable__control sk-hidden--visually\" id=\"sk-estimator-id-56\" type=\"checkbox\" checked><label for=\"sk-estimator-id-56\" class=\"sk-toggleable__label sk-toggleable__label-arrow\">LinearRegression</label><div class=\"sk-toggleable__content\"><pre>LinearRegression()</pre></div></div></div></div></div>"
            ]
          },
          "metadata": {},
          "execution_count": 826
        }
      ]
    },
    {
      "cell_type": "code",
      "source": [
        "score5 = rgr2.score(bra_test, brb_test)\n",
        "print(\"Coeficiente de determinação (R²):\", score5)"
      ],
      "metadata": {
        "colab": {
          "base_uri": "https://localhost:8080/"
        },
        "id": "1eaCGpqOUPPw",
        "outputId": "b64e5b20-2253-45b7-c9f8-f10a2bbf95dc"
      },
      "execution_count": null,
      "outputs": [
        {
          "output_type": "stream",
          "name": "stdout",
          "text": [
            "Coeficiente de determinação (R²): -0.002273795004599899\n"
          ]
        }
      ]
    },
    {
      "cell_type": "code",
      "source": [
        "bra_new = scaler5.transform(bra_test)\n",
        "brb_pred = rgr2.predict(bra_new)"
      ],
      "metadata": {
        "id": "4bLF4hHBVZCo"
      },
      "execution_count": null,
      "outputs": []
    },
    {
      "cell_type": "code",
      "source": [
        "years5 = [2030, 2050]\n",
        "bra_new = pd.DataFrame({'Year': years5})"
      ],
      "metadata": {
        "id": "eJomiOtiVZFJ"
      },
      "execution_count": null,
      "outputs": []
    },
    {
      "cell_type": "code",
      "source": [
        "brb_pred = rgr2.predict(bra_new)"
      ],
      "metadata": {
        "colab": {
          "base_uri": "https://localhost:8080/"
        },
        "id": "nQO2rxlkVZH4",
        "outputId": "94a493d9-b4de-440f-96f6-6e995e36748d"
      },
      "execution_count": null,
      "outputs": [
        {
          "output_type": "stream",
          "name": "stderr",
          "text": [
            "/usr/local/lib/python3.10/dist-packages/sklearn/base.py:432: UserWarning: X has feature names, but LinearRegression was fitted without feature names\n",
            "  warnings.warn(\n"
          ]
        }
      ]
    },
    {
      "cell_type": "code",
      "source": [
        "for year, prediction in zip(years5, brb_pred):\n",
        "    print(f\"Previsão de produção para o ano {year}: {prediction}\")"
      ],
      "metadata": {
        "colab": {
          "base_uri": "https://localhost:8080/"
        },
        "id": "ZgkZ_3oVUPR3",
        "outputId": "83696335-275b-422c-df65-e53e90529000"
      },
      "execution_count": null,
      "outputs": [
        {
          "output_type": "stream",
          "name": "stdout",
          "text": [
            "Previsão de produção para o ano 2030: 365526573.4134577\n",
            "Previsão de produção para o ano 2050: 369118895.38824975\n"
          ]
        }
      ]
    },
    {
      "cell_type": "markdown",
      "source": [
        "#2.b - Brasil por hectograma"
      ],
      "metadata": {
        "id": "zfsXKbA9UP9o"
      }
    },
    {
      "cell_type": "code",
      "source": [
        "df_br3 = df[(df['Area'] == 'Brazil') & (df['Unit'] == 'hg/ha')]"
      ],
      "metadata": {
        "id": "ME2O6jXzUTCf"
      },
      "execution_count": null,
      "outputs": []
    },
    {
      "cell_type": "code",
      "source": [
        "df_br3 = df_br3.dropna(how='any')"
      ],
      "metadata": {
        "id": "bgPSjMcjUTFL"
      },
      "execution_count": null,
      "outputs": []
    },
    {
      "cell_type": "code",
      "source": [
        "df_br3.head()"
      ],
      "metadata": {
        "colab": {
          "base_uri": "https://localhost:8080/",
          "height": 206
        },
        "id": "BirzQBtoWPEx",
        "outputId": "a99cb473-844b-4bb5-a0e6-f507d6f35e7a"
      },
      "execution_count": null,
      "outputs": [
        {
          "output_type": "execute_result",
          "data": {
            "text/plain": [
              "          Area    Item Element  Year   Unit     Value\n",
              "143219  Brazil  Apples   Yield  1961  hg/ha   95193.0\n",
              "143220  Brazil  Apples   Yield  1962  hg/ha   96211.0\n",
              "143221  Brazil  Apples   Yield  1963  hg/ha  100004.0\n",
              "143222  Brazil  Apples   Yield  1964  hg/ha   93166.0\n",
              "143223  Brazil  Apples   Yield  1965  hg/ha  170046.0"
            ],
            "text/html": [
              "\n",
              "  <div id=\"df-b7b2b214-5644-4a6f-84af-561c96e62e77\">\n",
              "    <div class=\"colab-df-container\">\n",
              "      <div>\n",
              "<style scoped>\n",
              "    .dataframe tbody tr th:only-of-type {\n",
              "        vertical-align: middle;\n",
              "    }\n",
              "\n",
              "    .dataframe tbody tr th {\n",
              "        vertical-align: top;\n",
              "    }\n",
              "\n",
              "    .dataframe thead th {\n",
              "        text-align: right;\n",
              "    }\n",
              "</style>\n",
              "<table border=\"1\" class=\"dataframe\">\n",
              "  <thead>\n",
              "    <tr style=\"text-align: right;\">\n",
              "      <th></th>\n",
              "      <th>Area</th>\n",
              "      <th>Item</th>\n",
              "      <th>Element</th>\n",
              "      <th>Year</th>\n",
              "      <th>Unit</th>\n",
              "      <th>Value</th>\n",
              "    </tr>\n",
              "  </thead>\n",
              "  <tbody>\n",
              "    <tr>\n",
              "      <th>143219</th>\n",
              "      <td>Brazil</td>\n",
              "      <td>Apples</td>\n",
              "      <td>Yield</td>\n",
              "      <td>1961</td>\n",
              "      <td>hg/ha</td>\n",
              "      <td>95193.0</td>\n",
              "    </tr>\n",
              "    <tr>\n",
              "      <th>143220</th>\n",
              "      <td>Brazil</td>\n",
              "      <td>Apples</td>\n",
              "      <td>Yield</td>\n",
              "      <td>1962</td>\n",
              "      <td>hg/ha</td>\n",
              "      <td>96211.0</td>\n",
              "    </tr>\n",
              "    <tr>\n",
              "      <th>143221</th>\n",
              "      <td>Brazil</td>\n",
              "      <td>Apples</td>\n",
              "      <td>Yield</td>\n",
              "      <td>1963</td>\n",
              "      <td>hg/ha</td>\n",
              "      <td>100004.0</td>\n",
              "    </tr>\n",
              "    <tr>\n",
              "      <th>143222</th>\n",
              "      <td>Brazil</td>\n",
              "      <td>Apples</td>\n",
              "      <td>Yield</td>\n",
              "      <td>1964</td>\n",
              "      <td>hg/ha</td>\n",
              "      <td>93166.0</td>\n",
              "    </tr>\n",
              "    <tr>\n",
              "      <th>143223</th>\n",
              "      <td>Brazil</td>\n",
              "      <td>Apples</td>\n",
              "      <td>Yield</td>\n",
              "      <td>1965</td>\n",
              "      <td>hg/ha</td>\n",
              "      <td>170046.0</td>\n",
              "    </tr>\n",
              "  </tbody>\n",
              "</table>\n",
              "</div>\n",
              "      <button class=\"colab-df-convert\" onclick=\"convertToInteractive('df-b7b2b214-5644-4a6f-84af-561c96e62e77')\"\n",
              "              title=\"Convert this dataframe to an interactive table.\"\n",
              "              style=\"display:none;\">\n",
              "        \n",
              "  <svg xmlns=\"http://www.w3.org/2000/svg\" height=\"24px\"viewBox=\"0 0 24 24\"\n",
              "       width=\"24px\">\n",
              "    <path d=\"M0 0h24v24H0V0z\" fill=\"none\"/>\n",
              "    <path d=\"M18.56 5.44l.94 2.06.94-2.06 2.06-.94-2.06-.94-.94-2.06-.94 2.06-2.06.94zm-11 1L8.5 8.5l.94-2.06 2.06-.94-2.06-.94L8.5 2.5l-.94 2.06-2.06.94zm10 10l.94 2.06.94-2.06 2.06-.94-2.06-.94-.94-2.06-.94 2.06-2.06.94z\"/><path d=\"M17.41 7.96l-1.37-1.37c-.4-.4-.92-.59-1.43-.59-.52 0-1.04.2-1.43.59L10.3 9.45l-7.72 7.72c-.78.78-.78 2.05 0 2.83L4 21.41c.39.39.9.59 1.41.59.51 0 1.02-.2 1.41-.59l7.78-7.78 2.81-2.81c.8-.78.8-2.07 0-2.86zM5.41 20L4 18.59l7.72-7.72 1.47 1.35L5.41 20z\"/>\n",
              "  </svg>\n",
              "      </button>\n",
              "      \n",
              "  <style>\n",
              "    .colab-df-container {\n",
              "      display:flex;\n",
              "      flex-wrap:wrap;\n",
              "      gap: 12px;\n",
              "    }\n",
              "\n",
              "    .colab-df-convert {\n",
              "      background-color: #E8F0FE;\n",
              "      border: none;\n",
              "      border-radius: 50%;\n",
              "      cursor: pointer;\n",
              "      display: none;\n",
              "      fill: #1967D2;\n",
              "      height: 32px;\n",
              "      padding: 0 0 0 0;\n",
              "      width: 32px;\n",
              "    }\n",
              "\n",
              "    .colab-df-convert:hover {\n",
              "      background-color: #E2EBFA;\n",
              "      box-shadow: 0px 1px 2px rgba(60, 64, 67, 0.3), 0px 1px 3px 1px rgba(60, 64, 67, 0.15);\n",
              "      fill: #174EA6;\n",
              "    }\n",
              "\n",
              "    [theme=dark] .colab-df-convert {\n",
              "      background-color: #3B4455;\n",
              "      fill: #D2E3FC;\n",
              "    }\n",
              "\n",
              "    [theme=dark] .colab-df-convert:hover {\n",
              "      background-color: #434B5C;\n",
              "      box-shadow: 0px 1px 3px 1px rgba(0, 0, 0, 0.15);\n",
              "      filter: drop-shadow(0px 1px 2px rgba(0, 0, 0, 0.3));\n",
              "      fill: #FFFFFF;\n",
              "    }\n",
              "  </style>\n",
              "\n",
              "      <script>\n",
              "        const buttonEl =\n",
              "          document.querySelector('#df-b7b2b214-5644-4a6f-84af-561c96e62e77 button.colab-df-convert');\n",
              "        buttonEl.style.display =\n",
              "          google.colab.kernel.accessAllowed ? 'block' : 'none';\n",
              "\n",
              "        async function convertToInteractive(key) {\n",
              "          const element = document.querySelector('#df-b7b2b214-5644-4a6f-84af-561c96e62e77');\n",
              "          const dataTable =\n",
              "            await google.colab.kernel.invokeFunction('convertToInteractive',\n",
              "                                                     [key], {});\n",
              "          if (!dataTable) return;\n",
              "\n",
              "          const docLinkHtml = 'Like what you see? Visit the ' +\n",
              "            '<a target=\"_blank\" href=https://colab.research.google.com/notebooks/data_table.ipynb>data table notebook</a>'\n",
              "            + ' to learn more about interactive tables.';\n",
              "          element.innerHTML = '';\n",
              "          dataTable['output_type'] = 'display_data';\n",
              "          await google.colab.output.renderOutput(dataTable, element);\n",
              "          const docLink = document.createElement('div');\n",
              "          docLink.innerHTML = docLinkHtml;\n",
              "          element.appendChild(docLink);\n",
              "        }\n",
              "      </script>\n",
              "    </div>\n",
              "  </div>\n",
              "  "
            ]
          },
          "metadata": {},
          "execution_count": 834
        }
      ]
    },
    {
      "cell_type": "code",
      "source": [
        "brc = df_br3['Year']\n",
        "brd = df_br3['Value']\n",
        "\n",
        "brc_train, brc_test, brd_train, brd_test = train_test_split(brc, brd, test_size=0.2, random_state=42)"
      ],
      "metadata": {
        "id": "yxMckXcIWPHH"
      },
      "execution_count": null,
      "outputs": []
    },
    {
      "cell_type": "code",
      "source": [
        "scaler6 = StandardScaler()\n",
        "\n",
        "brc_train = brc_train.values.reshape(-1, 1)\n",
        "\n",
        "brc_train = scaler6.fit_transform(brc_train)\n",
        "\n",
        "brc_test = brc_test.values.reshape(-1, 1)\n",
        "brc_test = scaler6.transform(brc_test)"
      ],
      "metadata": {
        "id": "WaUJqa9oWPJr"
      },
      "execution_count": null,
      "outputs": []
    },
    {
      "cell_type": "code",
      "source": [
        "rgr3 = LinearRegression()\n",
        "rgr3.fit(brc_train, brd_train)"
      ],
      "metadata": {
        "colab": {
          "base_uri": "https://localhost:8080/",
          "height": 75
        },
        "id": "-aFs_nfqUTHE",
        "outputId": "c66f5344-a3b7-40d9-f304-9817f956c2a3"
      },
      "execution_count": null,
      "outputs": [
        {
          "output_type": "execute_result",
          "data": {
            "text/plain": [
              "LinearRegression()"
            ],
            "text/html": [
              "<style>#sk-container-id-57 {color: black;background-color: white;}#sk-container-id-57 pre{padding: 0;}#sk-container-id-57 div.sk-toggleable {background-color: white;}#sk-container-id-57 label.sk-toggleable__label {cursor: pointer;display: block;width: 100%;margin-bottom: 0;padding: 0.3em;box-sizing: border-box;text-align: center;}#sk-container-id-57 label.sk-toggleable__label-arrow:before {content: \"▸\";float: left;margin-right: 0.25em;color: #696969;}#sk-container-id-57 label.sk-toggleable__label-arrow:hover:before {color: black;}#sk-container-id-57 div.sk-estimator:hover label.sk-toggleable__label-arrow:before {color: black;}#sk-container-id-57 div.sk-toggleable__content {max-height: 0;max-width: 0;overflow: hidden;text-align: left;background-color: #f0f8ff;}#sk-container-id-57 div.sk-toggleable__content pre {margin: 0.2em;color: black;border-radius: 0.25em;background-color: #f0f8ff;}#sk-container-id-57 input.sk-toggleable__control:checked~div.sk-toggleable__content {max-height: 200px;max-width: 100%;overflow: auto;}#sk-container-id-57 input.sk-toggleable__control:checked~label.sk-toggleable__label-arrow:before {content: \"▾\";}#sk-container-id-57 div.sk-estimator input.sk-toggleable__control:checked~label.sk-toggleable__label {background-color: #d4ebff;}#sk-container-id-57 div.sk-label input.sk-toggleable__control:checked~label.sk-toggleable__label {background-color: #d4ebff;}#sk-container-id-57 input.sk-hidden--visually {border: 0;clip: rect(1px 1px 1px 1px);clip: rect(1px, 1px, 1px, 1px);height: 1px;margin: -1px;overflow: hidden;padding: 0;position: absolute;width: 1px;}#sk-container-id-57 div.sk-estimator {font-family: monospace;background-color: #f0f8ff;border: 1px dotted black;border-radius: 0.25em;box-sizing: border-box;margin-bottom: 0.5em;}#sk-container-id-57 div.sk-estimator:hover {background-color: #d4ebff;}#sk-container-id-57 div.sk-parallel-item::after {content: \"\";width: 100%;border-bottom: 1px solid gray;flex-grow: 1;}#sk-container-id-57 div.sk-label:hover label.sk-toggleable__label {background-color: #d4ebff;}#sk-container-id-57 div.sk-serial::before {content: \"\";position: absolute;border-left: 1px solid gray;box-sizing: border-box;top: 0;bottom: 0;left: 50%;z-index: 0;}#sk-container-id-57 div.sk-serial {display: flex;flex-direction: column;align-items: center;background-color: white;padding-right: 0.2em;padding-left: 0.2em;position: relative;}#sk-container-id-57 div.sk-item {position: relative;z-index: 1;}#sk-container-id-57 div.sk-parallel {display: flex;align-items: stretch;justify-content: center;background-color: white;position: relative;}#sk-container-id-57 div.sk-item::before, #sk-container-id-57 div.sk-parallel-item::before {content: \"\";position: absolute;border-left: 1px solid gray;box-sizing: border-box;top: 0;bottom: 0;left: 50%;z-index: -1;}#sk-container-id-57 div.sk-parallel-item {display: flex;flex-direction: column;z-index: 1;position: relative;background-color: white;}#sk-container-id-57 div.sk-parallel-item:first-child::after {align-self: flex-end;width: 50%;}#sk-container-id-57 div.sk-parallel-item:last-child::after {align-self: flex-start;width: 50%;}#sk-container-id-57 div.sk-parallel-item:only-child::after {width: 0;}#sk-container-id-57 div.sk-dashed-wrapped {border: 1px dashed gray;margin: 0 0.4em 0.5em 0.4em;box-sizing: border-box;padding-bottom: 0.4em;background-color: white;}#sk-container-id-57 div.sk-label label {font-family: monospace;font-weight: bold;display: inline-block;line-height: 1.2em;}#sk-container-id-57 div.sk-label-container {text-align: center;}#sk-container-id-57 div.sk-container {/* jupyter's `normalize.less` sets `[hidden] { display: none; }` but bootstrap.min.css set `[hidden] { display: none !important; }` so we also need the `!important` here to be able to override the default hidden behavior on the sphinx rendered scikit-learn.org. See: https://github.com/scikit-learn/scikit-learn/issues/21755 */display: inline-block !important;position: relative;}#sk-container-id-57 div.sk-text-repr-fallback {display: none;}</style><div id=\"sk-container-id-57\" class=\"sk-top-container\"><div class=\"sk-text-repr-fallback\"><pre>LinearRegression()</pre><b>In a Jupyter environment, please rerun this cell to show the HTML representation or trust the notebook. <br />On GitHub, the HTML representation is unable to render, please try loading this page with nbviewer.org.</b></div><div class=\"sk-container\" hidden><div class=\"sk-item\"><div class=\"sk-estimator sk-toggleable\"><input class=\"sk-toggleable__control sk-hidden--visually\" id=\"sk-estimator-id-57\" type=\"checkbox\" checked><label for=\"sk-estimator-id-57\" class=\"sk-toggleable__label sk-toggleable__label-arrow\">LinearRegression</label><div class=\"sk-toggleable__content\"><pre>LinearRegression()</pre></div></div></div></div></div>"
            ]
          },
          "metadata": {},
          "execution_count": 837
        }
      ]
    },
    {
      "cell_type": "code",
      "source": [
        "score6 = rgr3.score(brc_test, brd_test)\n",
        "print(\"Coeficiente de determinação (R²):\", score6)"
      ],
      "metadata": {
        "colab": {
          "base_uri": "https://localhost:8080/"
        },
        "id": "Eg8tkqxnUTJk",
        "outputId": "8438c549-832f-44ed-bcad-ead9f0670d2d"
      },
      "execution_count": null,
      "outputs": [
        {
          "output_type": "stream",
          "name": "stdout",
          "text": [
            "Coeficiente de determinação (R²): 0.051544654179918825\n"
          ]
        }
      ]
    },
    {
      "cell_type": "code",
      "source": [
        "brc_new = scaler6.transform(brc_test)\n",
        "brd_pred = rgr3.predict(brc_new)"
      ],
      "metadata": {
        "id": "jVJ9bL3dUTMG"
      },
      "execution_count": null,
      "outputs": []
    },
    {
      "cell_type": "code",
      "source": [
        "years6 = [2030, 2050]\n",
        "brc_new = pd.DataFrame({'Year': years6})"
      ],
      "metadata": {
        "id": "F7sM2XmoUTOT"
      },
      "execution_count": null,
      "outputs": []
    },
    {
      "cell_type": "code",
      "source": [
        "brd_pred = rgr3.predict(brc_new)"
      ],
      "metadata": {
        "colab": {
          "base_uri": "https://localhost:8080/"
        },
        "id": "6k_lVRKOUTUY",
        "outputId": "9c440903-b34a-40ba-cb4a-ab77877c6974"
      },
      "execution_count": null,
      "outputs": [
        {
          "output_type": "stream",
          "name": "stderr",
          "text": [
            "/usr/local/lib/python3.10/dist-packages/sklearn/base.py:432: UserWarning: X has feature names, but LinearRegression was fitted without feature names\n",
            "  warnings.warn(\n"
          ]
        }
      ]
    },
    {
      "cell_type": "code",
      "source": [
        "for year, prediction in zip(years6, brd_pred):\n",
        "    print(f\"Previsão de produção para o ano {year}: {prediction}\")"
      ],
      "metadata": {
        "colab": {
          "base_uri": "https://localhost:8080/"
        },
        "id": "Qt-Sd1aOUTXb",
        "outputId": "cba6bc61-15f5-468e-e13c-18c85d8a3fb1"
      },
      "execution_count": null,
      "outputs": [
        {
          "output_type": "stream",
          "name": "stdout",
          "text": [
            "Previsão de produção para o ano 2030: 46730757.73705198\n",
            "Previsão de produção para o ano 2050: 47190282.305466026\n"
          ]
        }
      ]
    },
    {
      "cell_type": "markdown",
      "source": [
        "#2.b - Relatório\n",
        "\n",
        "Já a previsão atual foi realizada filtrando apenas o Brasil como país, para entender melhor a capacidade de produção e a previsão de produção, vale ressaltar que o Brasil é um país com uma grande capacidade de produção agro, sendo um dos maiores produtores e exportadores de alimentos do mundo. Dessa forma também realizamos a separação entre as unidades de medida, gerandos os seguintes resultados:\n",
        "\n",
        "---\n",
        "\n",
        "2030\n",
        "\n",
        "1.   Toneladas: 7.756.223.481\n",
        "2.   Hectares: 369.118.895.38\n",
        "3.   Hectogramas: 46.730.757,73\n",
        "\n",
        "---\n",
        "\n",
        "2050\n",
        "\n",
        "1.   Toneladas: 7.680.619.559\n",
        "2.   Hectares: 365.526.573,41\n",
        "3.   Hectogramas: 47.190.282,30\n",
        "\n",
        "---\n",
        "\n",
        "O modelo de regressão não apresentou uma boa performance para previsão de valores de toneladas no Brasil, apresentando um aumento exorbitante da produção, ultrapassando até mesmo a produção mundial, mas seguindo esses parâmetros não é possível ver uma diferença realmente grande entre as predições de 2030 e 2050, dessa forma podemos dizer que são neutras."
      ],
      "metadata": {
        "id": "30C5vIE11WAl"
      }
    },
    {
      "cell_type": "markdown",
      "source": [
        "#3 - Modelo generativo -\n",
        "\n",
        "A inteligência artifical pode e deve ser aplicada ao combate a fome de várias formas diferentes. A tecnologia pode implementar e melhorar diversos pontos no setor agro desde a base até mesmo a distriobuição, consumo e descartre dos alimentos. Podendo apresentar melhorias em sistemas agrícolas, aumentar e facilitar o acesso a informação,promovendo segurança alimentar e disseminando conhecimento, incentivando a sustentabilidade e também promovendo meios de distribuição de forma mais igualitária.\n",
        "\n",
        "Uma possibilidade de solução é a implementação de um assistente virtual que possa reconhecer alimentos, passar informações, auxiliar em agricultura doméstica e familiar, ajudar com qualidade dos alimentos e informações nutricionais, um serviço que pudesse ser integrado a rede pública e também oferecesse uma rede de apoio para quem se encontra em situação de insegurança alimentar, direcionando o usuário para locais que podem prover alimentos de baixo custo ou benefícios sociais.\n",
        "\n",
        "Porém é fácil notar que esses serviços de IA podem facilmente passar por questões de alucinações, como passar uma mensagem com muita certeza para o usuário sem que tenha um embasamento cientifico de fato para tal informação, podendo oferecer perigo quando se tratando de questões alimentares e de saúde pública. Uma maneira de diminuir ou amenizar esse problema, é manter o modelo generativo com uma base de dados concreta com embasamento científico, podendo sugerir inclusive fontes confiáveis juntamente com a informação passada ao usuário."
      ],
      "metadata": {
        "id": "sdoCywbXvKQC"
      }
    },
    {
      "cell_type": "markdown",
      "source": [
        "96409 - Leonardo Guimarães de Lima Marques\n",
        "\n",
        "96906 - Mariana Marques Sabio\n",
        "\n",
        "96881 - Vinícius de Abreu Pena\n",
        "\n",
        "97385 - José Carlos da Silva\n",
        "\n",
        "97569 - Maria Luiza de Goveia Lima"
      ],
      "metadata": {
        "id": "_vlnb15g78MK"
      }
    }
  ]
}